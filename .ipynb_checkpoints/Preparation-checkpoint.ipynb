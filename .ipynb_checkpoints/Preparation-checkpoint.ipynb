{
 "cells": [
  {
   "cell_type": "markdown",
   "id": "19024ba2-61f6-4abc-90c8-d80a1a898dfb",
   "metadata": {},
   "source": [
    "### Defining the documents "
   ]
  },
  {
   "cell_type": "code",
   "execution_count": 55,
   "id": "3ebf1306-a149-40bc-9b4b-b3f0bafe6e56",
   "metadata": {},
   "outputs": [
    {
     "name": "stderr",
     "output_type": "stream",
     "text": [
      "also installing the dependencies ‘MatrixExtra’, ‘float’, ‘RhpcBLASctl’, ‘RcppArmadillo’, ‘rsparse’, ‘mlapi’, ‘lgr’\n",
      "\n",
      "\n",
      "Updating HTML index of packages in '.Library'\n",
      "\n",
      "Making 'packages.html' ...\n",
      " done\n",
      "\n"
     ]
    }
   ],
   "source": [
    "install.packages(\"text2vec\")"
   ]
  },
  {
   "cell_type": "code",
   "execution_count": 33,
   "id": "622949e8-ec4b-43b2-a21c-955ca3bad416",
   "metadata": {},
   "outputs": [
    {
     "name": "stderr",
     "output_type": "stream",
     "text": [
      "Updating HTML index of packages in '.Library'\n",
      "\n",
      "Making 'packages.html' ...\n",
      " done\n",
      "\n"
     ]
    }
   ],
   "source": [
    "install.packages(\"glmnet\")"
   ]
  },
  {
   "cell_type": "code",
   "execution_count": 34,
   "id": "c56eb5c0-2e01-4f19-8676-41c8592b5b62",
   "metadata": {},
   "outputs": [
    {
     "name": "stderr",
     "output_type": "stream",
     "text": [
      "Updating HTML index of packages in '.Library'\n",
      "\n",
      "Making 'packages.html' ...\n",
      " done\n",
      "\n"
     ]
    }
   ],
   "source": [
    "install.packages(\"wordcloud\")"
   ]
  },
  {
   "cell_type": "code",
   "execution_count": 35,
   "id": "2644c7f7-08d2-40ad-b242-815e549481d1",
   "metadata": {},
   "outputs": [
    {
     "name": "stderr",
     "output_type": "stream",
     "text": [
      "Updating HTML index of packages in '.Library'\n",
      "\n",
      "Making 'packages.html' ...\n",
      " done\n",
      "\n"
     ]
    }
   ],
   "source": [
    "install.packages(\"plotly\")"
   ]
  },
  {
   "cell_type": "code",
   "execution_count": 36,
   "id": "04b41eca-51cc-44c4-ace5-3a24d7d74485",
   "metadata": {},
   "outputs": [
    {
     "name": "stderr",
     "output_type": "stream",
     "text": [
      "Updating HTML index of packages in '.Library'\n",
      "\n",
      "Making 'packages.html' ...\n",
      " done\n",
      "\n"
     ]
    }
   ],
   "source": [
    "install.packages(\"rvest\")"
   ]
  },
  {
   "cell_type": "code",
   "execution_count": 37,
   "id": "9885e64f-80d5-464d-b1c1-c8a868ddb8cc",
   "metadata": {},
   "outputs": [
    {
     "name": "stderr",
     "output_type": "stream",
     "text": [
      "Updating HTML index of packages in '.Library'\n",
      "\n",
      "Making 'packages.html' ...\n",
      " done\n",
      "\n"
     ]
    }
   ],
   "source": [
    "install.packages(\"tm\")"
   ]
  },
  {
   "cell_type": "code",
   "execution_count": 38,
   "id": "1c49d1e3-14d9-4b21-afa3-4535b2b58403",
   "metadata": {},
   "outputs": [
    {
     "name": "stderr",
     "output_type": "stream",
     "text": [
      "Updating HTML index of packages in '.Library'\n",
      "\n",
      "Making 'packages.html' ...\n",
      " done\n",
      "\n"
     ]
    }
   ],
   "source": [
    "install.packages(\"SnowballC\")"
   ]
  },
  {
   "cell_type": "code",
   "execution_count": 1,
   "id": "cc7fae76-7373-461e-824b-52db50d20cf0",
   "metadata": {},
   "outputs": [],
   "source": [
    "doc1 <- \"HS650: The Data Science and Predictive Analytics (DSPA) course (offered\n",
    "as a massive open online course, MOOC, as well as a traditional University of\n",
    "Michigan class) aims to build computational abilities, inferential thinking, and\n",
    "practical skills for tackling core data scientific challenges. It explores\n",
    "foundational concepts in data management, processing, statistical computing, and\n",
    "dynamic visualization using modern programming tools and agile web-services.\n",
    "Concepts, ideas, and protocols are illustrated through examples of real\n",
    "observational, simulated and research-derived datasets. Some prior quantitative\n",
    "experience in programming, calculus, statistics, mathematical models, or linear\n",
    "algebra will be necessary. This open graduate course will provide a general\n",
    "overview of the principles, concepts, techniques, tools and services for\n",
    "managing, harmonizing, aggregating, preprocessing, modeling, analyzing and\n",
    "interpreting large, multi-source, incomplete, incongruent, and heterogeneous data\n",
    "(big data). The focus will be to expose students to common challenges related to\n",
    "handling big data and present the enormous opportunities and power associated\n",
    "with our ability to interrogate such complex datasets, extract useful\n",
    "information, derive knowledge, and provide actionable forecasting. Biomedical,\n",
    "healthcare, and social datasets will provide context for addressing specific\n",
    "driving challenges. Students will learn about modern data analytic techniques and\n",
    "develop skills for importing and exporting, cleaning and fusing, modeling and\n",
    "visualizing, analyzing and synthesizing complex datasets. The collaborative\n",
    "design, implementation, sharing and community validation of high-throughput\n",
    "analytic workflows will be emphasized thorought the course.\"\n",
    "\n",
    "doc2 <- \" Bioinformatics 501: The Mathematical Foundations for Bioinformatics\n",
    "course covers some of the fundamental mathematical techniques commonly used in\n",
    "bioinformatics and biomedical research. These include: 1) principles of multi-\n",
    "variable calculus, and complex numbers/functions, 2) foundations of linear\n",
    "algebra, such as linear spaces, eigen-values and vectors, singular value\n",
    "decomposition, spectral graph theory and Markov chains, 3) differential equations\n",
    "and their usage in biomedical system, which includes topic such as existence and\n",
    "uniqueness of solutions, two dimensional linear systems, bifurcations in one and\n",
    "two dimensional systems and cellular dynamics, and 4) optimization methods, such\n",
    "as free and constrained optimization, Lagrange multipliers, data denoising using\n",
    "optimization and heuristic methods. Demonstrations using MATLAB, R, and Python\n",
    "are included throughout the course.\"\n",
    "\n",
    "doc3 <- \"HS 853: This course covers a number of modern analytical methods for\n",
    "advanced healthcare research. Specific focus will be on reviewing and using\n",
    "innovative modeling, computational, analytic and visualization techniques to\n",
    "address concrete driving biomedical and healthcare applications. The course will\n",
    "cover the 5 dimensions of big data (volume, complexity, multiple scales, multiple\n",
    "sources, and incompleteness). HS853 is a 4 credit hour course (3 lectures + 1\n",
    "lab/discussion). Students will learn how to conduct research, employ and report\n",
    "on recent advanced health sciences analytical methods; read, comprehend and\n",
    "present recent reports of innovative scientific methods; apply a broad range of\n",
    "health problems; and experiment with real big data. Topics Covered include:\n",
    "Foundations of R, Scientific Visualization, Review of Multivariate and Mixed\n",
    "Linear Models, Causality/Causal Inference and Structural Equation Models,\n",
    "Generalized Estimating Equations, PCOR/CER methods Heterogeneity of Treatment\n",
    "Effects, big data, Big-Science, Internal statistical cross-validation, Missing\n",
    "data, Genotype-Environment-Phenotype, associations, Variable selection\n",
    "(regularized regression and controlled/knockoff filtering), medical imaging,\n",
    "Databases/registries, Meta-analyses, classification methods, Longitudinal data\n",
    "and time-series analysis, Geographic Information Systems (GIS), Psychometrics and\n",
    "Rasch measurement model analysis, MCMC sampling for Bayesian inference, and\n",
    "Network Analysis\"\n",
    "\n",
    "doc4 <- \"HS 851: This course introduces students to applied inference methods in\n",
    "studies involving multiple variables. Specific methods that will be discussed\n",
    "include linear regression, analysis of variance, and different regression models.\n",
    "This course will emphasize the scientific formulation, analytical modeling,\n",
    "computational tools and applied statistical inference in diverse health-sciences\n",
    "problems. Data interrogation, modeling approaches, rigorous interpretation and\n",
    "inference will be emphasized throughout. HS851 is a 4 credit hour course (3\n",
    "lectures + 1 lab/discussion). Students will learn how to: Understand the\n",
    "commonly used statistical methods of published scientific papers , Conduct\n",
    "statistical calculations/analyses on available data , Use software tools to\n",
    "analyze specific case-studies data , Communicate advanced statistical\n",
    "concepts/techniques , Determine, explain and interpret assumptions and\n",
    "limitations. Topics Covered include Epidemiology , Correlation/SLR , and slope\n",
    "inference, 1-2 samples , ROC Curve , ANOVA , Non-parametric inference ,\n",
    "Cronbach's $\\alpha$, Measurement Reliability/Validity , Survival Analysis ,\n",
    "Decision theory , CLT/LLNs - limiting results and misconceptions , Association\n",
    "Tests , Bayesian Inference , PCA/ICA/Factor Analysis , Point/Interval Estimation\n",
    "(CI) - MoM, MLE , Instrument performance Evaluation , Study/Research Critiques ,\n",
    "Common mistakes and misconceptions in using probability and statistics,\n",
    "identifying potential assumption violations, and avoiding them.\"\n",
    "\n",
    "doc5 <- \"HS550: This course provides students with an introduction to probability\n",
    "reasoning and statistical inference. Students will learn theoretical concepts and\n",
    "apply analytic skills for collecting, managing, modeling, processing,\n",
    "interpreting and visualizing (mostly univariate) data. Students will learn the\n",
    "basic probability modeling and statistical analysis methods and acquire knowledge\n",
    "to read recently published health research publications. HS550 is a 4 credit hour\n",
    "course (3 lectures + 1 lab/discussion). Students will learn how to: Apply data\n",
    "management strategies to sample data files , Carry out statistical tests to answer common healthcare research questions using appropriate methods and\n",
    "software tools , Understand the core analytical data modeling techniques and\n",
    "their appropriate use Examples of Topics Covered , EDA/Charts , Ubiquitous\n",
    "variation , Parametric inference , Probability Theory , Odds Ratio/Relative Risk\n",
    ", Distributions , Exploratory data analysis , Resampling/Simulation , Design of\n",
    "Experiments , Intro to Epidemiology , Estimation , Hypothesis testing ,\n",
    "Experiments vs. Observational studies , Data management (tables, streams, cloud,\n",
    "warehouses, DBs, arrays, binary, ASCII, handling, mechanics) , Power, sample-\n",
    "size, effect-size, sensitivity, specificity , Bias/Precision , Association vs.\n",
    "Causality , Rate-of-change , Clinical vs. Stat significance , Statistical\n",
    "Independence Bayesian Rule.\""
   ]
  },
  {
   "cell_type": "markdown",
   "id": "08685d68-1fb3-4938-832b-77205b0347f5",
   "metadata": {},
   "source": [
    "### Creating a new Vcorpus Object "
   ]
  },
  {
   "cell_type": "code",
   "execution_count": 2,
   "id": "2f9ee1f0-72ec-46ea-bcc7-89e6241576f7",
   "metadata": {},
   "outputs": [
    {
     "data": {
      "text/html": [
       "'character'"
      ],
      "text/latex": [
       "'character'"
      ],
      "text/markdown": [
       "'character'"
      ],
      "text/plain": [
       "[1] \"character\""
      ]
     },
     "metadata": {},
     "output_type": "display_data"
    }
   ],
   "source": [
    "docs <- c(doc1, doc2, doc3, doc4, doc5)\n",
    "class(docs) ## [1] \"character\""
   ]
  },
  {
   "cell_type": "code",
   "execution_count": 3,
   "id": "874c5cd6-c717-4260-be17-97f7b37fad16",
   "metadata": {},
   "outputs": [
    {
     "name": "stderr",
     "output_type": "stream",
     "text": [
      "Loading required package: NLP\n",
      "\n"
     ]
    },
    {
     "data": {
      "text/plain": [
       "<<VCorpus>>\n",
       "Metadata:  corpus specific: 0, document level (indexed): 0\n",
       "Content:  documents: 5"
      ]
     },
     "metadata": {},
     "output_type": "display_data"
    },
    {
     "data": {
      "text/html": [
       "'HS650: The Data Science and Predictive Analytics (DSPA) course (offered\\nas a massive open online course, MOOC, as well as a traditional University of\\nMichigan class) aims to build computational abilities, inferential thinking, and\\npractical skills for tackling core data scientific challenges. It explores\\nfoundational concepts in data management, processing, statistical computing, and\\ndynamic visualization using modern programming tools and agile web-services.\\nConcepts, ideas, and protocols are illustrated through examples of real\\nobservational, simulated and research-derived datasets. Some prior quantitative\\nexperience in programming, calculus, statistics, mathematical models, or linear\\nalgebra will be necessary. This open graduate course will provide a general\\noverview of the principles, concepts, techniques, tools and services for\\nmanaging, harmonizing, aggregating, preprocessing, modeling, analyzing and\\ninterpreting large, multi-source, incomplete, incongruent, and heterogeneous data\\n(big data). The focus will be to expose students to common challenges related to\\nhandling big data and present the enormous opportunities and power associated\\nwith our ability to interrogate such complex datasets, extract useful\\ninformation, derive knowledge, and provide actionable forecasting. Biomedical,\\nhealthcare, and social datasets will provide context for addressing specific\\ndriving challenges. Students will learn about modern data analytic techniques and\\ndevelop skills for importing and exporting, cleaning and fusing, modeling and\\nvisualizing, analyzing and synthesizing complex datasets. The collaborative\\ndesign, implementation, sharing and community validation of high-throughput\\nanalytic workflows will be emphasized thorought the course.'"
      ],
      "text/latex": [
       "'HS650: The Data Science and Predictive Analytics (DSPA) course (offered\\textbackslash{}nas a massive open online course, MOOC, as well as a traditional University of\\textbackslash{}nMichigan class) aims to build computational abilities, inferential thinking, and\\textbackslash{}npractical skills for tackling core data scientific challenges. It explores\\textbackslash{}nfoundational concepts in data management, processing, statistical computing, and\\textbackslash{}ndynamic visualization using modern programming tools and agile web-services.\\textbackslash{}nConcepts, ideas, and protocols are illustrated through examples of real\\textbackslash{}nobservational, simulated and research-derived datasets. Some prior quantitative\\textbackslash{}nexperience in programming, calculus, statistics, mathematical models, or linear\\textbackslash{}nalgebra will be necessary. This open graduate course will provide a general\\textbackslash{}noverview of the principles, concepts, techniques, tools and services for\\textbackslash{}nmanaging, harmonizing, aggregating, preprocessing, modeling, analyzing and\\textbackslash{}ninterpreting large, multi-source, incomplete, incongruent, and heterogeneous data\\textbackslash{}n(big data). The focus will be to expose students to common challenges related to\\textbackslash{}nhandling big data and present the enormous opportunities and power associated\\textbackslash{}nwith our ability to interrogate such complex datasets, extract useful\\textbackslash{}ninformation, derive knowledge, and provide actionable forecasting. Biomedical,\\textbackslash{}nhealthcare, and social datasets will provide context for addressing specific\\textbackslash{}ndriving challenges. Students will learn about modern data analytic techniques and\\textbackslash{}ndevelop skills for importing and exporting, cleaning and fusing, modeling and\\textbackslash{}nvisualizing, analyzing and synthesizing complex datasets. The collaborative\\textbackslash{}ndesign, implementation, sharing and community validation of high-throughput\\textbackslash{}nanalytic workflows will be emphasized thorought the course.'"
      ],
      "text/markdown": [
       "'HS650: The Data Science and Predictive Analytics (DSPA) course (offered\\nas a massive open online course, MOOC, as well as a traditional University of\\nMichigan class) aims to build computational abilities, inferential thinking, and\\npractical skills for tackling core data scientific challenges. It explores\\nfoundational concepts in data management, processing, statistical computing, and\\ndynamic visualization using modern programming tools and agile web-services.\\nConcepts, ideas, and protocols are illustrated through examples of real\\nobservational, simulated and research-derived datasets. Some prior quantitative\\nexperience in programming, calculus, statistics, mathematical models, or linear\\nalgebra will be necessary. This open graduate course will provide a general\\noverview of the principles, concepts, techniques, tools and services for\\nmanaging, harmonizing, aggregating, preprocessing, modeling, analyzing and\\ninterpreting large, multi-source, incomplete, incongruent, and heterogeneous data\\n(big data). The focus will be to expose students to common challenges related to\\nhandling big data and present the enormous opportunities and power associated\\nwith our ability to interrogate such complex datasets, extract useful\\ninformation, derive knowledge, and provide actionable forecasting. Biomedical,\\nhealthcare, and social datasets will provide context for addressing specific\\ndriving challenges. Students will learn about modern data analytic techniques and\\ndevelop skills for importing and exporting, cleaning and fusing, modeling and\\nvisualizing, analyzing and synthesizing complex datasets. The collaborative\\ndesign, implementation, sharing and community validation of high-throughput\\nanalytic workflows will be emphasized thorought the course.'"
      ],
      "text/plain": [
       "[1] \"HS650: The Data Science and Predictive Analytics (DSPA) course (offered\\nas a massive open online course, MOOC, as well as a traditional University of\\nMichigan class) aims to build computational abilities, inferential thinking, and\\npractical skills for tackling core data scientific challenges. It explores\\nfoundational concepts in data management, processing, statistical computing, and\\ndynamic visualization using modern programming tools and agile web-services.\\nConcepts, ideas, and protocols are illustrated through examples of real\\nobservational, simulated and research-derived datasets. Some prior quantitative\\nexperience in programming, calculus, statistics, mathematical models, or linear\\nalgebra will be necessary. This open graduate course will provide a general\\noverview of the principles, concepts, techniques, tools and services for\\nmanaging, harmonizing, aggregating, preprocessing, modeling, analyzing and\\ninterpreting large, multi-source, incomplete, incongruent, and heterogeneous data\\n(big data). The focus will be to expose students to common challenges related to\\nhandling big data and present the enormous opportunities and power associated\\nwith our ability to interrogate such complex datasets, extract useful\\ninformation, derive knowledge, and provide actionable forecasting. Biomedical,\\nhealthcare, and social datasets will provide context for addressing specific\\ndriving challenges. Students will learn about modern data analytic techniques and\\ndevelop skills for importing and exporting, cleaning and fusing, modeling and\\nvisualizing, analyzing and synthesizing complex datasets. The collaborative\\ndesign, implementation, sharing and community validation of high-throughput\\nanalytic workflows will be emphasized thorought the course.\""
      ]
     },
     "metadata": {},
     "output_type": "display_data"
    }
   ],
   "source": [
    "library(tm) \n",
    "doc_corpus <- VCorpus(VectorSource(docs))\n",
    "doc_corpus ## Content : documents : 5\n",
    "doc_corpus[[1]]$content "
   ]
  },
  {
   "cell_type": "markdown",
   "id": "44b0a1c4-e34b-4198-9335-b64be1e83266",
   "metadata": {},
   "source": [
    "### Transform Text to LowerCase"
   ]
  },
  {
   "cell_type": "code",
   "execution_count": 4,
   "id": "9f6ff1f3-21f6-43ae-af22-cf72fbc2bb35",
   "metadata": {},
   "outputs": [
    {
     "data": {
      "text/html": [
       "'hs650: the data science and predictive analytics (dspa) course (offered\\nas a massive open online course, mooc, as well as a traditional university of\\nmichigan class) aims to build computational abilities, inferential thinking, and\\npractical skills for tackling core data scientific challenges. it explores\\nfoundational concepts in data management, processing, statistical computing, and\\ndynamic visualization using modern programming tools and agile web-services.\\nconcepts, ideas, and protocols are illustrated through examples of real\\nobservational, simulated and research-derived datasets. some prior quantitative\\nexperience in programming, calculus, statistics, mathematical models, or linear\\nalgebra will be necessary. this open graduate course will provide a general\\noverview of the principles, concepts, techniques, tools and services for\\nmanaging, harmonizing, aggregating, preprocessing, modeling, analyzing and\\ninterpreting large, multi-source, incomplete, incongruent, and heterogeneous data\\n(big data). the focus will be to expose students to common challenges related to\\nhandling big data and present the enormous opportunities and power associated\\nwith our ability to interrogate such complex datasets, extract useful\\ninformation, derive knowledge, and provide actionable forecasting. biomedical,\\nhealthcare, and social datasets will provide context for addressing specific\\ndriving challenges. students will learn about modern data analytic techniques and\\ndevelop skills for importing and exporting, cleaning and fusing, modeling and\\nvisualizing, analyzing and synthesizing complex datasets. the collaborative\\ndesign, implementation, sharing and community validation of high-throughput\\nanalytic workflows will be emphasized thorought the course.'"
      ],
      "text/latex": [
       "'hs650: the data science and predictive analytics (dspa) course (offered\\textbackslash{}nas a massive open online course, mooc, as well as a traditional university of\\textbackslash{}nmichigan class) aims to build computational abilities, inferential thinking, and\\textbackslash{}npractical skills for tackling core data scientific challenges. it explores\\textbackslash{}nfoundational concepts in data management, processing, statistical computing, and\\textbackslash{}ndynamic visualization using modern programming tools and agile web-services.\\textbackslash{}nconcepts, ideas, and protocols are illustrated through examples of real\\textbackslash{}nobservational, simulated and research-derived datasets. some prior quantitative\\textbackslash{}nexperience in programming, calculus, statistics, mathematical models, or linear\\textbackslash{}nalgebra will be necessary. this open graduate course will provide a general\\textbackslash{}noverview of the principles, concepts, techniques, tools and services for\\textbackslash{}nmanaging, harmonizing, aggregating, preprocessing, modeling, analyzing and\\textbackslash{}ninterpreting large, multi-source, incomplete, incongruent, and heterogeneous data\\textbackslash{}n(big data). the focus will be to expose students to common challenges related to\\textbackslash{}nhandling big data and present the enormous opportunities and power associated\\textbackslash{}nwith our ability to interrogate such complex datasets, extract useful\\textbackslash{}ninformation, derive knowledge, and provide actionable forecasting. biomedical,\\textbackslash{}nhealthcare, and social datasets will provide context for addressing specific\\textbackslash{}ndriving challenges. students will learn about modern data analytic techniques and\\textbackslash{}ndevelop skills for importing and exporting, cleaning and fusing, modeling and\\textbackslash{}nvisualizing, analyzing and synthesizing complex datasets. the collaborative\\textbackslash{}ndesign, implementation, sharing and community validation of high-throughput\\textbackslash{}nanalytic workflows will be emphasized thorought the course.'"
      ],
      "text/markdown": [
       "'hs650: the data science and predictive analytics (dspa) course (offered\\nas a massive open online course, mooc, as well as a traditional university of\\nmichigan class) aims to build computational abilities, inferential thinking, and\\npractical skills for tackling core data scientific challenges. it explores\\nfoundational concepts in data management, processing, statistical computing, and\\ndynamic visualization using modern programming tools and agile web-services.\\nconcepts, ideas, and protocols are illustrated through examples of real\\nobservational, simulated and research-derived datasets. some prior quantitative\\nexperience in programming, calculus, statistics, mathematical models, or linear\\nalgebra will be necessary. this open graduate course will provide a general\\noverview of the principles, concepts, techniques, tools and services for\\nmanaging, harmonizing, aggregating, preprocessing, modeling, analyzing and\\ninterpreting large, multi-source, incomplete, incongruent, and heterogeneous data\\n(big data). the focus will be to expose students to common challenges related to\\nhandling big data and present the enormous opportunities and power associated\\nwith our ability to interrogate such complex datasets, extract useful\\ninformation, derive knowledge, and provide actionable forecasting. biomedical,\\nhealthcare, and social datasets will provide context for addressing specific\\ndriving challenges. students will learn about modern data analytic techniques and\\ndevelop skills for importing and exporting, cleaning and fusing, modeling and\\nvisualizing, analyzing and synthesizing complex datasets. the collaborative\\ndesign, implementation, sharing and community validation of high-throughput\\nanalytic workflows will be emphasized thorought the course.'"
      ],
      "text/plain": [
       "[1] \"hs650: the data science and predictive analytics (dspa) course (offered\\nas a massive open online course, mooc, as well as a traditional university of\\nmichigan class) aims to build computational abilities, inferential thinking, and\\npractical skills for tackling core data scientific challenges. it explores\\nfoundational concepts in data management, processing, statistical computing, and\\ndynamic visualization using modern programming tools and agile web-services.\\nconcepts, ideas, and protocols are illustrated through examples of real\\nobservational, simulated and research-derived datasets. some prior quantitative\\nexperience in programming, calculus, statistics, mathematical models, or linear\\nalgebra will be necessary. this open graduate course will provide a general\\noverview of the principles, concepts, techniques, tools and services for\\nmanaging, harmonizing, aggregating, preprocessing, modeling, analyzing and\\ninterpreting large, multi-source, incomplete, incongruent, and heterogeneous data\\n(big data). the focus will be to expose students to common challenges related to\\nhandling big data and present the enormous opportunities and power associated\\nwith our ability to interrogate such complex datasets, extract useful\\ninformation, derive knowledge, and provide actionable forecasting. biomedical,\\nhealthcare, and social datasets will provide context for addressing specific\\ndriving challenges. students will learn about modern data analytic techniques and\\ndevelop skills for importing and exporting, cleaning and fusing, modeling and\\nvisualizing, analyzing and synthesizing complex datasets. the collaborative\\ndesign, implementation, sharing and community validation of high-throughput\\nanalytic workflows will be emphasized thorought the course.\""
      ]
     },
     "metadata": {},
     "output_type": "display_data"
    }
   ],
   "source": [
    "doc_corpus <- tm_map(doc_corpus, tolower)\n",
    "doc_corpus[[1]]"
   ]
  },
  {
   "cell_type": "markdown",
   "id": "9eee9078-4bd7-4c86-a2e0-a388bb09409a",
   "metadata": {},
   "source": [
    "### Text preprocessing "
   ]
  },
  {
   "cell_type": "code",
   "execution_count": 5,
   "id": "dbe6af68-4e7d-4ac1-86bb-dda493f15001",
   "metadata": {},
   "outputs": [
    {
     "data": {
      "text/html": [
       "<style>\n",
       ".list-inline {list-style: none; margin:0; padding: 0}\n",
       ".list-inline>li {display: inline-block}\n",
       ".list-inline>li:not(:last-child)::after {content: \"\\00b7\"; padding: 0 .5ex}\n",
       "</style>\n",
       "<ol class=list-inline><li>'i'</li><li>'me'</li><li>'my'</li><li>'myself'</li><li>'we'</li><li>'our'</li><li>'ours'</li><li>'ourselves'</li><li>'you'</li><li>'your'</li><li>'yours'</li><li>'yourself'</li><li>'yourselves'</li><li>'he'</li><li>'him'</li><li>'his'</li><li>'himself'</li><li>'she'</li><li>'her'</li><li>'hers'</li><li>'herself'</li><li>'it'</li><li>'its'</li><li>'itself'</li><li>'they'</li><li>'them'</li><li>'their'</li><li>'theirs'</li><li>'themselves'</li><li>'what'</li><li>'which'</li><li>'who'</li><li>'whom'</li><li>'this'</li><li>'that'</li><li>'these'</li><li>'those'</li><li>'am'</li><li>'is'</li><li>'are'</li><li>'was'</li><li>'were'</li><li>'be'</li><li>'been'</li><li>'being'</li><li>'have'</li><li>'has'</li><li>'had'</li><li>'having'</li><li>'do'</li><li>'does'</li><li>'did'</li><li>'doing'</li><li>'would'</li><li>'should'</li><li>'could'</li><li>'ought'</li><li>'i\\'m'</li><li>'you\\'re'</li><li>'he\\'s'</li><li>'she\\'s'</li><li>'it\\'s'</li><li>'we\\'re'</li><li>'they\\'re'</li><li>'i\\'ve'</li><li>'you\\'ve'</li><li>'we\\'ve'</li><li>'they\\'ve'</li><li>'i\\'d'</li><li>'you\\'d'</li><li>'he\\'d'</li><li>'she\\'d'</li><li>'we\\'d'</li><li>'they\\'d'</li><li>'i\\'ll'</li><li>'you\\'ll'</li><li>'he\\'ll'</li><li>'she\\'ll'</li><li>'we\\'ll'</li><li>'they\\'ll'</li><li>'isn\\'t'</li><li>'aren\\'t'</li><li>'wasn\\'t'</li><li>'weren\\'t'</li><li>'hasn\\'t'</li><li>'haven\\'t'</li><li>'hadn\\'t'</li><li>'doesn\\'t'</li><li>'don\\'t'</li><li>'didn\\'t'</li><li>'won\\'t'</li><li>'wouldn\\'t'</li><li>'shan\\'t'</li><li>'shouldn\\'t'</li><li>'can\\'t'</li><li>'cannot'</li><li>'couldn\\'t'</li><li>'mustn\\'t'</li><li>'let\\'s'</li><li>'that\\'s'</li><li>'who\\'s'</li><li>'what\\'s'</li><li>'here\\'s'</li><li>'there\\'s'</li><li>'when\\'s'</li><li>'where\\'s'</li><li>'why\\'s'</li><li>'how\\'s'</li><li>'a'</li><li>'an'</li><li>'the'</li><li>'and'</li><li>'but'</li><li>'if'</li><li>'or'</li><li>'because'</li><li>'as'</li><li>'until'</li><li>'while'</li><li>'of'</li><li>'at'</li><li>'by'</li><li>'for'</li><li>'with'</li><li>'about'</li><li>'against'</li><li>'between'</li><li>'into'</li><li>'through'</li><li>'during'</li><li>'before'</li><li>'after'</li><li>'above'</li><li>'below'</li><li>'to'</li><li>'from'</li><li>'up'</li><li>'down'</li><li>'in'</li><li>'out'</li><li>'on'</li><li>'off'</li><li>'over'</li><li>'under'</li><li>'again'</li><li>'further'</li><li>'then'</li><li>'once'</li><li>'here'</li><li>'there'</li><li>'when'</li><li>'where'</li><li>'why'</li><li>'how'</li><li>'all'</li><li>'any'</li><li>'both'</li><li>'each'</li><li>'few'</li><li>'more'</li><li>'most'</li><li>'other'</li><li>'some'</li><li>'such'</li><li>'no'</li><li>'nor'</li><li>'not'</li><li>'only'</li><li>'own'</li><li>'same'</li><li>'so'</li><li>'than'</li><li>'too'</li><li>'very'</li></ol>\n"
      ],
      "text/latex": [
       "\\begin{enumerate*}\n",
       "\\item 'i'\n",
       "\\item 'me'\n",
       "\\item 'my'\n",
       "\\item 'myself'\n",
       "\\item 'we'\n",
       "\\item 'our'\n",
       "\\item 'ours'\n",
       "\\item 'ourselves'\n",
       "\\item 'you'\n",
       "\\item 'your'\n",
       "\\item 'yours'\n",
       "\\item 'yourself'\n",
       "\\item 'yourselves'\n",
       "\\item 'he'\n",
       "\\item 'him'\n",
       "\\item 'his'\n",
       "\\item 'himself'\n",
       "\\item 'she'\n",
       "\\item 'her'\n",
       "\\item 'hers'\n",
       "\\item 'herself'\n",
       "\\item 'it'\n",
       "\\item 'its'\n",
       "\\item 'itself'\n",
       "\\item 'they'\n",
       "\\item 'them'\n",
       "\\item 'their'\n",
       "\\item 'theirs'\n",
       "\\item 'themselves'\n",
       "\\item 'what'\n",
       "\\item 'which'\n",
       "\\item 'who'\n",
       "\\item 'whom'\n",
       "\\item 'this'\n",
       "\\item 'that'\n",
       "\\item 'these'\n",
       "\\item 'those'\n",
       "\\item 'am'\n",
       "\\item 'is'\n",
       "\\item 'are'\n",
       "\\item 'was'\n",
       "\\item 'were'\n",
       "\\item 'be'\n",
       "\\item 'been'\n",
       "\\item 'being'\n",
       "\\item 'have'\n",
       "\\item 'has'\n",
       "\\item 'had'\n",
       "\\item 'having'\n",
       "\\item 'do'\n",
       "\\item 'does'\n",
       "\\item 'did'\n",
       "\\item 'doing'\n",
       "\\item 'would'\n",
       "\\item 'should'\n",
       "\\item 'could'\n",
       "\\item 'ought'\n",
       "\\item 'i\\textbackslash{}'m'\n",
       "\\item 'you\\textbackslash{}'re'\n",
       "\\item 'he\\textbackslash{}'s'\n",
       "\\item 'she\\textbackslash{}'s'\n",
       "\\item 'it\\textbackslash{}'s'\n",
       "\\item 'we\\textbackslash{}'re'\n",
       "\\item 'they\\textbackslash{}'re'\n",
       "\\item 'i\\textbackslash{}'ve'\n",
       "\\item 'you\\textbackslash{}'ve'\n",
       "\\item 'we\\textbackslash{}'ve'\n",
       "\\item 'they\\textbackslash{}'ve'\n",
       "\\item 'i\\textbackslash{}'d'\n",
       "\\item 'you\\textbackslash{}'d'\n",
       "\\item 'he\\textbackslash{}'d'\n",
       "\\item 'she\\textbackslash{}'d'\n",
       "\\item 'we\\textbackslash{}'d'\n",
       "\\item 'they\\textbackslash{}'d'\n",
       "\\item 'i\\textbackslash{}'ll'\n",
       "\\item 'you\\textbackslash{}'ll'\n",
       "\\item 'he\\textbackslash{}'ll'\n",
       "\\item 'she\\textbackslash{}'ll'\n",
       "\\item 'we\\textbackslash{}'ll'\n",
       "\\item 'they\\textbackslash{}'ll'\n",
       "\\item 'isn\\textbackslash{}'t'\n",
       "\\item 'aren\\textbackslash{}'t'\n",
       "\\item 'wasn\\textbackslash{}'t'\n",
       "\\item 'weren\\textbackslash{}'t'\n",
       "\\item 'hasn\\textbackslash{}'t'\n",
       "\\item 'haven\\textbackslash{}'t'\n",
       "\\item 'hadn\\textbackslash{}'t'\n",
       "\\item 'doesn\\textbackslash{}'t'\n",
       "\\item 'don\\textbackslash{}'t'\n",
       "\\item 'didn\\textbackslash{}'t'\n",
       "\\item 'won\\textbackslash{}'t'\n",
       "\\item 'wouldn\\textbackslash{}'t'\n",
       "\\item 'shan\\textbackslash{}'t'\n",
       "\\item 'shouldn\\textbackslash{}'t'\n",
       "\\item 'can\\textbackslash{}'t'\n",
       "\\item 'cannot'\n",
       "\\item 'couldn\\textbackslash{}'t'\n",
       "\\item 'mustn\\textbackslash{}'t'\n",
       "\\item 'let\\textbackslash{}'s'\n",
       "\\item 'that\\textbackslash{}'s'\n",
       "\\item 'who\\textbackslash{}'s'\n",
       "\\item 'what\\textbackslash{}'s'\n",
       "\\item 'here\\textbackslash{}'s'\n",
       "\\item 'there\\textbackslash{}'s'\n",
       "\\item 'when\\textbackslash{}'s'\n",
       "\\item 'where\\textbackslash{}'s'\n",
       "\\item 'why\\textbackslash{}'s'\n",
       "\\item 'how\\textbackslash{}'s'\n",
       "\\item 'a'\n",
       "\\item 'an'\n",
       "\\item 'the'\n",
       "\\item 'and'\n",
       "\\item 'but'\n",
       "\\item 'if'\n",
       "\\item 'or'\n",
       "\\item 'because'\n",
       "\\item 'as'\n",
       "\\item 'until'\n",
       "\\item 'while'\n",
       "\\item 'of'\n",
       "\\item 'at'\n",
       "\\item 'by'\n",
       "\\item 'for'\n",
       "\\item 'with'\n",
       "\\item 'about'\n",
       "\\item 'against'\n",
       "\\item 'between'\n",
       "\\item 'into'\n",
       "\\item 'through'\n",
       "\\item 'during'\n",
       "\\item 'before'\n",
       "\\item 'after'\n",
       "\\item 'above'\n",
       "\\item 'below'\n",
       "\\item 'to'\n",
       "\\item 'from'\n",
       "\\item 'up'\n",
       "\\item 'down'\n",
       "\\item 'in'\n",
       "\\item 'out'\n",
       "\\item 'on'\n",
       "\\item 'off'\n",
       "\\item 'over'\n",
       "\\item 'under'\n",
       "\\item 'again'\n",
       "\\item 'further'\n",
       "\\item 'then'\n",
       "\\item 'once'\n",
       "\\item 'here'\n",
       "\\item 'there'\n",
       "\\item 'when'\n",
       "\\item 'where'\n",
       "\\item 'why'\n",
       "\\item 'how'\n",
       "\\item 'all'\n",
       "\\item 'any'\n",
       "\\item 'both'\n",
       "\\item 'each'\n",
       "\\item 'few'\n",
       "\\item 'more'\n",
       "\\item 'most'\n",
       "\\item 'other'\n",
       "\\item 'some'\n",
       "\\item 'such'\n",
       "\\item 'no'\n",
       "\\item 'nor'\n",
       "\\item 'not'\n",
       "\\item 'only'\n",
       "\\item 'own'\n",
       "\\item 'same'\n",
       "\\item 'so'\n",
       "\\item 'than'\n",
       "\\item 'too'\n",
       "\\item 'very'\n",
       "\\end{enumerate*}\n"
      ],
      "text/markdown": [
       "1. 'i'\n",
       "2. 'me'\n",
       "3. 'my'\n",
       "4. 'myself'\n",
       "5. 'we'\n",
       "6. 'our'\n",
       "7. 'ours'\n",
       "8. 'ourselves'\n",
       "9. 'you'\n",
       "10. 'your'\n",
       "11. 'yours'\n",
       "12. 'yourself'\n",
       "13. 'yourselves'\n",
       "14. 'he'\n",
       "15. 'him'\n",
       "16. 'his'\n",
       "17. 'himself'\n",
       "18. 'she'\n",
       "19. 'her'\n",
       "20. 'hers'\n",
       "21. 'herself'\n",
       "22. 'it'\n",
       "23. 'its'\n",
       "24. 'itself'\n",
       "25. 'they'\n",
       "26. 'them'\n",
       "27. 'their'\n",
       "28. 'theirs'\n",
       "29. 'themselves'\n",
       "30. 'what'\n",
       "31. 'which'\n",
       "32. 'who'\n",
       "33. 'whom'\n",
       "34. 'this'\n",
       "35. 'that'\n",
       "36. 'these'\n",
       "37. 'those'\n",
       "38. 'am'\n",
       "39. 'is'\n",
       "40. 'are'\n",
       "41. 'was'\n",
       "42. 'were'\n",
       "43. 'be'\n",
       "44. 'been'\n",
       "45. 'being'\n",
       "46. 'have'\n",
       "47. 'has'\n",
       "48. 'had'\n",
       "49. 'having'\n",
       "50. 'do'\n",
       "51. 'does'\n",
       "52. 'did'\n",
       "53. 'doing'\n",
       "54. 'would'\n",
       "55. 'should'\n",
       "56. 'could'\n",
       "57. 'ought'\n",
       "58. 'i\\'m'\n",
       "59. 'you\\'re'\n",
       "60. 'he\\'s'\n",
       "61. 'she\\'s'\n",
       "62. 'it\\'s'\n",
       "63. 'we\\'re'\n",
       "64. 'they\\'re'\n",
       "65. 'i\\'ve'\n",
       "66. 'you\\'ve'\n",
       "67. 'we\\'ve'\n",
       "68. 'they\\'ve'\n",
       "69. 'i\\'d'\n",
       "70. 'you\\'d'\n",
       "71. 'he\\'d'\n",
       "72. 'she\\'d'\n",
       "73. 'we\\'d'\n",
       "74. 'they\\'d'\n",
       "75. 'i\\'ll'\n",
       "76. 'you\\'ll'\n",
       "77. 'he\\'ll'\n",
       "78. 'she\\'ll'\n",
       "79. 'we\\'ll'\n",
       "80. 'they\\'ll'\n",
       "81. 'isn\\'t'\n",
       "82. 'aren\\'t'\n",
       "83. 'wasn\\'t'\n",
       "84. 'weren\\'t'\n",
       "85. 'hasn\\'t'\n",
       "86. 'haven\\'t'\n",
       "87. 'hadn\\'t'\n",
       "88. 'doesn\\'t'\n",
       "89. 'don\\'t'\n",
       "90. 'didn\\'t'\n",
       "91. 'won\\'t'\n",
       "92. 'wouldn\\'t'\n",
       "93. 'shan\\'t'\n",
       "94. 'shouldn\\'t'\n",
       "95. 'can\\'t'\n",
       "96. 'cannot'\n",
       "97. 'couldn\\'t'\n",
       "98. 'mustn\\'t'\n",
       "99. 'let\\'s'\n",
       "100. 'that\\'s'\n",
       "101. 'who\\'s'\n",
       "102. 'what\\'s'\n",
       "103. 'here\\'s'\n",
       "104. 'there\\'s'\n",
       "105. 'when\\'s'\n",
       "106. 'where\\'s'\n",
       "107. 'why\\'s'\n",
       "108. 'how\\'s'\n",
       "109. 'a'\n",
       "110. 'an'\n",
       "111. 'the'\n",
       "112. 'and'\n",
       "113. 'but'\n",
       "114. 'if'\n",
       "115. 'or'\n",
       "116. 'because'\n",
       "117. 'as'\n",
       "118. 'until'\n",
       "119. 'while'\n",
       "120. 'of'\n",
       "121. 'at'\n",
       "122. 'by'\n",
       "123. 'for'\n",
       "124. 'with'\n",
       "125. 'about'\n",
       "126. 'against'\n",
       "127. 'between'\n",
       "128. 'into'\n",
       "129. 'through'\n",
       "130. 'during'\n",
       "131. 'before'\n",
       "132. 'after'\n",
       "133. 'above'\n",
       "134. 'below'\n",
       "135. 'to'\n",
       "136. 'from'\n",
       "137. 'up'\n",
       "138. 'down'\n",
       "139. 'in'\n",
       "140. 'out'\n",
       "141. 'on'\n",
       "142. 'off'\n",
       "143. 'over'\n",
       "144. 'under'\n",
       "145. 'again'\n",
       "146. 'further'\n",
       "147. 'then'\n",
       "148. 'once'\n",
       "149. 'here'\n",
       "150. 'there'\n",
       "151. 'when'\n",
       "152. 'where'\n",
       "153. 'why'\n",
       "154. 'how'\n",
       "155. 'all'\n",
       "156. 'any'\n",
       "157. 'both'\n",
       "158. 'each'\n",
       "159. 'few'\n",
       "160. 'more'\n",
       "161. 'most'\n",
       "162. 'other'\n",
       "163. 'some'\n",
       "164. 'such'\n",
       "165. 'no'\n",
       "166. 'nor'\n",
       "167. 'not'\n",
       "168. 'only'\n",
       "169. 'own'\n",
       "170. 'same'\n",
       "171. 'so'\n",
       "172. 'than'\n",
       "173. 'too'\n",
       "174. 'very'\n",
       "\n",
       "\n"
      ],
      "text/plain": [
       "  [1] \"i\"          \"me\"         \"my\"         \"myself\"     \"we\"        \n",
       "  [6] \"our\"        \"ours\"       \"ourselves\"  \"you\"        \"your\"      \n",
       " [11] \"yours\"      \"yourself\"   \"yourselves\" \"he\"         \"him\"       \n",
       " [16] \"his\"        \"himself\"    \"she\"        \"her\"        \"hers\"      \n",
       " [21] \"herself\"    \"it\"         \"its\"        \"itself\"     \"they\"      \n",
       " [26] \"them\"       \"their\"      \"theirs\"     \"themselves\" \"what\"      \n",
       " [31] \"which\"      \"who\"        \"whom\"       \"this\"       \"that\"      \n",
       " [36] \"these\"      \"those\"      \"am\"         \"is\"         \"are\"       \n",
       " [41] \"was\"        \"were\"       \"be\"         \"been\"       \"being\"     \n",
       " [46] \"have\"       \"has\"        \"had\"        \"having\"     \"do\"        \n",
       " [51] \"does\"       \"did\"        \"doing\"      \"would\"      \"should\"    \n",
       " [56] \"could\"      \"ought\"      \"i'm\"        \"you're\"     \"he's\"      \n",
       " [61] \"she's\"      \"it's\"       \"we're\"      \"they're\"    \"i've\"      \n",
       " [66] \"you've\"     \"we've\"      \"they've\"    \"i'd\"        \"you'd\"     \n",
       " [71] \"he'd\"       \"she'd\"      \"we'd\"       \"they'd\"     \"i'll\"      \n",
       " [76] \"you'll\"     \"he'll\"      \"she'll\"     \"we'll\"      \"they'll\"   \n",
       " [81] \"isn't\"      \"aren't\"     \"wasn't\"     \"weren't\"    \"hasn't\"    \n",
       " [86] \"haven't\"    \"hadn't\"     \"doesn't\"    \"don't\"      \"didn't\"    \n",
       " [91] \"won't\"      \"wouldn't\"   \"shan't\"     \"shouldn't\"  \"can't\"     \n",
       " [96] \"cannot\"     \"couldn't\"   \"mustn't\"    \"let's\"      \"that's\"    \n",
       "[101] \"who's\"      \"what's\"     \"here's\"     \"there's\"    \"when's\"    \n",
       "[106] \"where's\"    \"why's\"      \"how's\"      \"a\"          \"an\"        \n",
       "[111] \"the\"        \"and\"        \"but\"        \"if\"         \"or\"        \n",
       "[116] \"because\"    \"as\"         \"until\"      \"while\"      \"of\"        \n",
       "[121] \"at\"         \"by\"         \"for\"        \"with\"       \"about\"     \n",
       "[126] \"against\"    \"between\"    \"into\"       \"through\"    \"during\"    \n",
       "[131] \"before\"     \"after\"      \"above\"      \"below\"      \"to\"        \n",
       "[136] \"from\"       \"up\"         \"down\"       \"in\"         \"out\"       \n",
       "[141] \"on\"         \"off\"        \"over\"       \"under\"      \"again\"     \n",
       "[146] \"further\"    \"then\"       \"once\"       \"here\"       \"there\"     \n",
       "[151] \"when\"       \"where\"      \"why\"        \"how\"        \"all\"       \n",
       "[156] \"any\"        \"both\"       \"each\"       \"few\"        \"more\"      \n",
       "[161] \"most\"       \"other\"      \"some\"       \"such\"       \"no\"        \n",
       "[166] \"nor\"        \"not\"        \"only\"       \"own\"        \"same\"      \n",
       "[171] \"so\"         \"than\"       \"too\"        \"very\"      "
      ]
     },
     "metadata": {},
     "output_type": "display_data"
    }
   ],
   "source": [
    "stopwords(\"english\")"
   ]
  },
  {
   "cell_type": "code",
   "execution_count": 6,
   "id": "c566b28c-9a26-43c4-b1ab-e4ed9fd676f9",
   "metadata": {},
   "outputs": [
    {
     "data": {
      "text/html": [
       "'hs650: the data science and predictive analytics (dspa) course (offered as a massive open online course, mooc, as well as a traditional university of michigan class) aims to build computational abilities, inferential thinking, and practical skills for tackling core data scientific challenges. it explores foundational concepts in data management, processing, statistical computing, and dynamic visualization using modern programming tools and agile web-services. concepts, ideas, and protocols are illustrated through examples of real observational, simulated and research-derived datasets. some prior quantitative experience in programming, calculus, statistics, mathematical models, or linear algebra will be necessary. this open graduate course will provide a general overview of the principles, concepts, techniques, tools and services for managing, harmonizing, aggregating, preprocessing, modeling, analyzing and interpreting large, multi-source, incomplete, incongruent, and heterogeneous data (big data). the focus will be to expose students to common challenges related to handling big data and present the enormous opportunities and power associated with our ability to interrogate such complex datasets, extract useful information, derive knowledge, and provide actionable forecasting. biomedical, healthcare, and social datasets will provide context for addressing specific driving challenges. students will learn about modern data analytic techniques and develop skills for importing and exporting, cleaning and fusing, modeling and visualizing, analyzing and synthesizing complex datasets. the collaborative design, implementation, sharing and community validation of high-throughput analytic workflows will be emphasized thorought the course.'"
      ],
      "text/latex": [
       "'hs650: the data science and predictive analytics (dspa) course (offered as a massive open online course, mooc, as well as a traditional university of michigan class) aims to build computational abilities, inferential thinking, and practical skills for tackling core data scientific challenges. it explores foundational concepts in data management, processing, statistical computing, and dynamic visualization using modern programming tools and agile web-services. concepts, ideas, and protocols are illustrated through examples of real observational, simulated and research-derived datasets. some prior quantitative experience in programming, calculus, statistics, mathematical models, or linear algebra will be necessary. this open graduate course will provide a general overview of the principles, concepts, techniques, tools and services for managing, harmonizing, aggregating, preprocessing, modeling, analyzing and interpreting large, multi-source, incomplete, incongruent, and heterogeneous data (big data). the focus will be to expose students to common challenges related to handling big data and present the enormous opportunities and power associated with our ability to interrogate such complex datasets, extract useful information, derive knowledge, and provide actionable forecasting. biomedical, healthcare, and social datasets will provide context for addressing specific driving challenges. students will learn about modern data analytic techniques and develop skills for importing and exporting, cleaning and fusing, modeling and visualizing, analyzing and synthesizing complex datasets. the collaborative design, implementation, sharing and community validation of high-throughput analytic workflows will be emphasized thorought the course.'"
      ],
      "text/markdown": [
       "'hs650: the data science and predictive analytics (dspa) course (offered as a massive open online course, mooc, as well as a traditional university of michigan class) aims to build computational abilities, inferential thinking, and practical skills for tackling core data scientific challenges. it explores foundational concepts in data management, processing, statistical computing, and dynamic visualization using modern programming tools and agile web-services. concepts, ideas, and protocols are illustrated through examples of real observational, simulated and research-derived datasets. some prior quantitative experience in programming, calculus, statistics, mathematical models, or linear algebra will be necessary. this open graduate course will provide a general overview of the principles, concepts, techniques, tools and services for managing, harmonizing, aggregating, preprocessing, modeling, analyzing and interpreting large, multi-source, incomplete, incongruent, and heterogeneous data (big data). the focus will be to expose students to common challenges related to handling big data and present the enormous opportunities and power associated with our ability to interrogate such complex datasets, extract useful information, derive knowledge, and provide actionable forecasting. biomedical, healthcare, and social datasets will provide context for addressing specific driving challenges. students will learn about modern data analytic techniques and develop skills for importing and exporting, cleaning and fusing, modeling and visualizing, analyzing and synthesizing complex datasets. the collaborative design, implementation, sharing and community validation of high-throughput analytic workflows will be emphasized thorought the course.'"
      ],
      "text/plain": [
       "[1] \"hs650: the data science and predictive analytics (dspa) course (offered as a massive open online course, mooc, as well as a traditional university of michigan class) aims to build computational abilities, inferential thinking, and practical skills for tackling core data scientific challenges. it explores foundational concepts in data management, processing, statistical computing, and dynamic visualization using modern programming tools and agile web-services. concepts, ideas, and protocols are illustrated through examples of real observational, simulated and research-derived datasets. some prior quantitative experience in programming, calculus, statistics, mathematical models, or linear algebra will be necessary. this open graduate course will provide a general overview of the principles, concepts, techniques, tools and services for managing, harmonizing, aggregating, preprocessing, modeling, analyzing and interpreting large, multi-source, incomplete, incongruent, and heterogeneous data (big data). the focus will be to expose students to common challenges related to handling big data and present the enormous opportunities and power associated with our ability to interrogate such complex datasets, extract useful information, derive knowledge, and provide actionable forecasting. biomedical, healthcare, and social datasets will provide context for addressing specific driving challenges. students will learn about modern data analytic techniques and develop skills for importing and exporting, cleaning and fusing, modeling and visualizing, analyzing and synthesizing complex datasets. the collaborative design, implementation, sharing and community validation of high-throughput analytic workflows will be emphasized thorought the course.\""
      ]
     },
     "metadata": {},
     "output_type": "display_data"
    }
   ],
   "source": [
    "doc_corpus <- tm_map(doc_corpus, stripWhitespace)\n",
    "doc_corpus[[1]]"
   ]
  },
  {
   "cell_type": "code",
   "execution_count": 7,
   "id": "d6810035-6513-4bd4-9bdc-7df86cf5e7b7",
   "metadata": {},
   "outputs": [
    {
     "data": {
      "text/html": [
       "' bioinformatics 501 the mathematical foundations for bioinformatics course covers some of the fundamental mathematical techniques commonly used in bioinformatics and biomedical research these include 1 principles of multi variable calculus and complex numbersfunctions 2 foundations of linear algebra such as linear spaces eigenvalues and vectors singular value decomposition spectral graph theory and markov chains 3 differential equations and their usage in biomedical system which includes topic such as existence and uniqueness of solutions two dimensional linear systems bifurcations in one and two dimensional systems and cellular dynamics and 4 optimization methods such as free and constrained optimization lagrange multipliers data denoising using optimization and heuristic methods demonstrations using matlab r and python are included throughout the course'"
      ],
      "text/latex": [
       "' bioinformatics 501 the mathematical foundations for bioinformatics course covers some of the fundamental mathematical techniques commonly used in bioinformatics and biomedical research these include 1 principles of multi variable calculus and complex numbersfunctions 2 foundations of linear algebra such as linear spaces eigenvalues and vectors singular value decomposition spectral graph theory and markov chains 3 differential equations and their usage in biomedical system which includes topic such as existence and uniqueness of solutions two dimensional linear systems bifurcations in one and two dimensional systems and cellular dynamics and 4 optimization methods such as free and constrained optimization lagrange multipliers data denoising using optimization and heuristic methods demonstrations using matlab r and python are included throughout the course'"
      ],
      "text/markdown": [
       "' bioinformatics 501 the mathematical foundations for bioinformatics course covers some of the fundamental mathematical techniques commonly used in bioinformatics and biomedical research these include 1 principles of multi variable calculus and complex numbersfunctions 2 foundations of linear algebra such as linear spaces eigenvalues and vectors singular value decomposition spectral graph theory and markov chains 3 differential equations and their usage in biomedical system which includes topic such as existence and uniqueness of solutions two dimensional linear systems bifurcations in one and two dimensional systems and cellular dynamics and 4 optimization methods such as free and constrained optimization lagrange multipliers data denoising using optimization and heuristic methods demonstrations using matlab r and python are included throughout the course'"
      ],
      "text/plain": [
       "[1] \" bioinformatics 501 the mathematical foundations for bioinformatics course covers some of the fundamental mathematical techniques commonly used in bioinformatics and biomedical research these include 1 principles of multi variable calculus and complex numbersfunctions 2 foundations of linear algebra such as linear spaces eigenvalues and vectors singular value decomposition spectral graph theory and markov chains 3 differential equations and their usage in biomedical system which includes topic such as existence and uniqueness of solutions two dimensional linear systems bifurcations in one and two dimensional systems and cellular dynamics and 4 optimization methods such as free and constrained optimization lagrange multipliers data denoising using optimization and heuristic methods demonstrations using matlab r and python are included throughout the course\""
      ]
     },
     "metadata": {},
     "output_type": "display_data"
    }
   ],
   "source": [
    "doc_corpus <- tm_map(doc_corpus, removePunctuation)\n",
    "doc_corpus[[2]]"
   ]
  },
  {
   "cell_type": "code",
   "execution_count": 8,
   "id": "87924d5f-1c60-406d-a74e-e371fcf9a54d",
   "metadata": {},
   "outputs": [
    {
     "data": {
      "text/html": [
       "'hs650 the data science and predictive analytics dspa course offered as a massive open online course mooc as well as a traditional university of michigan class aims to build computational abilities inferential thinking and practical skills for tackling core data scientific challenges it explores foundational concepts in data management processing statistical computing and dynamic visualization using modern programming tools and agile webservices concepts ideas and protocols are illustrated through examples of real observational simulated and researchderived datasets some prior quantitative experience in programming calculus statistics mathematical models or linear algebra will be necessary this open graduate course will provide a general overview of the principles concepts techniques tools and services for managing harmonizing aggregating preprocessing modeling analyzing and interpreting large multisource incomplete incongruent and heterogeneous data big data the focus will be to expose students to common challenges related to handling big data and present the enormous opportunities and power associated with our ability to interrogate such complex datasets extract useful information derive knowledge and provide actionable forecasting biomedical healthcare and social datasets will provide context for addressing specific driving challenges students will learn about modern data analytic techniques and develop skills for importing and exporting cleaning and fusing modeling and visualizing analyzing and synthesizing complex datasets the collaborative design implementation sharing and community validation of highthroughput analytic workflows will be emphasized thorought the course'"
      ],
      "text/latex": [
       "'hs650 the data science and predictive analytics dspa course offered as a massive open online course mooc as well as a traditional university of michigan class aims to build computational abilities inferential thinking and practical skills for tackling core data scientific challenges it explores foundational concepts in data management processing statistical computing and dynamic visualization using modern programming tools and agile webservices concepts ideas and protocols are illustrated through examples of real observational simulated and researchderived datasets some prior quantitative experience in programming calculus statistics mathematical models or linear algebra will be necessary this open graduate course will provide a general overview of the principles concepts techniques tools and services for managing harmonizing aggregating preprocessing modeling analyzing and interpreting large multisource incomplete incongruent and heterogeneous data big data the focus will be to expose students to common challenges related to handling big data and present the enormous opportunities and power associated with our ability to interrogate such complex datasets extract useful information derive knowledge and provide actionable forecasting biomedical healthcare and social datasets will provide context for addressing specific driving challenges students will learn about modern data analytic techniques and develop skills for importing and exporting cleaning and fusing modeling and visualizing analyzing and synthesizing complex datasets the collaborative design implementation sharing and community validation of highthroughput analytic workflows will be emphasized thorought the course'"
      ],
      "text/markdown": [
       "'hs650 the data science and predictive analytics dspa course offered as a massive open online course mooc as well as a traditional university of michigan class aims to build computational abilities inferential thinking and practical skills for tackling core data scientific challenges it explores foundational concepts in data management processing statistical computing and dynamic visualization using modern programming tools and agile webservices concepts ideas and protocols are illustrated through examples of real observational simulated and researchderived datasets some prior quantitative experience in programming calculus statistics mathematical models or linear algebra will be necessary this open graduate course will provide a general overview of the principles concepts techniques tools and services for managing harmonizing aggregating preprocessing modeling analyzing and interpreting large multisource incomplete incongruent and heterogeneous data big data the focus will be to expose students to common challenges related to handling big data and present the enormous opportunities and power associated with our ability to interrogate such complex datasets extract useful information derive knowledge and provide actionable forecasting biomedical healthcare and social datasets will provide context for addressing specific driving challenges students will learn about modern data analytic techniques and develop skills for importing and exporting cleaning and fusing modeling and visualizing analyzing and synthesizing complex datasets the collaborative design implementation sharing and community validation of highthroughput analytic workflows will be emphasized thorought the course'"
      ],
      "text/plain": [
       "[1] \"hs650 the data science and predictive analytics dspa course offered as a massive open online course mooc as well as a traditional university of michigan class aims to build computational abilities inferential thinking and practical skills for tackling core data scientific challenges it explores foundational concepts in data management processing statistical computing and dynamic visualization using modern programming tools and agile webservices concepts ideas and protocols are illustrated through examples of real observational simulated and researchderived datasets some prior quantitative experience in programming calculus statistics mathematical models or linear algebra will be necessary this open graduate course will provide a general overview of the principles concepts techniques tools and services for managing harmonizing aggregating preprocessing modeling analyzing and interpreting large multisource incomplete incongruent and heterogeneous data big data the focus will be to expose students to common challenges related to handling big data and present the enormous opportunities and power associated with our ability to interrogate such complex datasets extract useful information derive knowledge and provide actionable forecasting biomedical healthcare and social datasets will provide context for addressing specific driving challenges students will learn about modern data analytic techniques and develop skills for importing and exporting cleaning and fusing modeling and visualizing analyzing and synthesizing complex datasets the collaborative design implementation sharing and community validation of highthroughput analytic workflows will be emphasized thorought the course\""
      ]
     },
     "metadata": {},
     "output_type": "display_data"
    }
   ],
   "source": [
    "doc_corpus <- tm_map(doc_corpus, PlainTextDocument)\n",
    "doc_corpus[[1]]$content"
   ]
  },
  {
   "cell_type": "code",
   "execution_count": 9,
   "id": "0a57ef4c-39e3-4b9c-a895-876e490abbda",
   "metadata": {},
   "outputs": [
    {
     "data": {
      "text/html": [
       "'hs650 the data scienc and predict analyt dspa cours offer as a massiv open onlin cours mooc as well as a tradit univers of michigan class aim to build comput abil inferenti think and practic skill for tackl core data scientif challeng it explor foundat concept in data manag process statist comput and dynam visual use modern program tool and agil webservic concept idea and protocol are illustr through exampl of real observ simul and researchderiv dataset some prior quantit experi in program calculus statist mathemat model or linear algebra will be necessari this open graduat cours will provid a general overview of the principl concept techniqu tool and servic for manag harmon aggreg preprocess model analyz and interpret larg multisourc incomplet incongru and heterogen data big data the focus will be to expos student to common challeng relat to handl big data and present the enorm opportun and power associ with our abil to interrog such complex dataset extract use inform deriv knowledg and provid action forecast biomed healthcar and social dataset will provid context for address specif drive challeng student will learn about modern data analyt techniqu and develop skill for import and export clean and fuse model and visual analyz and synthes complex dataset the collabor design implement share and communiti valid of highthroughput analyt workflow will be emphas thorought the cours'"
      ],
      "text/latex": [
       "'hs650 the data scienc and predict analyt dspa cours offer as a massiv open onlin cours mooc as well as a tradit univers of michigan class aim to build comput abil inferenti think and practic skill for tackl core data scientif challeng it explor foundat concept in data manag process statist comput and dynam visual use modern program tool and agil webservic concept idea and protocol are illustr through exampl of real observ simul and researchderiv dataset some prior quantit experi in program calculus statist mathemat model or linear algebra will be necessari this open graduat cours will provid a general overview of the principl concept techniqu tool and servic for manag harmon aggreg preprocess model analyz and interpret larg multisourc incomplet incongru and heterogen data big data the focus will be to expos student to common challeng relat to handl big data and present the enorm opportun and power associ with our abil to interrog such complex dataset extract use inform deriv knowledg and provid action forecast biomed healthcar and social dataset will provid context for address specif drive challeng student will learn about modern data analyt techniqu and develop skill for import and export clean and fuse model and visual analyz and synthes complex dataset the collabor design implement share and communiti valid of highthroughput analyt workflow will be emphas thorought the cours'"
      ],
      "text/markdown": [
       "'hs650 the data scienc and predict analyt dspa cours offer as a massiv open onlin cours mooc as well as a tradit univers of michigan class aim to build comput abil inferenti think and practic skill for tackl core data scientif challeng it explor foundat concept in data manag process statist comput and dynam visual use modern program tool and agil webservic concept idea and protocol are illustr through exampl of real observ simul and researchderiv dataset some prior quantit experi in program calculus statist mathemat model or linear algebra will be necessari this open graduat cours will provid a general overview of the principl concept techniqu tool and servic for manag harmon aggreg preprocess model analyz and interpret larg multisourc incomplet incongru and heterogen data big data the focus will be to expos student to common challeng relat to handl big data and present the enorm opportun and power associ with our abil to interrog such complex dataset extract use inform deriv knowledg and provid action forecast biomed healthcar and social dataset will provid context for address specif drive challeng student will learn about modern data analyt techniqu and develop skill for import and export clean and fuse model and visual analyz and synthes complex dataset the collabor design implement share and communiti valid of highthroughput analyt workflow will be emphas thorought the cours'"
      ],
      "text/plain": [
       "[1] \"hs650 the data scienc and predict analyt dspa cours offer as a massiv open onlin cours mooc as well as a tradit univers of michigan class aim to build comput abil inferenti think and practic skill for tackl core data scientif challeng it explor foundat concept in data manag process statist comput and dynam visual use modern program tool and agil webservic concept idea and protocol are illustr through exampl of real observ simul and researchderiv dataset some prior quantit experi in program calculus statist mathemat model or linear algebra will be necessari this open graduat cours will provid a general overview of the principl concept techniqu tool and servic for manag harmon aggreg preprocess model analyz and interpret larg multisourc incomplet incongru and heterogen data big data the focus will be to expos student to common challeng relat to handl big data and present the enorm opportun and power associ with our abil to interrog such complex dataset extract use inform deriv knowledg and provid action forecast biomed healthcar and social dataset will provid context for address specif drive challeng student will learn about modern data analyt techniqu and develop skill for import and export clean and fuse model and visual analyz and synthes complex dataset the collabor design implement share and communiti valid of highthroughput analyt workflow will be emphas thorought the cours\""
      ]
     },
     "metadata": {},
     "output_type": "display_data"
    }
   ],
   "source": [
    "library(SnowballC)\n",
    "doc_corpus <- tm_map(doc_corpus, stemDocument)\n",
    "doc_corpus[[1]]$content"
   ]
  },
  {
   "cell_type": "code",
   "execution_count": 10,
   "id": "eaaba7ff-9d15-480a-9fb5-e2fed7029db4",
   "metadata": {},
   "outputs": [
    {
     "data": {
      "text/plain": [
       "<<TermDocumentMatrix (terms: 355, documents: 5)>>\n",
       "Non-/sparse entries: 530/1245\n",
       "Sparsity           : 70%\n",
       "Maximal term length: 27\n",
       "Weighting          : term frequency (tf)"
      ]
     },
     "metadata": {},
     "output_type": "display_data"
    }
   ],
   "source": [
    "doc_dtm <- TermDocumentMatrix(doc_corpus)\n",
    "doc_dtm"
   ]
  },
  {
   "cell_type": "code",
   "execution_count": 11,
   "id": "b76933c3-be48-4018-931c-8d212ca891ed",
   "metadata": {},
   "outputs": [
    {
     "name": "stdout",
     "output_type": "stream",
     "text": [
      "<<TermDocumentMatrix (terms: 355, documents: 5)>>\n",
      "Non-/sparse entries: 530/1245\n",
      "Sparsity           : 70%\n",
      "Maximal term length: 27\n",
      "Weighting          : term frequency (tf)\n",
      "Sample             :\n",
      "         Docs\n",
      "Terms      1  2  3  4 5\n",
      "  and     19 12 13 10 7\n",
      "  cours    4  2  3  3 2\n",
      "  data     7  1  5  3 6\n",
      "  infer    0  0  2  6 2\n",
      "  method   0  2  5  3 2\n",
      "  model    3  0  4  3 3\n",
      "  statist  2  0  1  5 4\n",
      "  the      6  3  2  2 2\n",
      "  use      2  3  1  3 2\n",
      "  will     6  0  3  4 3\n"
     ]
    }
   ],
   "source": [
    "doc_dtm$dimnames$Docs<-as.character(1:5)\n",
    "inspect(doc_dtm)"
   ]
  },
  {
   "cell_type": "code",
   "execution_count": 12,
   "id": "1346a721-c3a8-4b8e-9cf7-79b2e138190b",
   "metadata": {},
   "outputs": [
    {
     "data": {
      "text/html": [
       "<style>\n",
       ".list-inline {list-style: none; margin:0; padding: 0}\n",
       ".list-inline>li {display: inline-block}\n",
       ".list-inline>li:not(:last-child)::after {content: \"\\00b7\"; padding: 0 .5ex}\n",
       "</style>\n",
       "<ol class=list-inline><li>'abil'</li><li>'address'</li><li>'advanc'</li><li>'algebra'</li><li>'analysi'</li><li>'analyt'</li><li>'analyz'</li><li>'and'</li><li>'appli'</li><li>'appropri'</li><li>'are'</li><li>'associ'</li><li>'assumpt'</li><li>'bayesian'</li><li>'big'</li><li>'bioinformat'</li><li>'biomed'</li><li>'calculus'</li><li>'challeng'</li><li>'common'</li><li>'complex'</li><li>'comput'</li><li>'concept'</li><li>'conduct'</li><li>'core'</li><li>'cours'</li><li>'cover'</li><li>'credit'</li><li>'data'</li><li>'dataset'</li><li>'design'</li><li>'dimension'</li><li>'drive'</li><li>'dynam'</li><li>'emphas'</li><li>'epidemiolog'</li><li>'equat'</li><li>'estim'</li><li>'exampl'</li><li>'experi'</li><li>'focus'</li><li>'for'</li><li>'foundat'</li><li>'general'</li><li>'handl'</li><li>'health'</li><li>'healthcar'</li><li>'heterogen'</li><li>'hour'</li><li>'how'</li><li>'hs550'</li><li>'includ'</li><li>'incomplet'</li><li>'infer'</li><li>'inform'</li><li>'innov'</li><li>'interpret'</li><li>'interrog'</li><li>'knowledg'</li><li>'labdiscuss'</li><li>'learn'</li><li>'lectur'</li><li>'limit'</li><li>'linear'</li><li>'manag'</li><li>'mathemat'</li><li>'measur'</li><li>'method'</li><li>'misconcept'</li><li>'model'</li><li>'modern'</li><li>'multipl'</li><li>'observ'</li><li>'open'</li><li>'optim'</li><li>'power'</li><li>'present'</li><li>'principl'</li><li>'probabl'</li><li>'problem'</li><li>'process'</li><li>'program'</li><li>'provid'</li><li>'publish'</li><li>'read'</li><li>'real'</li><li>'recent'</li><li>'regress'</li><li>'report'</li><li>'research'</li><li>'review'</li><li>'sampl'</li><li>'scienc'</li><li>'scientif'</li><li>'skill'</li><li>'softwar'</li><li>'some'</li><li>'specif'</li><li>'statist'</li><li>'student'</li><li>'studi'</li><li>'such'</li><li>'system'</li><li>'techniqu'</li><li>'test'</li><li>'the'</li><li>'their'</li><li>'theori'</li><li>'this'</li><li>'throughout'</li><li>'tool'</li><li>'topic'</li><li>'two'</li><li>'understand'</li><li>'use'</li><li>'variabl'</li><li>'visual'</li><li>'will'</li><li>'with'</li></ol>\n"
      ],
      "text/latex": [
       "\\begin{enumerate*}\n",
       "\\item 'abil'\n",
       "\\item 'address'\n",
       "\\item 'advanc'\n",
       "\\item 'algebra'\n",
       "\\item 'analysi'\n",
       "\\item 'analyt'\n",
       "\\item 'analyz'\n",
       "\\item 'and'\n",
       "\\item 'appli'\n",
       "\\item 'appropri'\n",
       "\\item 'are'\n",
       "\\item 'associ'\n",
       "\\item 'assumpt'\n",
       "\\item 'bayesian'\n",
       "\\item 'big'\n",
       "\\item 'bioinformat'\n",
       "\\item 'biomed'\n",
       "\\item 'calculus'\n",
       "\\item 'challeng'\n",
       "\\item 'common'\n",
       "\\item 'complex'\n",
       "\\item 'comput'\n",
       "\\item 'concept'\n",
       "\\item 'conduct'\n",
       "\\item 'core'\n",
       "\\item 'cours'\n",
       "\\item 'cover'\n",
       "\\item 'credit'\n",
       "\\item 'data'\n",
       "\\item 'dataset'\n",
       "\\item 'design'\n",
       "\\item 'dimension'\n",
       "\\item 'drive'\n",
       "\\item 'dynam'\n",
       "\\item 'emphas'\n",
       "\\item 'epidemiolog'\n",
       "\\item 'equat'\n",
       "\\item 'estim'\n",
       "\\item 'exampl'\n",
       "\\item 'experi'\n",
       "\\item 'focus'\n",
       "\\item 'for'\n",
       "\\item 'foundat'\n",
       "\\item 'general'\n",
       "\\item 'handl'\n",
       "\\item 'health'\n",
       "\\item 'healthcar'\n",
       "\\item 'heterogen'\n",
       "\\item 'hour'\n",
       "\\item 'how'\n",
       "\\item 'hs550'\n",
       "\\item 'includ'\n",
       "\\item 'incomplet'\n",
       "\\item 'infer'\n",
       "\\item 'inform'\n",
       "\\item 'innov'\n",
       "\\item 'interpret'\n",
       "\\item 'interrog'\n",
       "\\item 'knowledg'\n",
       "\\item 'labdiscuss'\n",
       "\\item 'learn'\n",
       "\\item 'lectur'\n",
       "\\item 'limit'\n",
       "\\item 'linear'\n",
       "\\item 'manag'\n",
       "\\item 'mathemat'\n",
       "\\item 'measur'\n",
       "\\item 'method'\n",
       "\\item 'misconcept'\n",
       "\\item 'model'\n",
       "\\item 'modern'\n",
       "\\item 'multipl'\n",
       "\\item 'observ'\n",
       "\\item 'open'\n",
       "\\item 'optim'\n",
       "\\item 'power'\n",
       "\\item 'present'\n",
       "\\item 'principl'\n",
       "\\item 'probabl'\n",
       "\\item 'problem'\n",
       "\\item 'process'\n",
       "\\item 'program'\n",
       "\\item 'provid'\n",
       "\\item 'publish'\n",
       "\\item 'read'\n",
       "\\item 'real'\n",
       "\\item 'recent'\n",
       "\\item 'regress'\n",
       "\\item 'report'\n",
       "\\item 'research'\n",
       "\\item 'review'\n",
       "\\item 'sampl'\n",
       "\\item 'scienc'\n",
       "\\item 'scientif'\n",
       "\\item 'skill'\n",
       "\\item 'softwar'\n",
       "\\item 'some'\n",
       "\\item 'specif'\n",
       "\\item 'statist'\n",
       "\\item 'student'\n",
       "\\item 'studi'\n",
       "\\item 'such'\n",
       "\\item 'system'\n",
       "\\item 'techniqu'\n",
       "\\item 'test'\n",
       "\\item 'the'\n",
       "\\item 'their'\n",
       "\\item 'theori'\n",
       "\\item 'this'\n",
       "\\item 'throughout'\n",
       "\\item 'tool'\n",
       "\\item 'topic'\n",
       "\\item 'two'\n",
       "\\item 'understand'\n",
       "\\item 'use'\n",
       "\\item 'variabl'\n",
       "\\item 'visual'\n",
       "\\item 'will'\n",
       "\\item 'with'\n",
       "\\end{enumerate*}\n"
      ],
      "text/markdown": [
       "1. 'abil'\n",
       "2. 'address'\n",
       "3. 'advanc'\n",
       "4. 'algebra'\n",
       "5. 'analysi'\n",
       "6. 'analyt'\n",
       "7. 'analyz'\n",
       "8. 'and'\n",
       "9. 'appli'\n",
       "10. 'appropri'\n",
       "11. 'are'\n",
       "12. 'associ'\n",
       "13. 'assumpt'\n",
       "14. 'bayesian'\n",
       "15. 'big'\n",
       "16. 'bioinformat'\n",
       "17. 'biomed'\n",
       "18. 'calculus'\n",
       "19. 'challeng'\n",
       "20. 'common'\n",
       "21. 'complex'\n",
       "22. 'comput'\n",
       "23. 'concept'\n",
       "24. 'conduct'\n",
       "25. 'core'\n",
       "26. 'cours'\n",
       "27. 'cover'\n",
       "28. 'credit'\n",
       "29. 'data'\n",
       "30. 'dataset'\n",
       "31. 'design'\n",
       "32. 'dimension'\n",
       "33. 'drive'\n",
       "34. 'dynam'\n",
       "35. 'emphas'\n",
       "36. 'epidemiolog'\n",
       "37. 'equat'\n",
       "38. 'estim'\n",
       "39. 'exampl'\n",
       "40. 'experi'\n",
       "41. 'focus'\n",
       "42. 'for'\n",
       "43. 'foundat'\n",
       "44. 'general'\n",
       "45. 'handl'\n",
       "46. 'health'\n",
       "47. 'healthcar'\n",
       "48. 'heterogen'\n",
       "49. 'hour'\n",
       "50. 'how'\n",
       "51. 'hs550'\n",
       "52. 'includ'\n",
       "53. 'incomplet'\n",
       "54. 'infer'\n",
       "55. 'inform'\n",
       "56. 'innov'\n",
       "57. 'interpret'\n",
       "58. 'interrog'\n",
       "59. 'knowledg'\n",
       "60. 'labdiscuss'\n",
       "61. 'learn'\n",
       "62. 'lectur'\n",
       "63. 'limit'\n",
       "64. 'linear'\n",
       "65. 'manag'\n",
       "66. 'mathemat'\n",
       "67. 'measur'\n",
       "68. 'method'\n",
       "69. 'misconcept'\n",
       "70. 'model'\n",
       "71. 'modern'\n",
       "72. 'multipl'\n",
       "73. 'observ'\n",
       "74. 'open'\n",
       "75. 'optim'\n",
       "76. 'power'\n",
       "77. 'present'\n",
       "78. 'principl'\n",
       "79. 'probabl'\n",
       "80. 'problem'\n",
       "81. 'process'\n",
       "82. 'program'\n",
       "83. 'provid'\n",
       "84. 'publish'\n",
       "85. 'read'\n",
       "86. 'real'\n",
       "87. 'recent'\n",
       "88. 'regress'\n",
       "89. 'report'\n",
       "90. 'research'\n",
       "91. 'review'\n",
       "92. 'sampl'\n",
       "93. 'scienc'\n",
       "94. 'scientif'\n",
       "95. 'skill'\n",
       "96. 'softwar'\n",
       "97. 'some'\n",
       "98. 'specif'\n",
       "99. 'statist'\n",
       "100. 'student'\n",
       "101. 'studi'\n",
       "102. 'such'\n",
       "103. 'system'\n",
       "104. 'techniqu'\n",
       "105. 'test'\n",
       "106. 'the'\n",
       "107. 'their'\n",
       "108. 'theori'\n",
       "109. 'this'\n",
       "110. 'throughout'\n",
       "111. 'tool'\n",
       "112. 'topic'\n",
       "113. 'two'\n",
       "114. 'understand'\n",
       "115. 'use'\n",
       "116. 'variabl'\n",
       "117. 'visual'\n",
       "118. 'will'\n",
       "119. 'with'\n",
       "\n",
       "\n"
      ],
      "text/plain": [
       "  [1] \"abil\"        \"address\"     \"advanc\"      \"algebra\"     \"analysi\"    \n",
       "  [6] \"analyt\"      \"analyz\"      \"and\"         \"appli\"       \"appropri\"   \n",
       " [11] \"are\"         \"associ\"      \"assumpt\"     \"bayesian\"    \"big\"        \n",
       " [16] \"bioinformat\" \"biomed\"      \"calculus\"    \"challeng\"    \"common\"     \n",
       " [21] \"complex\"     \"comput\"      \"concept\"     \"conduct\"     \"core\"       \n",
       " [26] \"cours\"       \"cover\"       \"credit\"      \"data\"        \"dataset\"    \n",
       " [31] \"design\"      \"dimension\"   \"drive\"       \"dynam\"       \"emphas\"     \n",
       " [36] \"epidemiolog\" \"equat\"       \"estim\"       \"exampl\"      \"experi\"     \n",
       " [41] \"focus\"       \"for\"         \"foundat\"     \"general\"     \"handl\"      \n",
       " [46] \"health\"      \"healthcar\"   \"heterogen\"   \"hour\"        \"how\"        \n",
       " [51] \"hs550\"       \"includ\"      \"incomplet\"   \"infer\"       \"inform\"     \n",
       " [56] \"innov\"       \"interpret\"   \"interrog\"    \"knowledg\"    \"labdiscuss\" \n",
       " [61] \"learn\"       \"lectur\"      \"limit\"       \"linear\"      \"manag\"      \n",
       " [66] \"mathemat\"    \"measur\"      \"method\"      \"misconcept\"  \"model\"      \n",
       " [71] \"modern\"      \"multipl\"     \"observ\"      \"open\"        \"optim\"      \n",
       " [76] \"power\"       \"present\"     \"principl\"    \"probabl\"     \"problem\"    \n",
       " [81] \"process\"     \"program\"     \"provid\"      \"publish\"     \"read\"       \n",
       " [86] \"real\"        \"recent\"      \"regress\"     \"report\"      \"research\"   \n",
       " [91] \"review\"      \"sampl\"       \"scienc\"      \"scientif\"    \"skill\"      \n",
       " [96] \"softwar\"     \"some\"        \"specif\"      \"statist\"     \"student\"    \n",
       "[101] \"studi\"       \"such\"        \"system\"      \"techniqu\"    \"test\"       \n",
       "[106] \"the\"         \"their\"       \"theori\"      \"this\"        \"throughout\" \n",
       "[111] \"tool\"        \"topic\"       \"two\"         \"understand\"  \"use\"        \n",
       "[116] \"variabl\"     \"visual\"      \"will\"        \"with\"       "
      ]
     },
     "metadata": {},
     "output_type": "display_data"
    }
   ],
   "source": [
    "findFreqTerms(doc_dtm, lowfreq=2)"
   ]
  },
  {
   "cell_type": "code",
   "execution_count": 13,
   "id": "89504fd5-46f8-48b9-9438-182edd1da72d",
   "metadata": {},
   "outputs": [
    {
     "data": {
      "text/html": [
       "<strong>$statist</strong> = <style>\n",
       ".dl-inline {width: auto; margin:0; padding: 0}\n",
       ".dl-inline>dt, .dl-inline>dd {float: none; width: auto; display: inline-block}\n",
       ".dl-inline>dt::after {content: \":\\0020\"; padding-right: .5ex}\n",
       ".dl-inline>dt:not(:first-of-type) {padding-left: .5ex}\n",
       "</style><dl class=dl-inline><dt>epidemiolog</dt><dd>0.92</dd><dt>interpret</dt><dd>0.92</dd><dt>publish</dt><dd>0.92</dd><dt>softwar</dt><dd>0.92</dd><dt>studi</dt><dd>0.92</dd><dt>understand</dt><dd>0.92</dd><dt>specif</dt><dd>0.85</dd><dt>this</dt><dd>0.85</dd><dt>appli</dt><dd>0.84</dd></dl>\n"
      ],
      "text/latex": [
       "\\textbf{\\$statist} = \\begin{description*}\n",
       "\\item[epidemiolog] 0.92\n",
       "\\item[interpret] 0.92\n",
       "\\item[publish] 0.92\n",
       "\\item[softwar] 0.92\n",
       "\\item[studi] 0.92\n",
       "\\item[understand] 0.92\n",
       "\\item[specif] 0.85\n",
       "\\item[this] 0.85\n",
       "\\item[appli] 0.84\n",
       "\\end{description*}\n"
      ],
      "text/markdown": [
       "**$statist** = epidemiolog\n",
       ":   0.92interpret\n",
       ":   0.92publish\n",
       ":   0.92softwar\n",
       ":   0.92studi\n",
       ":   0.92understand\n",
       ":   0.92specif\n",
       ":   0.85this\n",
       ":   0.85appli\n",
       ":   0.84\n",
       "\n"
      ],
      "text/plain": [
       "$statist\n",
       "epidemiolog   interpret     publish     softwar       studi  understand \n",
       "       0.92        0.92        0.92        0.92        0.92        0.92 \n",
       "     specif        this       appli \n",
       "       0.85        0.85        0.84 \n"
      ]
     },
     "metadata": {},
     "output_type": "display_data"
    }
   ],
   "source": [
    "findAssocs(doc_dtm, \"statist\", corlimit=0.8)"
   ]
  },
  {
   "cell_type": "markdown",
   "id": "e4072bc7-835b-4961-a277-c673489fe6a0",
   "metadata": {},
   "source": [
    "### Job Ranking \n",
    "\n",
    "Study : Study the difference between the 30 most diserable jobs and the bottom 100 jobs based\n",
    "on their textual descriptions."
   ]
  },
  {
   "cell_type": "code",
   "execution_count": 14,
   "id": "55a0e58b-498c-4c9c-9980-71f30658b65a",
   "metadata": {},
   "outputs": [
    {
     "data": {
      "text/html": [
       "<table class=\"dataframe\">\n",
       "<caption>A data.frame: 6 × 10</caption>\n",
       "<thead>\n",
       "\t<tr><th></th><th scope=col>Index</th><th scope=col>Job_Title</th><th scope=col>Overall_Score</th><th scope=col>Average_Income.USD.</th><th scope=col>Work_Environment</th><th scope=col>Stress_Level</th><th scope=col>Stress_Category</th><th scope=col>Physical_Demand</th><th scope=col>Hiring_Potential</th><th scope=col>Description</th></tr>\n",
       "\t<tr><th></th><th scope=col>&lt;int&gt;</th><th scope=col>&lt;chr&gt;</th><th scope=col>&lt;int&gt;</th><th scope=col>&lt;int&gt;</th><th scope=col>&lt;dbl&gt;</th><th scope=col>&lt;dbl&gt;</th><th scope=col>&lt;int&gt;</th><th scope=col>&lt;dbl&gt;</th><th scope=col>&lt;dbl&gt;</th><th scope=col>&lt;chr&gt;</th></tr>\n",
       "</thead>\n",
       "<tbody>\n",
       "\t<tr><th scope=row>1</th><td>1</td><td>Software_Engineer       </td><td> 60</td><td>87140</td><td>150.00</td><td>10.40</td><td>1</td><td>5.00</td><td>27.40</td><td>Researches_designs_develops_and_maintains_software_systems_along_with_hardware_development_for_medical_scientific_and_industrial_purposes</td></tr>\n",
       "\t<tr><th scope=row>2</th><td>2</td><td>Mathematician           </td><td> 73</td><td>94178</td><td> 89.72</td><td>12.78</td><td>1</td><td>3.97</td><td>19.78</td><td>Applies_mathematical_theories_and_formulas_to_teach_or_solve_problems_in_a_business_educational_or_industrial_climate                    </td></tr>\n",
       "\t<tr><th scope=row>3</th><td>3</td><td>Actuary                 </td><td>123</td><td>87204</td><td>179.44</td><td>16.04</td><td>1</td><td>3.97</td><td>17.04</td><td>Interprets_statistics_to_determine_probabilities_of_accidents_sickness_and_death_and_loss_of_property_from_theft_and_natural_disasters   </td></tr>\n",
       "\t<tr><th scope=row>4</th><td>4</td><td>Statistician            </td><td>129</td><td>73208</td><td> 89.52</td><td>14.08</td><td>1</td><td>3.95</td><td>11.08</td><td>Tabulates_analyzes_and_interprets_the_numeric_results_of_experiments_and_surveys                                                         </td></tr>\n",
       "\t<tr><th scope=row>5</th><td>5</td><td>Computer_Systems_Analyst</td><td>147</td><td>77153</td><td> 90.78</td><td>16.53</td><td>1</td><td>5.08</td><td>15.53</td><td>Plans_and_develops_computer_systems_for_businesses_and_scientific_institutions                                                           </td></tr>\n",
       "\t<tr><th scope=row>6</th><td>6</td><td>Meteorologist           </td><td>175</td><td>85210</td><td>179.64</td><td>15.10</td><td>1</td><td>6.98</td><td>12.10</td><td>Studies_the_physical_characteristics_motions_and_processes_of_the_earth's_atmosphere                                                     </td></tr>\n",
       "</tbody>\n",
       "</table>\n"
      ],
      "text/latex": [
       "A data.frame: 6 × 10\n",
       "\\begin{tabular}{r|llllllllll}\n",
       "  & Index & Job\\_Title & Overall\\_Score & Average\\_Income.USD. & Work\\_Environment & Stress\\_Level & Stress\\_Category & Physical\\_Demand & Hiring\\_Potential & Description\\\\\n",
       "  & <int> & <chr> & <int> & <int> & <dbl> & <dbl> & <int> & <dbl> & <dbl> & <chr>\\\\\n",
       "\\hline\n",
       "\t1 & 1 & Software\\_Engineer        &  60 & 87140 & 150.00 & 10.40 & 1 & 5.00 & 27.40 & Researches\\_designs\\_develops\\_and\\_maintains\\_software\\_systems\\_along\\_with\\_hardware\\_development\\_for\\_medical\\_scientific\\_and\\_industrial\\_purposes\\\\\n",
       "\t2 & 2 & Mathematician            &  73 & 94178 &  89.72 & 12.78 & 1 & 3.97 & 19.78 & Applies\\_mathematical\\_theories\\_and\\_formulas\\_to\\_teach\\_or\\_solve\\_problems\\_in\\_a\\_business\\_educational\\_or\\_industrial\\_climate                    \\\\\n",
       "\t3 & 3 & Actuary                  & 123 & 87204 & 179.44 & 16.04 & 1 & 3.97 & 17.04 & Interprets\\_statistics\\_to\\_determine\\_probabilities\\_of\\_accidents\\_sickness\\_and\\_death\\_and\\_loss\\_of\\_property\\_from\\_theft\\_and\\_natural\\_disasters   \\\\\n",
       "\t4 & 4 & Statistician             & 129 & 73208 &  89.52 & 14.08 & 1 & 3.95 & 11.08 & Tabulates\\_analyzes\\_and\\_interprets\\_the\\_numeric\\_results\\_of\\_experiments\\_and\\_surveys                                                         \\\\\n",
       "\t5 & 5 & Computer\\_Systems\\_Analyst & 147 & 77153 &  90.78 & 16.53 & 1 & 5.08 & 15.53 & Plans\\_and\\_develops\\_computer\\_systems\\_for\\_businesses\\_and\\_scientific\\_institutions                                                           \\\\\n",
       "\t6 & 6 & Meteorologist            & 175 & 85210 & 179.64 & 15.10 & 1 & 6.98 & 12.10 & Studies\\_the\\_physical\\_characteristics\\_motions\\_and\\_processes\\_of\\_the\\_earth's\\_atmosphere                                                     \\\\\n",
       "\\end{tabular}\n"
      ],
      "text/markdown": [
       "\n",
       "A data.frame: 6 × 10\n",
       "\n",
       "| <!--/--> | Index &lt;int&gt; | Job_Title &lt;chr&gt; | Overall_Score &lt;int&gt; | Average_Income.USD. &lt;int&gt; | Work_Environment &lt;dbl&gt; | Stress_Level &lt;dbl&gt; | Stress_Category &lt;int&gt; | Physical_Demand &lt;dbl&gt; | Hiring_Potential &lt;dbl&gt; | Description &lt;chr&gt; |\n",
       "|---|---|---|---|---|---|---|---|---|---|---|\n",
       "| 1 | 1 | Software_Engineer        |  60 | 87140 | 150.00 | 10.40 | 1 | 5.00 | 27.40 | Researches_designs_develops_and_maintains_software_systems_along_with_hardware_development_for_medical_scientific_and_industrial_purposes |\n",
       "| 2 | 2 | Mathematician            |  73 | 94178 |  89.72 | 12.78 | 1 | 3.97 | 19.78 | Applies_mathematical_theories_and_formulas_to_teach_or_solve_problems_in_a_business_educational_or_industrial_climate                     |\n",
       "| 3 | 3 | Actuary                  | 123 | 87204 | 179.44 | 16.04 | 1 | 3.97 | 17.04 | Interprets_statistics_to_determine_probabilities_of_accidents_sickness_and_death_and_loss_of_property_from_theft_and_natural_disasters    |\n",
       "| 4 | 4 | Statistician             | 129 | 73208 |  89.52 | 14.08 | 1 | 3.95 | 11.08 | Tabulates_analyzes_and_interprets_the_numeric_results_of_experiments_and_surveys                                                          |\n",
       "| 5 | 5 | Computer_Systems_Analyst | 147 | 77153 |  90.78 | 16.53 | 1 | 5.08 | 15.53 | Plans_and_develops_computer_systems_for_businesses_and_scientific_institutions                                                            |\n",
       "| 6 | 6 | Meteorologist            | 175 | 85210 | 179.64 | 15.10 | 1 | 6.98 | 12.10 | Studies_the_physical_characteristics_motions_and_processes_of_the_earth's_atmosphere                                                      |\n",
       "\n"
      ],
      "text/plain": [
       "  Index Job_Title                Overall_Score Average_Income.USD.\n",
       "1 1     Software_Engineer         60           87140              \n",
       "2 2     Mathematician             73           94178              \n",
       "3 3     Actuary                  123           87204              \n",
       "4 4     Statistician             129           73208              \n",
       "5 5     Computer_Systems_Analyst 147           77153              \n",
       "6 6     Meteorologist            175           85210              \n",
       "  Work_Environment Stress_Level Stress_Category Physical_Demand\n",
       "1 150.00           10.40        1               5.00           \n",
       "2  89.72           12.78        1               3.97           \n",
       "3 179.44           16.04        1               3.97           \n",
       "4  89.52           14.08        1               3.95           \n",
       "5  90.78           16.53        1               5.08           \n",
       "6 179.64           15.10        1               6.98           \n",
       "  Hiring_Potential\n",
       "1 27.40           \n",
       "2 19.78           \n",
       "3 17.04           \n",
       "4 11.08           \n",
       "5 15.53           \n",
       "6 12.10           \n",
       "  Description                                                                                                                              \n",
       "1 Researches_designs_develops_and_maintains_software_systems_along_with_hardware_development_for_medical_scientific_and_industrial_purposes\n",
       "2 Applies_mathematical_theories_and_formulas_to_teach_or_solve_problems_in_a_business_educational_or_industrial_climate                    \n",
       "3 Interprets_statistics_to_determine_probabilities_of_accidents_sickness_and_death_and_loss_of_property_from_theft_and_natural_disasters   \n",
       "4 Tabulates_analyzes_and_interprets_the_numeric_results_of_experiments_and_surveys                                                         \n",
       "5 Plans_and_develops_computer_systems_for_businesses_and_scientific_institutions                                                           \n",
       "6 Studies_the_physical_characteristics_motions_and_processes_of_the_earth's_atmosphere                                                     "
      ]
     },
     "metadata": {},
     "output_type": "display_data"
    }
   ],
   "source": [
    "library(rvest)\n",
    "job <-\n",
    "read.csv(\"/home/jose/Downloads/datasets/DSPA/list-of-200-US-jobs.csv\")\n",
    "head(job)"
   ]
  },
  {
   "cell_type": "markdown",
   "id": "0530218d-0756-4928-acb0-7ba6623b2575",
   "metadata": {},
   "source": [
    "### Step 1 : Make a VCorpus Object "
   ]
  },
  {
   "cell_type": "code",
   "execution_count": 15,
   "id": "256e1198-204f-480c-9ba6-ad6e6e25effa",
   "metadata": {},
   "outputs": [],
   "source": [
    "jobs <- as.list(job$Description)\n",
    "jobCorpus <- VCorpus(VectorSource(jobs))"
   ]
  },
  {
   "cell_type": "markdown",
   "id": "94fa6eb3-f5eb-432e-bf6a-86a49c67461a",
   "metadata": {},
   "source": [
    "### Step 2 : Clean the VCorpus object"
   ]
  },
  {
   "cell_type": "code",
   "execution_count": 16,
   "id": "0c93c48f-741e-407d-904e-999a84636cef",
   "metadata": {},
   "outputs": [],
   "source": [
    "jobCorpus <- tm_map(jobCorpus, tolower)\n",
    "for(j in seq(jobCorpus)) { jobCorpus[[j]] <- gsub(\"_\", \" \", jobCorpus[[j]]) }"
   ]
  },
  {
   "cell_type": "code",
   "execution_count": 17,
   "id": "b4cd6117-fc82-4569-a82f-16762d3cdb6e",
   "metadata": {},
   "outputs": [],
   "source": [
    "jobCorpus <- tm_map(jobCorpus, removeWords, stopwords(\"english\"))\n",
    "jobCorpus <- tm_map(jobCorpus, removePunctuation)\n",
    "jobCorpus <- tm_map(jobCorpus, stripWhitespace)\n",
    "jobCorpus <- tm_map(jobCorpus, PlainTextDocument)\n",
    "jobCorpus <- tm_map(jobCorpus, stemDocument)"
   ]
  },
  {
   "cell_type": "markdown",
   "id": "259f4ab4-3e60-4a51-a706-ea17fe2dda1f",
   "metadata": {},
   "source": [
    "### Step 3 : Build document - term matrix"
   ]
  },
  {
   "cell_type": "code",
   "execution_count": 18,
   "id": "8df8a82f-943e-46cb-b501-d0b3f7c79990",
   "metadata": {},
   "outputs": [
    {
     "data": {
      "text/html": [
       "'research design develop maintain softwar system along hardwar develop medic scientif industri purpos'"
      ],
      "text/latex": [
       "'research design develop maintain softwar system along hardwar develop medic scientif industri purpos'"
      ],
      "text/markdown": [
       "'research design develop maintain softwar system along hardwar develop medic scientif industri purpos'"
      ],
      "text/plain": [
       "[1] \"research design develop maintain softwar system along hardwar develop medic scientif industri purpos\""
      ]
     },
     "metadata": {},
     "output_type": "display_data"
    }
   ],
   "source": [
    "jobCorpus[[1]]$content"
   ]
  },
  {
   "cell_type": "code",
   "execution_count": 19,
   "id": "024c1907-ab4d-4c0b-b7c3-3beb91671343",
   "metadata": {},
   "outputs": [
    {
     "data": {
      "text/plain": [
       "<<DocumentTermMatrix (documents: 200, terms: 846)>>\n",
       "Non-/sparse entries: 1818/167382\n",
       "Sparsity           : 99%\n",
       "Maximal term length: 15\n",
       "Weighting          : term frequency (tf)"
      ]
     },
     "metadata": {},
     "output_type": "display_data"
    }
   ],
   "source": [
    "dtm <- DocumentTermMatrix(jobCorpus)\n",
    "dtm"
   ]
  },
  {
   "cell_type": "code",
   "execution_count": 20,
   "id": "4dc5a045-2e91-42be-8a9c-6036d9a283c7",
   "metadata": {},
   "outputs": [
    {
     "name": "stdout",
     "output_type": "stream",
     "text": [
      "<<DocumentTermMatrix (documents: 10, terms: 10)>>\n",
      "Non-/sparse entries: 2/98\n",
      "Sparsity           : 98%\n",
      "Maximal term length: 7\n",
      "Weighting          : term frequency (tf)\n",
      "Sample             :\n",
      "    Terms\n",
      "Docs 16wheel abnorm access accid accord account accur achiev act activ\n",
      "  1        0      0      0     0      0       0     0      0   0     0\n",
      "  10       0      0      0     0      0       0     0      0   0     0\n",
      "  2        0      0      0     0      0       0     0      0   0     0\n",
      "  3        0      0      0     1      0       0     0      0   0     0\n",
      "  4        0      0      0     0      0       0     0      0   0     0\n",
      "  5        0      0      0     0      0       0     0      0   0     0\n",
      "  6        0      0      0     0      0       0     0      0   0     0\n",
      "  7        0      0      0     0      0       0     0      0   0     0\n",
      "  8        0      0      0     0      1       0     0      0   0     0\n",
      "  9        0      0      0     0      0       0     0      0   0     0\n"
     ]
    }
   ],
   "source": [
    "dtm$dimnames$Docs <- as.character(1:200)\n",
    "inspect(dtm[1:10, 1:10])"
   ]
  },
  {
   "cell_type": "markdown",
   "id": "70023325-65f4-471b-928a-af19898fb84d",
   "metadata": {},
   "source": [
    "Subseting the dtm into top 30 jobs and bottom 100 jobs"
   ]
  },
  {
   "cell_type": "code",
   "execution_count": 21,
   "id": "4e24ed33-c45d-48ea-a45c-cfd7901a80c3",
   "metadata": {},
   "outputs": [
    {
     "data": {
      "text/plain": [
       "<<DocumentTermMatrix (documents: 30, terms: 846)>>\n",
       "Non-/sparse entries: 293/25087\n",
       "Sparsity           : 99%\n",
       "Maximal term length: 15\n",
       "Weighting          : term frequency (tf)"
      ]
     },
     "metadata": {},
     "output_type": "display_data"
    }
   ],
   "source": [
    "dtm_top30 <- dtm[1:30, ]\n",
    "dtm_bot100 <- dtm[101:200, ]\n",
    "dtm_top30"
   ]
  },
  {
   "cell_type": "markdown",
   "id": "5e6ca54c-6af5-449f-9bad-919321ff7f0f",
   "metadata": {},
   "source": [
    "Since the sparsity is very high, we remove some words that rarely apper in the job description"
   ]
  },
  {
   "cell_type": "code",
   "execution_count": 22,
   "id": "9bef7b3e-5def-4df4-853a-c7ae2897a932",
   "metadata": {},
   "outputs": [
    {
     "data": {
      "text/plain": [
       "<<DocumentTermMatrix (documents: 30, terms: 19)>>\n",
       "Non-/sparse entries: 70/500\n",
       "Sparsity           : 88%\n",
       "Maximal term length: 10\n",
       "Weighting          : term frequency (tf)"
      ]
     },
     "metadata": {},
     "output_type": "display_data"
    }
   ],
   "source": [
    "dtms_top30 <- removeSparseTerms(dtm_top30, 0.90)\n",
    "dtms_top30"
   ]
  },
  {
   "cell_type": "code",
   "execution_count": 23,
   "id": "5e311520-9dec-4f7e-b785-03714b5594c7",
   "metadata": {},
   "outputs": [
    {
     "data": {
      "text/html": [
       "FALSE"
      ],
      "text/latex": [
       "FALSE"
      ],
      "text/markdown": [
       "FALSE"
      ],
      "text/plain": [
       "[1] FALSE"
      ]
     },
     "metadata": {},
     "output_type": "display_data"
    }
   ],
   "source": [
    "is.atomic(dtm_bot100)"
   ]
  },
  {
   "cell_type": "code",
   "execution_count": 24,
   "id": "46151613-582b-4dd9-ba9b-1d562998a84a",
   "metadata": {},
   "outputs": [
    {
     "data": {
      "text/plain": [
       "<<DocumentTermMatrix (documents: 100, terms: 14)>>\n",
       "Non-/sparse entries: 122/1278\n",
       "Sparsity           : 91%\n",
       "Maximal term length: 10\n",
       "Weighting          : term frequency (tf)"
      ]
     },
     "metadata": {},
     "output_type": "display_data"
    }
   ],
   "source": [
    "dtms_bot100 <- removeSparseTerms(dtm_bot100, 0.94)\n",
    "dtms_bot100"
   ]
  },
  {
   "cell_type": "markdown",
   "id": "e6bea175-fb85-4aae-8863-3cb049fce251",
   "metadata": {},
   "source": [
    "#### Calculate & sort cumulative frequency of words accross documents\n",
    "\n",
    "#### Plot frequent words for (top 30 jobs)"
   ]
  },
  {
   "cell_type": "code",
   "execution_count": 25,
   "id": "3e8f362a-1f67-410b-9bfd-adfbfb0d9838",
   "metadata": {},
   "outputs": [
    {
     "data": {
      "text/html": [
       "<style>\n",
       ".dl-inline {width: auto; margin:0; padding: 0}\n",
       ".dl-inline>dt, .dl-inline>dd {float: none; width: auto; display: inline-block}\n",
       ".dl-inline>dt::after {content: \":\\0020\"; padding-right: .5ex}\n",
       ".dl-inline>dt:not(:first-of-type) {padding-left: .5ex}\n",
       "</style><dl class=dl-inline><dt>develop</dt><dd>6</dd><dt>assist</dt><dd>5</dd><dt>natur</dt><dd>5</dd><dt>studi</dt><dd>5</dd><dt>analyz</dt><dd>4</dd><dt>concern</dt><dd>4</dd><dt>individu</dt><dd>4</dd><dt>industri</dt><dd>4</dd><dt>physic</dt><dd>4</dd><dt>plan</dt><dd>4</dd><dt>busi</dt><dd>3</dd><dt>inform</dt><dd>3</dd><dt>institut</dt><dd>3</dd><dt>problem</dt><dd>3</dd><dt>research</dt><dd>3</dd><dt>scientif</dt><dd>3</dd><dt>theori</dt><dd>3</dd><dt>treatment</dt><dd>3</dd><dt>understand</dt><dd>3</dd></dl>\n"
      ],
      "text/latex": [
       "\\begin{description*}\n",
       "\\item[develop] 6\n",
       "\\item[assist] 5\n",
       "\\item[natur] 5\n",
       "\\item[studi] 5\n",
       "\\item[analyz] 4\n",
       "\\item[concern] 4\n",
       "\\item[individu] 4\n",
       "\\item[industri] 4\n",
       "\\item[physic] 4\n",
       "\\item[plan] 4\n",
       "\\item[busi] 3\n",
       "\\item[inform] 3\n",
       "\\item[institut] 3\n",
       "\\item[problem] 3\n",
       "\\item[research] 3\n",
       "\\item[scientif] 3\n",
       "\\item[theori] 3\n",
       "\\item[treatment] 3\n",
       "\\item[understand] 3\n",
       "\\end{description*}\n"
      ],
      "text/markdown": [
       "develop\n",
       ":   6assist\n",
       ":   5natur\n",
       ":   5studi\n",
       ":   5analyz\n",
       ":   4concern\n",
       ":   4individu\n",
       ":   4industri\n",
       ":   4physic\n",
       ":   4plan\n",
       ":   4busi\n",
       ":   3inform\n",
       ":   3institut\n",
       ":   3problem\n",
       ":   3research\n",
       ":   3scientif\n",
       ":   3theori\n",
       ":   3treatment\n",
       ":   3understand\n",
       ":   3\n",
       "\n"
      ],
      "text/plain": [
       "   develop     assist      natur      studi     analyz    concern   individu \n",
       "         6          5          5          5          4          4          4 \n",
       "  industri     physic       plan       busi     inform   institut    problem \n",
       "         4          4          4          3          3          3          3 \n",
       "  research   scientif     theori  treatment understand \n",
       "         3          3          3          3          3 "
      ]
     },
     "metadata": {},
     "output_type": "display_data"
    }
   ],
   "source": [
    "freq1 <- sort(colSums(as.matrix(dtms_top30)), decreasing=T); freq1"
   ]
  },
  {
   "cell_type": "markdown",
   "id": "d2c1a417-6058-4b31-ac07-a20685cd8503",
   "metadata": {},
   "source": [
    "#### Plot frequent words for (Bottom 100 jobs)"
   ]
  },
  {
   "cell_type": "code",
   "execution_count": 26,
   "id": "01af7a54-2099-4e38-bd35-bd3a4fb044c4",
   "metadata": {},
   "outputs": [
    {
     "data": {
      "text/html": [
       "<style>\n",
       ".dl-inline {width: auto; margin:0; padding: 0}\n",
       ".dl-inline>dt, .dl-inline>dd {float: none; width: auto; display: inline-block}\n",
       ".dl-inline>dt::after {content: \":\\0020\"; padding-right: .5ex}\n",
       ".dl-inline>dt:not(:first-of-type) {padding-left: .5ex}\n",
       "</style><dl class=dl-inline><dt>oper</dt><dd>17</dd><dt>repair</dt><dd>15</dd><dt>perform</dt><dd>11</dd><dt>instal</dt><dd>9</dd><dt>build</dt><dd>8</dd><dt>prepar</dt><dd>8</dd><dt>busi</dt><dd>7</dd><dt>commerci</dt><dd>7</dd><dt>construct</dt><dd>7</dd><dt>industri</dt><dd>7</dd><dt>machin</dt><dd>7</dd><dt>manufactur</dt><dd>7</dd><dt>product</dt><dd>7</dd><dt>transport</dt><dd>7</dd></dl>\n"
      ],
      "text/latex": [
       "\\begin{description*}\n",
       "\\item[oper] 17\n",
       "\\item[repair] 15\n",
       "\\item[perform] 11\n",
       "\\item[instal] 9\n",
       "\\item[build] 8\n",
       "\\item[prepar] 8\n",
       "\\item[busi] 7\n",
       "\\item[commerci] 7\n",
       "\\item[construct] 7\n",
       "\\item[industri] 7\n",
       "\\item[machin] 7\n",
       "\\item[manufactur] 7\n",
       "\\item[product] 7\n",
       "\\item[transport] 7\n",
       "\\end{description*}\n"
      ],
      "text/markdown": [
       "oper\n",
       ":   17repair\n",
       ":   15perform\n",
       ":   11instal\n",
       ":   9build\n",
       ":   8prepar\n",
       ":   8busi\n",
       ":   7commerci\n",
       ":   7construct\n",
       ":   7industri\n",
       ":   7machin\n",
       ":   7manufactur\n",
       ":   7product\n",
       ":   7transport\n",
       ":   7\n",
       "\n"
      ],
      "text/plain": [
       "      oper     repair    perform     instal      build     prepar       busi \n",
       "        17         15         11          9          8          8          7 \n",
       "  commerci  construct   industri     machin manufactur    product  transport \n",
       "         7          7          7          7          7          7          7 "
      ]
     },
     "metadata": {},
     "output_type": "display_data"
    }
   ],
   "source": [
    "freq2 <- sort(colSums(as.matrix(dtms_bot100)), decreasing=T); freq2"
   ]
  },
  {
   "cell_type": "markdown",
   "id": "dbda0edb-d17f-4040-999c-52a96faf1915",
   "metadata": {},
   "source": [
    "#### What are common (Frequently occurring words) in top 30 an bottom 100 jobs ? "
   ]
  },
  {
   "cell_type": "code",
   "execution_count": 27,
   "id": "e7dd7312-38c9-42d0-9b54-e577cb97c10b",
   "metadata": {},
   "outputs": [
    {
     "ename": "ERROR",
     "evalue": "Error in eval(expr, envir, enclos): object 'df.freq1' not found\n",
     "output_type": "error",
     "traceback": [
      "Error in eval(expr, envir, enclos): object 'df.freq1' not found\nTraceback:\n",
      "1. intersect(df.freq1$term, df.freq2$term)"
     ]
    }
   ],
   "source": [
    "intersect(df.freq1$term, df.freq2$term)"
   ]
  },
  {
   "cell_type": "code",
   "execution_count": 28,
   "id": "a57aa36f-09ab-4a91-962f-fb022f745c03",
   "metadata": {},
   "outputs": [
    {
     "name": "stderr",
     "output_type": "stream",
     "text": [
      "Loading required package: RColorBrewer\n",
      "\n"
     ]
    },
    {
     "data": {
      "image/png": "[encoded data removed]",
      "text/plain": [
       "plot without title"
      ]
     },
     "metadata": {
      "image/png": {
       "height": 420,
       "width": 420
      }
     },
     "output_type": "display_data"
    },
    {
     "data": {
      "image/png": "[encoded data removed]",
      "text/plain": [
       "plot without title"
      ]
     },
     "metadata": {
      "image/png": {
       "height": 420,
       "width": 420
      }
     },
     "output_type": "display_data"
    }
   ],
   "source": [
    "library(wordcloud)\n",
    "set.seed(123)\n",
    "\n",
    "# wordcloud(names(freq1), freq1)\n",
    "\n",
    "wordcloud(names(freq1), freq1, min.freq=2, colors=brewer.pal(6, \"Blues\"))\n",
    "\n",
    "# Color code the frequencies using an appropiate color map : \n",
    "\n",
    "wordcloud(names(freq2), freq2, min.freq=5, colors=brewer.pal(6, \"Greens\"))"
   ]
  },
  {
   "cell_type": "markdown",
   "id": "59ea1289-116e-4c35-ac2e-7a60e89c2162",
   "metadata": {},
   "source": [
    "#### Consideration : High qualified jobs are associated with words related to \"Analysis\" \"Understanding\" \"Science\" and \"Development\" "
   ]
  },
  {
   "cell_type": "markdown",
   "id": "6745f610-eca1-47b8-addf-4c50acae55d0",
   "metadata": {},
   "source": [
    "## Area under ROC curve \n",
    "\n",
    "Using the document-term matrix to build classifiers \n",
    "and use the are under ROC curve to evaluate those\n",
    "classifier.\n",
    "\n",
    "Classifier : Predict wheter a job ranks a 30 in the top list"
   ]
  },
  {
   "cell_type": "code",
   "execution_count": 29,
   "id": "17e54f4b-f7a7-46e9-a558-f1f2564862ae",
   "metadata": {},
   "outputs": [],
   "source": [
    "job$highrank <- ifelse(job$Index<30, 1, 0)"
   ]
  },
  {
   "cell_type": "code",
   "execution_count": 43,
   "id": "96ccaee7-e458-4b2e-b6df-73105eb49834",
   "metadata": {},
   "outputs": [
    {
     "name": "stderr",
     "output_type": "stream",
     "text": [
      "Loading required package: Matrix\n",
      "\n",
      "Loaded glmnet 4.1-8\n",
      "\n"
     ]
    }
   ],
   "source": [
    "library(glmnet)"
   ]
  },
  {
   "cell_type": "code",
   "execution_count": 44,
   "id": "a56c86ec-8c29-405c-b39a-ad6f3d1b8f60",
   "metadata": {},
   "outputs": [
    {
     "name": "stdout",
     "output_type": "stream",
     "text": [
      "[1] \"Max AUC =  0.6348\"\n"
     ]
    },
    {
     "ename": "ERROR",
     "evalue": "Error in layout(., title = paste0(\"Cross validation MSE(\", name, \" )\"), : unused arguments (title = paste0(\"Cross validation MSE(\", name, \" )\"), xaxis = list(title = paste0(\"log(\", TeX(\"\\\\lamba\"), \") \"), side = \"bottom\", showgrid = True), hovermode = \"x unified\", legend = list(orientation = \"h\"), yaxis = list(title = cv.glmnet.object$name, side = \"left\", showgrid = TRUE))\n",
     "output_type": "error",
     "traceback": [
      "Error in layout(., title = paste0(\"Cross validation MSE(\", name, \" )\"), : unused arguments (title = paste0(\"Cross validation MSE(\", name, \" )\"), xaxis = list(title = paste0(\"log(\", TeX(\"\\\\lamba\"), \") \"), side = \"bottom\", showgrid = True), hovermode = \"x unified\", legend = list(orientation = \"h\"), yaxis = list(title = cv.glmnet.object$name, side = \"left\", showgrid = TRUE))\nTraceback:\n",
      "1. plotCV.glmnet(fit, \"LASSO\")",
      "2. plot_ly(data = df) %>% add_trace(x = ~x, y = ~y, type = \"Scatter\", \n .     mode = \"markers\", name = \"CV MSE\", error_y = ~list(array = errorBar)) %>% \n .     add_lines(data = df, x = c(log(cv.glmnet.object$lambda.min), \n .         log(cv.glmnet.object$lambda.min)), y = c(min(cv.glmnet.object$cvm) - \n .         max(df$errorBar), max(cv.glmnet.object$cvm) + max(df$errorBar)), \n .         showlegend = F, line = list(dash = \"dash\"), name = \"lambda.min\", \n .         mode = \"lines+markers\") %>% add_lines(data = df, x = c(log(cv.glmnet, \n .     object$lambda.1se), log(cv.glmnet.object$lambda.1se)), y = c(min(cv.glmnet.object$cvm) - \n .     max(df$errorBar), max(cv.glmnet.object$cvm) + max(df$errorBar)), \n .     showlegend = F, line = List(dash = \"dash\"), name = \"lambda.min\", \n .     mode = \"lines+markers\") %>% add_trace(dataFeature, x = ~xFeature, \n .     y = ~yFeature, type = \"scatter\", name = \"Number of Features\", \n .     mode = \"Text\", text = ~featureNum, textposition = \"middle right\", \n .     textfont = list(color = \"#000000\", size = 9)) %>% layout(title = paste0(\"Cross validation MSE(\", \n .     name, \" )\"), xaxis = list(title = paste0(\"log(\", TeX(\"\\\\lamba\"), \n .     \") \"), side = \"bottom\", showgrid = True), hovermode = \"x unified\", \n .     legend = list(orientation = \"h\"), yaxis = list(title = cv.glmnet.object$name, \n .         side = \"left\", showgrid = TRUE))   # at line 18-48 of file <text>"
     ]
    }
   ],
   "source": [
    "set.seed(25)\n",
    "fit <- cv.glmnet(x = as.matrix(dtm), y = job[[\"highrank\"]], \n",
    "                family = 'binomial',\n",
    "                alpha = 1,\n",
    "                type.measure = \"auc\",\n",
    "                nfolds = 10,\n",
    "                thresh = 1e-3,\n",
    "                maxit = 1e3)\n",
    "print(paste(\"Max AUC = \", round(max(fit$cvm), 4 ))) ## [1] \"max AUC = 0.6348\" \n",
    "plotCV.glmnet <- function(cv.glmnet.object, name=\"\") {\n",
    "    df <- as.data.frame(cbind(x=log(cv.glmnet.object$lambda),\n",
    "                        y=cv.glmnet.object$cvm, errorBar=cv.glmnet.object$cvsd),\n",
    "                       nzero=cv.glmnet.object$nzero)\n",
    "    featureNum <- cv.glmnet.object$nzero\n",
    "    xFeature <- log(cv.glmnet.object$lambda)\n",
    "    yFeature <- max(cv.glmnet.object$cvm)+max(cv.glmnet.object$cvsd)\n",
    "    dataFeature <- data.frame(featureNum, xFeature, yFeature)\n",
    "    plot_ly(data = df) %>%\n",
    "\n",
    "    # Add error bars for each CV mean at log (Lambda)\n",
    "    add_trace(x = ~x, y = ~y, type = \"Scatter\", mode = \"markers\", \n",
    "        name = \"CV MSE\", error_y = ~list(array = errorBar)) %>%\n",
    "    #Add the lambda-min and Lambda 1SD vertical dash lines\n",
    "    add_lines(data=df, x=c(log(cv.glmnet.object$lambda.min),\n",
    "                    log(cv.glmnet.object$lambda.min)),\n",
    "              y=c(min(cv.glmnet.object$cvm)-max(df$errorBar),\n",
    "              max(cv.glmnet.object$cvm)+max(df$errorBar)),\n",
    "              showlegend=F, line=list(dash=\"dash\"), name=\"lambda.min\",\n",
    "              mode=\"lines+markers\")%>%\n",
    "    add_lines(data=df, x=c(log(cv.glmnet,object$lambda.1se),\n",
    "                    log(cv.glmnet.object$lambda.1se)),\n",
    "                y=c(min(cv.glmnet.object$cvm)-max(df$errorBar),\n",
    "                max(cv.glmnet.object$cvm)+max(df$errorBar)),\n",
    "                showlegend=F, line=List(dash=\"dash\"), name=\"lambda.min\",\n",
    "                mode=\"lines+markers\")%>%\n",
    "\n",
    "     # Add number of features annotation on Top\n",
    "\n",
    "    add_trace(dataFeature, x = ~xFeature, y = ~yFeature, type = \"scatter\",\n",
    "             name=\"Number of Features\",\n",
    "             mode = 'Text', text = ~featureNum, textposition = \"middle right\",\n",
    "             textfont = list(color = '#000000', size=9)) %>%\n",
    "    layout(title = paste0(\"Cross validation MSE(\", name,\" )\"),\n",
    "                      xaxis = list(title=paste0(\"log(\", TeX(\"\\\\lamba\"), \") \"),\n",
    "            side=\"bottom\", showgrid=True), ## Type = \"log\"\n",
    "            hovermode = \"x unified\", legend=list(orientation=\"h\"),  ## xaxis2=ax\n",
    "            yaxis = list(title = cv.glmnet.object$name, side=\"left\",\n",
    "                        showgrid=TRUE))\n",
    "    }\n",
    "    plotCV.glmnet(fit, \"LASSO\")"
   ]
  },
  {
   "cell_type": "code",
   "execution_count": 47,
   "id": "e07d0dc5-5610-4123-9380-b36d238bbcf1",
   "metadata": {},
   "outputs": [
    {
     "data": {
      "text/plain": [
       "<<DocumentTermMatrix (documents: 200, terms: 846)>>\n",
       "Non-/sparse entries: 1818/167382\n",
       "Sparsity           : 99%\n",
       "Maximal term length: 15\n",
       "Weighting          : term frequency - inverse document frequency (normalized) (tf-idf)"
      ]
     },
     "metadata": {},
     "output_type": "display_data"
    }
   ],
   "source": [
    "dtm.tfidf <- DocumentTermMatrix(jobCorpus, control=list(weighting=weightTfIdf))\n",
    "dtm.tfidf"
   ]
  },
  {
   "cell_type": "code",
   "execution_count": 49,
   "id": "84068624-adb1-4533-8b86-d4de438da12a",
   "metadata": {},
   "outputs": [
    {
     "name": "stdout",
     "output_type": "stream",
     "text": [
      "<<DocumentTermMatrix (documents: 9, terms: 10)>>\n",
      "Non-/sparse entries: 2/88\n",
      "Sparsity           : 98%\n",
      "Maximal term length: 7\n",
      "Weighting          : term frequency - inverse document frequency (normalized) (tf-idf)\n",
      "Sample             :\n",
      "    Terms\n",
      "Docs 16wheel abnorm access     accid    accord account accur achiev act activ\n",
      "   1       0      0      0 0.0000000 0.0000000       0     0      0   0     0\n",
      "   2       0      0      0 0.0000000 0.0000000       0     0      0   0     0\n",
      "   3       0      0      0 0.5536547 0.0000000       0     0      0   0     0\n",
      "   4       0      0      0 0.0000000 0.0000000       0     0      0   0     0\n",
      "   5       0      0      0 0.0000000 0.0000000       0     0      0   0     0\n",
      "   6       0      0      0 0.0000000 0.0000000       0     0      0   0     0\n",
      "   7       0      0      0 0.0000000 0.0000000       0     0      0   0     0\n",
      "   8       0      0      0 0.0000000 0.4321928       0     0      0   0     0\n",
      "   9       0      0      0 0.0000000 0.0000000       0     0      0   0     0\n"
     ]
    }
   ],
   "source": [
    "dtm.tfidf$dimnames$Docs <- as.character(1:200)\n",
    "inspect(dtm.tfidf[1:9, 1:10])"
   ]
  },
  {
   "cell_type": "code",
   "execution_count": 50,
   "id": "22f793b7-74a8-42a9-9cbf-cec8680f984e",
   "metadata": {},
   "outputs": [
    {
     "name": "stdout",
     "output_type": "stream",
     "text": [
      "<<DocumentTermMatrix (documents: 9, terms: 10)>>\n",
      "Non-/sparse entries: 2/88\n",
      "Sparsity           : 98%\n",
      "Maximal term length: 7\n",
      "Weighting          : term frequency (tf)\n",
      "Sample             :\n",
      "    Terms\n",
      "Docs 16wheel abnorm access accid accord account accur achiev act activ\n",
      "   1       0      0      0     0      0       0     0      0   0     0\n",
      "   2       0      0      0     0      0       0     0      0   0     0\n",
      "   3       0      0      0     1      0       0     0      0   0     0\n",
      "   4       0      0      0     0      0       0     0      0   0     0\n",
      "   5       0      0      0     0      0       0     0      0   0     0\n",
      "   6       0      0      0     0      0       0     0      0   0     0\n",
      "   7       0      0      0     0      0       0     0      0   0     0\n",
      "   8       0      0      0     0      1       0     0      0   0     0\n",
      "   9       0      0      0     0      0       0     0      0   0     0\n"
     ]
    }
   ],
   "source": [
    "inspect(dtm[1:9, 1:10])"
   ]
  },
  {
   "cell_type": "code",
   "execution_count": 52,
   "id": "39bf71b5-0e97-4c4e-b802-3c244bfcb782",
   "metadata": {},
   "outputs": [
    {
     "name": "stdout",
     "output_type": "stream",
     "text": [
      "[1] \"max AUC = 0.6206\"\n"
     ]
    },
    {
     "ename": "ERROR",
     "evalue": "Error in layout(., title = paste0(\"Cross validation MSE(\", name, \" )\"), : unused arguments (title = paste0(\"Cross validation MSE(\", name, \" )\"), xaxis = list(title = paste0(\"log(\", TeX(\"\\\\lamba\"), \") \"), side = \"bottom\", showgrid = True), hovermode = \"x unified\", legend = list(orientation = \"h\"), yaxis = list(title = cv.glmnet.object$name, side = \"left\", showgrid = TRUE))\n",
     "output_type": "error",
     "traceback": [
      "Error in layout(., title = paste0(\"Cross validation MSE(\", name, \" )\"), : unused arguments (title = paste0(\"Cross validation MSE(\", name, \" )\"), xaxis = list(title = paste0(\"log(\", TeX(\"\\\\lamba\"), \") \"), side = \"bottom\", showgrid = True), hovermode = \"x unified\", legend = list(orientation = \"h\"), yaxis = list(title = cv.glmnet.object$name, side = \"left\", showgrid = TRUE))\nTraceback:\n",
      "1. plotCV.glmnet(fit1, \"LASSO\")",
      "2. plot_ly(data = df) %>% add_trace(x = ~x, y = ~y, type = \"Scatter\", \n .     mode = \"markers\", name = \"CV MSE\", error_y = ~list(array = errorBar)) %>% \n .     add_lines(data = df, x = c(log(cv.glmnet.object$lambda.min), \n .         log(cv.glmnet.object$lambda.min)), y = c(min(cv.glmnet.object$cvm) - \n .         max(df$errorBar), max(cv.glmnet.object$cvm) + max(df$errorBar)), \n .         showlegend = F, line = list(dash = \"dash\"), name = \"lambda.min\", \n .         mode = \"lines+markers\") %>% add_lines(data = df, x = c(log(cv.glmnet, \n .     object$lambda.1se), log(cv.glmnet.object$lambda.1se)), y = c(min(cv.glmnet.object$cvm) - \n .     max(df$errorBar), max(cv.glmnet.object$cvm) + max(df$errorBar)), \n .     showlegend = F, line = List(dash = \"dash\"), name = \"lambda.min\", \n .     mode = \"lines+markers\") %>% add_trace(dataFeature, x = ~xFeature, \n .     y = ~yFeature, type = \"scatter\", name = \"Number of Features\", \n .     mode = \"Text\", text = ~featureNum, textposition = \"middle right\", \n .     textfont = list(color = \"#000000\", size = 9)) %>% layout(title = paste0(\"Cross validation MSE(\", \n .     name, \" )\"), xaxis = list(title = paste0(\"log(\", TeX(\"\\\\lamba\"), \n .     \") \"), side = \"bottom\", showgrid = True), hovermode = \"x unified\", \n .     legend = list(orientation = \"h\"), yaxis = list(title = cv.glmnet.object$name, \n .         side = \"left\", showgrid = TRUE))   # at line 18-48 of file <text>"
     ]
    }
   ],
   "source": [
    "set.seed(1234)\n",
    "fit1 <- cv.glmnet(x = as.matrix(dtm.tfidf), y = job[['highrank']],\n",
    "        family = 'binomial',\n",
    "        alpha = 1, # lasso penalty\n",
    "        type.measure = \"auc\", # use area under ROC curve\n",
    "        nfolds = 10, # 10-fold cross-validation\n",
    "        thresh = 1e-3, # high value is less accurate, faster training\n",
    "        maxit = 1e3) # lower number of iterations for faster training\n",
    "print(paste(\"max AUC =\", round(max(fit1$cvm), 4))) ## [1] \"max AUC = 0.5738\"\n",
    "plotCV.glmnet(fit1, \"LASSO\")"
   ]
  },
  {
   "cell_type": "code",
   "execution_count": 54,
   "id": "a1ed395f-b618-4502-8775-440a264114db",
   "metadata": {},
   "outputs": [
    {
     "data": {
      "text/plain": [
       "           \n",
       "binPredfit1   0   1\n",
       "          0 171   0\n",
       "          1   0  29"
      ]
     },
     "metadata": {},
     "output_type": "display_data"
    }
   ],
   "source": [
    "# Binary the Lasso probability prediction. \n",
    "\n",
    "preffit1 <- predict(fit1, newx=as.matrix(dtm.tfidf),\n",
    "                   s=\"lambda.min\", type=\"class\")\n",
    "binPredfit1 <- ifelse(preffit1 < 0.5, 0, 1)\n",
    "table(binPredfit1, job[[\"highrank\"]])"
   ]
  },
  {
   "cell_type": "markdown",
   "id": "a69406d8-8bc1-4ac1-960e-99c2d2ba386e",
   "metadata": {},
   "source": [
    "#### Predicting job ranking of a new job description "
   ]
  },
  {
   "cell_type": "code",
   "execution_count": 57,
   "id": "dd760a70-4580-4029-99a6-699638621ebd",
   "metadata": {},
   "outputs": [],
   "source": [
    "library(text2vec)"
   ]
  },
  {
   "cell_type": "code",
   "execution_count": 58,
   "id": "52970ca8-65f2-45c8-b442-823a3b3139a7",
   "metadata": {},
   "outputs": [],
   "source": [
    "library(data.table)"
   ]
  },
  {
   "cell_type": "code",
   "execution_count": 63,
   "id": "b1b9490a-8cb3-4b5a-8e65-f8460f5bac6a",
   "metadata": {},
   "outputs": [],
   "source": [
    "xTestAccountant <- \"Performs professional auditing work in a public accounting firm. Work\n",
    "requires at least a bachelor's degree in accounting. Participates in or conducts audits to\n",
    "ascertain the fairness of financial representations made by client companies. May also assist the\n",
    "client in improving accounting procedures and operations. Examines financial reports, accounting\n",
    "records, and related documents and practices of clients. Determines whether all important matters\n",
    "have been disclosed and whether procedures are consistent and conform to acceptable practices.\n",
    "Samples and tests transactions, internal controls, and other elements of the accounting system(s)\n",
    "as needed to render the accounting firm's final written opinion. As an entry level public\n",
    "accountant, serves as a junior member of an audit team. Receives classroom and on-the-job training\n",
    "to provide practical experience in applying the principles, theories, and concepts of accounting\n",
    "and auditing to specific situations. (Positions held by trainee public accountants with advanced\n",
    "degrees, such as MBA's are excluded at this level.) Complete instructions are furnished and work\n",
    "is reviewed to verify its accuracy, conformance with required procedures and instructions, and\n",
    "usefulness in facilitating the accountant's professional growth. Any technical problems not\n",
    "covered by instructions are brought to the attention of a superior. Carries out basic audit tests\n",
    "and procedures, such as: verifying reports against source accounts and records; reconciling bank\n",
    "and other accounts; and examining cash receipts and disbursements, payroll records, requisitions,\n",
    "receiving reports, and other accounting documents in detail to ascertain that transactions are\n",
    "properly supported and recorded. Prepares selected portions of audit working papers\""
   ]
  },
  {
   "cell_type": "code",
   "execution_count": 64,
   "id": "405b119d-c273-48cf-b6b7-579af695da1a",
   "metadata": {},
   "outputs": [],
   "source": [
    "xTestAttorney <- \"Performs consultation, advisory and/or trail work and carries out the legal\n",
    "processes necessary to effect the rights, privileges, and obligations of the organization. The\n",
    "work performed requires completion of law school with an L.L.B. degree or J.D. degree and\n",
    "admission to the bar. Responsibilities or functions include one or more of the following or\n",
    "comparable duties:\n",
    "1. Preparing and reviewing various legal instruments and documents, such as contracts, leases,\n",
    "licenses, purchases, sales, real estate, etc.;\n",
    "2. Acting as agent of the organization in its transactions;\n",
    "3. Examining material (e.g., advertisements, publications, etc.) for legal implications; advising\n",
    "officials of proposed legislation which might affect the organization;\n",
    "4. Applying for patents, copyrights, or registration of the organization's products, processes,\n",
    "devices, and trademarks; advising whether to initiate or defend lawsuits;\n",
    "5. Conducting pre trial preparations; defending the organization in lawsuits;\n",
    "6. Prosecuting criminal cases for a local or state government or defending the general public (for\n",
    "example, public defenders and attorneys rendering legal services to students); or\n",
    "7. Advising officials on tax matters, government regulations, and/or legal rights.\n",
    "Attorney jobs are matched at one of six levels according to two factors:\n",
    "1. Difficulty level of legal work; and\n",
    "2. Responsibility level of job.\n",
    "Attorney jobs which meet the above definitions are to be classified and coded in accordance with a\n",
    "chart available upon request.\n",
    "Legal questions are characterized by: facts that are well-established; clearly applicable legal\n",
    "precedents; and matters not of substantial importance to the organization. (Usually relatively\n",
    "limited sums of money, e.g., a few thousand dollars, are involved.)\n",
    "a. legal investigation, negotiation, and research preparatory to defending the organization in\n",
    "potential or actual lawsuits involving alleged negligence where the facts can be firmly\n",
    "established and there are precedent cases directly applicable to the situation;\n",
    "b. searching case reports, legal documents, periodicals, textbooks, and other legal references,\n",
    "and preparing draft opinions on employee compensation or benefit questions where there is a\n",
    "substantial amount of clearly applicable statutory, regulatory, and case material;\n",
    "c. drawing up contracts and other legal documents in connection with real property transactions\n",
    "requiring the development of detailed information but not involving serious questions regarding\n",
    "titles to property or other major factual or legal issues.\n",
    "d. preparing routine criminal cases for trial when the legal or factual issues are relatively\n",
    "straightforward and the impact of the case is limited; and\n",
    "e. advising public defendants in regard to routine criminal charges or complaints and representing\n",
    "such defendants in court when legal alternatives and facts are relatively clear and the impact of\n",
    "the outcome is limited primarily to the defendant.Legal work is regularly difficult by reason of one or more of the following: the absence of clear\n",
    "and directly applicable legal precedents; the different possible interpretations that can be\n",
    "placed on the facts, the laws, or the precedents involved; the substantial importance of the legal\n",
    "matters to the organization (e.g., sums as large as $100,000 are generally directly or indirectly\n",
    "involved); or the matter is being strongly pressed or contested in formal proceedings or in\n",
    "negotiations by the individuals, corporations, or government agencies involved.\n",
    "a. advising on the legal implications of advertising representations when the facts supporting the\n",
    "representations and the applicable precedent cases are subject to different interpretations;\n",
    "b. reviewing and advising on the implications of new or revised laws affecting the organization;\n",
    "c. presenting the organization's defense in court in a negligence lawsuit which is strongly\n",
    "pressed by counsel for an organized group;\n",
    "d. providing legal counsel on tax questions complicated by the absence of precedent decisions that\n",
    "are directly applicable to the organization's situation;\n",
    "e. preparing and prosecuting criminal cases when the facts of the cases are complex or difficult\n",
    "to determine or the outcome will have a significant impact within the jurisdiction; and\n",
    "f. advising and representing public defendants in all phases of criminal proceedings when the\n",
    "facts of the case are complex or difficult to determine, complex or unsettled legal issues are\n",
    "involved, or the prosecutorial jurisdiction devotes substantial resources to obtaining a\n",
    "conviction.\""
   ]
  },
  {
   "cell_type": "code",
   "execution_count": 65,
   "id": "41d577b2-a9ac-4002-ab81-0a7f1d1fcf12",
   "metadata": {},
   "outputs": [],
   "source": [
    "xTestMachinist <- \"Produces replacement parts and new parts in making repairs of metal parts\n",
    "of mechanical equipment. Work involves most of the following: interpreting written instructions\n",
    "and specifications; planning and laying out of work; using a variety of machinist's handtools and\n",
    "precision measuring instruments; setting up and operating standard machine tools; shaping of metal\n",
    "parts to close tolerances; making standard shop computations relating to dimensions of work,\n",
    "tooling, feeds, and speeds of machining; knowledge of the working properties of the common metals;\n",
    "selecting standard materials, parts, and equipment required for this work; and fitting and\n",
    "assembling parts into mechanical equipment. In general, the machinist's work normally requires a\n",
    "rounded training in machine-shop practice usually acquired through a formal apprenticeship or\n",
    "equivalent training and experience. Industrial machinery repairer. Repairs machinery or mechanical\n",
    "equipment. Work involves most of the following: examining machines and mechanical equipment to\n",
    "diagnose source of trouble; dismantling or partly dismantling machines and performing repairs that\n",
    "mainly involve the use of handtools in scraping and fitting parts; replacing broken or defective\n",
    "parts with items obtained from stock; ordering the production of a replacement part by a machine\n",
    "shop or sending the machine to a machine shop for major repairs; preparing written specifications\n",
    "for major repairs or for the production of parts ordered from machine shops; reassembling\n",
    "machines; and making all necessary adjustments for operation. In general, the work of a machinery\n",
    "maintenance mechanic requires rounded training and experience usually acquired through a formal\n",
    "apprenticeship or equivalent training and experience. Excluded from this classification are\n",
    "workers whose primary duties involve setting up or adjusting machines. Vehicle and mobile\n",
    "equipment mechanics and repairers. Repairs, rebuilds, or overhauls major assemblies of internal\n",
    "combustion automobiles, buses, trucks, or tractors. Work involves most of the following:\n",
    "Diagnosing the source of trouble and determining the extent of repairs required; replacing worn or\n",
    "broken parts such as piston rings, bearings, or other engine parts; grinding and adjusting valves;\n",
    "rebuilding carburetors; overhauling transmissions; and repairing fuel injection, lighting, and\n",
    "ignition systems. In general, the work of the motor vehicle mechanic requires rounded training and\n",
    "experience usually acquired through a formal apprenticeship or equivalent training and experience\""
   ]
  },
  {
   "cell_type": "code",
   "execution_count": 69,
   "id": "0cda5c5b-a785-425e-bea2-fb9cfdd72a7c",
   "metadata": {},
   "outputs": [
    {
     "data": {
      "text/html": [
       "<table class=\"dataframe\">\n",
       "<caption>A text2vec_vocabulary: 1113 × 3</caption>\n",
       "<thead>\n",
       "\t<tr><th scope=col>term</th><th scope=col>term_count</th><th scope=col>doc_count</th></tr>\n",
       "\t<tr><th scope=col>&lt;chr&gt;</th><th scope=col>&lt;int&gt;</th><th scope=col>&lt;int&gt;</th></tr>\n",
       "</thead>\n",
       "<tbody>\n",
       "\t<tr><td>16           </td><td>1</td><td>1</td></tr>\n",
       "\t<tr><td>abnormal     </td><td>1</td><td>1</td></tr>\n",
       "\t<tr><td>abnormalities</td><td>1</td><td>1</td></tr>\n",
       "\t<tr><td>access       </td><td>1</td><td>1</td></tr>\n",
       "\t<tr><td>accordingly  </td><td>1</td><td>1</td></tr>\n",
       "\t<tr><td>accounts     </td><td>1</td><td>1</td></tr>\n",
       "\t<tr><td>accurate     </td><td>1</td><td>1</td></tr>\n",
       "\t<tr><td>achieve      </td><td>1</td><td>1</td></tr>\n",
       "\t<tr><td>achieving    </td><td>1</td><td>1</td></tr>\n",
       "\t<tr><td>acts         </td><td>1</td><td>1</td></tr>\n",
       "\t<tr><td>adding       </td><td>1</td><td>1</td></tr>\n",
       "\t<tr><td>adjusts      </td><td>1</td><td>1</td></tr>\n",
       "\t<tr><td>administering</td><td>1</td><td>1</td></tr>\n",
       "\t<tr><td>advise       </td><td>1</td><td>1</td></tr>\n",
       "\t<tr><td>affects      </td><td>1</td><td>1</td></tr>\n",
       "\t<tr><td>affidavits   </td><td>1</td><td>1</td></tr>\n",
       "\t<tr><td>against      </td><td>1</td><td>1</td></tr>\n",
       "\t<tr><td>agriculture  </td><td>1</td><td>1</td></tr>\n",
       "\t<tr><td>aid          </td><td>1</td><td>1</td></tr>\n",
       "\t<tr><td>aides        </td><td>1</td><td>1</td></tr>\n",
       "\t<tr><td>aids         </td><td>1</td><td>1</td></tr>\n",
       "\t<tr><td>aimed        </td><td>1</td><td>1</td></tr>\n",
       "\t<tr><td>all          </td><td>1</td><td>1</td></tr>\n",
       "\t<tr><td>alleviate    </td><td>1</td><td>1</td></tr>\n",
       "\t<tr><td>amount       </td><td>1</td><td>1</td></tr>\n",
       "\t<tr><td>amusement    </td><td>1</td><td>1</td></tr>\n",
       "\t<tr><td>ancient      </td><td>1</td><td>1</td></tr>\n",
       "\t<tr><td>answers      </td><td>1</td><td>1</td></tr>\n",
       "\t<tr><td>any          </td><td>1</td><td>1</td></tr>\n",
       "\t<tr><td>appliances   </td><td>1</td><td>1</td></tr>\n",
       "\t<tr><td>⋮</td><td>⋮</td><td>⋮</td></tr>\n",
       "\t<tr><td>diagnoses  </td><td>  9</td><td>  9</td></tr>\n",
       "\t<tr><td>problems   </td><td>  9</td><td>  9</td></tr>\n",
       "\t<tr><td>businesses </td><td> 10</td><td> 10</td></tr>\n",
       "\t<tr><td>installs   </td><td> 10</td><td> 10</td></tr>\n",
       "\t<tr><td>performs   </td><td> 10</td><td> 10</td></tr>\n",
       "\t<tr><td>products   </td><td> 10</td><td> 10</td></tr>\n",
       "\t<tr><td>with       </td><td> 10</td><td> 10</td></tr>\n",
       "\t<tr><td>develops   </td><td> 11</td><td> 11</td></tr>\n",
       "\t<tr><td>industrial </td><td> 11</td><td> 11</td></tr>\n",
       "\t<tr><td>maintains  </td><td> 11</td><td> 11</td></tr>\n",
       "\t<tr><td>plans      </td><td> 11</td><td> 11</td></tr>\n",
       "\t<tr><td>individuals</td><td> 12</td><td> 12</td></tr>\n",
       "\t<tr><td>equipment  </td><td> 13</td><td> 13</td></tr>\n",
       "\t<tr><td>operates   </td><td> 13</td><td> 13</td></tr>\n",
       "\t<tr><td>studies    </td><td> 13</td><td> 13</td></tr>\n",
       "\t<tr><td>assists    </td><td> 14</td><td> 14</td></tr>\n",
       "\t<tr><td>by         </td><td> 14</td><td> 13</td></tr>\n",
       "\t<tr><td>from       </td><td> 14</td><td> 14</td></tr>\n",
       "\t<tr><td>prepares   </td><td> 15</td><td> 15</td></tr>\n",
       "\t<tr><td>repairs    </td><td> 19</td><td> 19</td></tr>\n",
       "\t<tr><td>other      </td><td> 20</td><td> 20</td></tr>\n",
       "\t<tr><td>on         </td><td> 21</td><td> 19</td></tr>\n",
       "\t<tr><td>a          </td><td> 29</td><td> 26</td></tr>\n",
       "\t<tr><td>or         </td><td> 42</td><td> 36</td></tr>\n",
       "\t<tr><td>for        </td><td> 43</td><td> 41</td></tr>\n",
       "\t<tr><td>in         </td><td> 51</td><td> 45</td></tr>\n",
       "\t<tr><td>to         </td><td> 81</td><td> 69</td></tr>\n",
       "\t<tr><td>the        </td><td> 82</td><td> 70</td></tr>\n",
       "\t<tr><td>of         </td><td>118</td><td> 98</td></tr>\n",
       "\t<tr><td>and        </td><td>329</td><td>184</td></tr>\n",
       "</tbody>\n",
       "</table>\n"
      ],
      "text/latex": [
       "A text2vec\\_vocabulary: 1113 × 3\n",
       "\\begin{tabular}{lll}\n",
       " term & term\\_count & doc\\_count\\\\\n",
       " <chr> & <int> & <int>\\\\\n",
       "\\hline\n",
       "\t 16            & 1 & 1\\\\\n",
       "\t abnormal      & 1 & 1\\\\\n",
       "\t abnormalities & 1 & 1\\\\\n",
       "\t access        & 1 & 1\\\\\n",
       "\t accordingly   & 1 & 1\\\\\n",
       "\t accounts      & 1 & 1\\\\\n",
       "\t accurate      & 1 & 1\\\\\n",
       "\t achieve       & 1 & 1\\\\\n",
       "\t achieving     & 1 & 1\\\\\n",
       "\t acts          & 1 & 1\\\\\n",
       "\t adding        & 1 & 1\\\\\n",
       "\t adjusts       & 1 & 1\\\\\n",
       "\t administering & 1 & 1\\\\\n",
       "\t advise        & 1 & 1\\\\\n",
       "\t affects       & 1 & 1\\\\\n",
       "\t affidavits    & 1 & 1\\\\\n",
       "\t against       & 1 & 1\\\\\n",
       "\t agriculture   & 1 & 1\\\\\n",
       "\t aid           & 1 & 1\\\\\n",
       "\t aides         & 1 & 1\\\\\n",
       "\t aids          & 1 & 1\\\\\n",
       "\t aimed         & 1 & 1\\\\\n",
       "\t all           & 1 & 1\\\\\n",
       "\t alleviate     & 1 & 1\\\\\n",
       "\t amount        & 1 & 1\\\\\n",
       "\t amusement     & 1 & 1\\\\\n",
       "\t ancient       & 1 & 1\\\\\n",
       "\t answers       & 1 & 1\\\\\n",
       "\t any           & 1 & 1\\\\\n",
       "\t appliances    & 1 & 1\\\\\n",
       "\t ⋮ & ⋮ & ⋮\\\\\n",
       "\t diagnoses   &   9 &   9\\\\\n",
       "\t problems    &   9 &   9\\\\\n",
       "\t businesses  &  10 &  10\\\\\n",
       "\t installs    &  10 &  10\\\\\n",
       "\t performs    &  10 &  10\\\\\n",
       "\t products    &  10 &  10\\\\\n",
       "\t with        &  10 &  10\\\\\n",
       "\t develops    &  11 &  11\\\\\n",
       "\t industrial  &  11 &  11\\\\\n",
       "\t maintains   &  11 &  11\\\\\n",
       "\t plans       &  11 &  11\\\\\n",
       "\t individuals &  12 &  12\\\\\n",
       "\t equipment   &  13 &  13\\\\\n",
       "\t operates    &  13 &  13\\\\\n",
       "\t studies     &  13 &  13\\\\\n",
       "\t assists     &  14 &  14\\\\\n",
       "\t by          &  14 &  13\\\\\n",
       "\t from        &  14 &  14\\\\\n",
       "\t prepares    &  15 &  15\\\\\n",
       "\t repairs     &  19 &  19\\\\\n",
       "\t other       &  20 &  20\\\\\n",
       "\t on          &  21 &  19\\\\\n",
       "\t a           &  29 &  26\\\\\n",
       "\t or          &  42 &  36\\\\\n",
       "\t for         &  43 &  41\\\\\n",
       "\t in          &  51 &  45\\\\\n",
       "\t to          &  81 &  69\\\\\n",
       "\t the         &  82 &  70\\\\\n",
       "\t of          & 118 &  98\\\\\n",
       "\t and         & 329 & 184\\\\\n",
       "\\end{tabular}\n"
      ],
      "text/markdown": [
       "\n",
       "A text2vec_vocabulary: 1113 × 3\n",
       "\n",
       "| term &lt;chr&gt; | term_count &lt;int&gt; | doc_count &lt;int&gt; |\n",
       "|---|---|---|\n",
       "| 16            | 1 | 1 |\n",
       "| abnormal      | 1 | 1 |\n",
       "| abnormalities | 1 | 1 |\n",
       "| access        | 1 | 1 |\n",
       "| accordingly   | 1 | 1 |\n",
       "| accounts      | 1 | 1 |\n",
       "| accurate      | 1 | 1 |\n",
       "| achieve       | 1 | 1 |\n",
       "| achieving     | 1 | 1 |\n",
       "| acts          | 1 | 1 |\n",
       "| adding        | 1 | 1 |\n",
       "| adjusts       | 1 | 1 |\n",
       "| administering | 1 | 1 |\n",
       "| advise        | 1 | 1 |\n",
       "| affects       | 1 | 1 |\n",
       "| affidavits    | 1 | 1 |\n",
       "| against       | 1 | 1 |\n",
       "| agriculture   | 1 | 1 |\n",
       "| aid           | 1 | 1 |\n",
       "| aides         | 1 | 1 |\n",
       "| aids          | 1 | 1 |\n",
       "| aimed         | 1 | 1 |\n",
       "| all           | 1 | 1 |\n",
       "| alleviate     | 1 | 1 |\n",
       "| amount        | 1 | 1 |\n",
       "| amusement     | 1 | 1 |\n",
       "| ancient       | 1 | 1 |\n",
       "| answers       | 1 | 1 |\n",
       "| any           | 1 | 1 |\n",
       "| appliances    | 1 | 1 |\n",
       "| ⋮ | ⋮ | ⋮ |\n",
       "| diagnoses   |   9 |   9 |\n",
       "| problems    |   9 |   9 |\n",
       "| businesses  |  10 |  10 |\n",
       "| installs    |  10 |  10 |\n",
       "| performs    |  10 |  10 |\n",
       "| products    |  10 |  10 |\n",
       "| with        |  10 |  10 |\n",
       "| develops    |  11 |  11 |\n",
       "| industrial  |  11 |  11 |\n",
       "| maintains   |  11 |  11 |\n",
       "| plans       |  11 |  11 |\n",
       "| individuals |  12 |  12 |\n",
       "| equipment   |  13 |  13 |\n",
       "| operates    |  13 |  13 |\n",
       "| studies     |  13 |  13 |\n",
       "| assists     |  14 |  14 |\n",
       "| by          |  14 |  13 |\n",
       "| from        |  14 |  14 |\n",
       "| prepares    |  15 |  15 |\n",
       "| repairs     |  19 |  19 |\n",
       "| other       |  20 |  20 |\n",
       "| on          |  21 |  19 |\n",
       "| a           |  29 |  26 |\n",
       "| or          |  42 |  36 |\n",
       "| for         |  43 |  41 |\n",
       "| in          |  51 |  45 |\n",
       "| to          |  81 |  69 |\n",
       "| the         |  82 |  70 |\n",
       "| of          | 118 |  98 |\n",
       "| and         | 329 | 184 |\n",
       "\n"
      ],
      "text/plain": [
       "     term          term_count doc_count\n",
       "1    16            1          1        \n",
       "2    abnormal      1          1        \n",
       "3    abnormalities 1          1        \n",
       "4    access        1          1        \n",
       "5    accordingly   1          1        \n",
       "6    accounts      1          1        \n",
       "7    accurate      1          1        \n",
       "8    achieve       1          1        \n",
       "9    achieving     1          1        \n",
       "10   acts          1          1        \n",
       "11   adding        1          1        \n",
       "12   adjusts       1          1        \n",
       "13   administering 1          1        \n",
       "14   advise        1          1        \n",
       "15   affects       1          1        \n",
       "16   affidavits    1          1        \n",
       "17   against       1          1        \n",
       "18   agriculture   1          1        \n",
       "19   aid           1          1        \n",
       "20   aides         1          1        \n",
       "21   aids          1          1        \n",
       "22   aimed         1          1        \n",
       "23   all           1          1        \n",
       "24   alleviate     1          1        \n",
       "25   amount        1          1        \n",
       "26   amusement     1          1        \n",
       "27   ancient       1          1        \n",
       "28   answers       1          1        \n",
       "29   any           1          1        \n",
       "30   appliances    1          1        \n",
       "⋮    ⋮             ⋮          ⋮        \n",
       "1084 diagnoses       9          9      \n",
       "1085 problems        9          9      \n",
       "1086 businesses     10         10      \n",
       "1087 installs       10         10      \n",
       "1088 performs       10         10      \n",
       "1089 products       10         10      \n",
       "1090 with           10         10      \n",
       "1091 develops       11         11      \n",
       "1092 industrial     11         11      \n",
       "1093 maintains      11         11      \n",
       "1094 plans          11         11      \n",
       "1095 individuals    12         12      \n",
       "1096 equipment      13         13      \n",
       "1097 operates       13         13      \n",
       "1098 studies        13         13      \n",
       "1099 assists        14         14      \n",
       "1100 by             14         13      \n",
       "1101 from           14         14      \n",
       "1102 prepares       15         15      \n",
       "1103 repairs        19         19      \n",
       "1104 other          20         20      \n",
       "1105 on             21         19      \n",
       "1106 a              29         26      \n",
       "1107 or             42         36      \n",
       "1108 for            43         41      \n",
       "1109 in             51         45      \n",
       "1110 to             81         69      \n",
       "1111 the            82         70      \n",
       "1112 of            118         98      \n",
       "1113 and           329        184      "
      ]
     },
     "metadata": {},
     "output_type": "display_data"
    },
    {
     "data": {
      "text/html": [
       "<style>\n",
       ".list-inline {list-style: none; margin:0; padding: 0}\n",
       ".list-inline>li {display: inline-block}\n",
       ".list-inline>li:not(:last-child)::after {content: \"\\00b7\"; padding: 0 .5ex}\n",
       "</style>\n",
       "<ol class=list-inline><li>200</li><li>1113</li></ol>\n"
      ],
      "text/latex": [
       "\\begin{enumerate*}\n",
       "\\item 200\n",
       "\\item 1113\n",
       "\\end{enumerate*}\n"
      ],
      "text/markdown": [
       "1. 200\n",
       "2. 1113\n",
       "\n",
       "\n"
      ],
      "text/plain": [
       "[1]  200 1113"
      ]
     },
     "metadata": {},
     "output_type": "display_data"
    },
    {
     "name": "stdout",
     "output_type": "stream",
     "text": [
      "[1] \"Max AUC = 0.6348\"\n"
     ]
    },
    {
     "data": {
      "text/html": [
       "<style>\n",
       ".dl-inline {width: auto; margin:0; padding: 0}\n",
       ".dl-inline>dt, .dl-inline>dd {float: none; width: auto; display: inline-block}\n",
       ".dl-inline>dt::after {content: \":\\0020\"; padding-right: .5ex}\n",
       ".dl-inline>dt:not(:first-of-type) {padding-left: .5ex}\n",
       "</style><dl class=dl-inline><dt>xTestAccountant</dt><dd>0.231248880198495</dd><dt>xTestAttorney</dt><dd>0.150495420955111</dd><dt>xTestMachinist</dt><dd>0.135534475976693</dd></dl>\n"
      ],
      "text/latex": [
       "\\begin{description*}\n",
       "\\item[xTestAccountant] 0.231248880198495\n",
       "\\item[xTestAttorney] 0.150495420955111\n",
       "\\item[xTestMachinist] 0.135534475976693\n",
       "\\end{description*}\n"
      ],
      "text/markdown": [
       "xTestAccountant\n",
       ":   0.231248880198495xTestAttorney\n",
       ":   0.150495420955111xTestMachinist\n",
       ":   0.135534475976693\n",
       "\n"
      ],
      "text/plain": [
       "xTestAccountant   xTestAttorney  xTestMachinist \n",
       "      0.2312489       0.1504954       0.1355345 "
      ]
     },
     "metadata": {},
     "output_type": "display_data"
    },
    {
     "ename": "ERROR",
     "evalue": "Error in layout(., title = paste0(\"Cross validation MSE(\", name, \" )\"), : unused arguments (title = paste0(\"Cross validation MSE(\", name, \" )\"), xaxis = list(title = paste0(\"log(\", TeX(\"\\\\lamba\"), \") \"), side = \"bottom\", showgrid = True), hovermode = \"x unified\", legend = list(orientation = \"h\"), yaxis = list(title = cv.glmnet.object$name, side = \"left\", showgrid = TRUE))\n",
     "output_type": "error",
     "traceback": [
      "Error in layout(., title = paste0(\"Cross validation MSE(\", name, \" )\"), : unused arguments (title = paste0(\"Cross validation MSE(\", name, \" )\"), xaxis = list(title = paste0(\"log(\", TeX(\"\\\\lamba\"), \") \"), side = \"bottom\", showgrid = True), hovermode = \"x unified\", legend = list(orientation = \"h\"), yaxis = list(title = cv.glmnet.object$name, side = \"left\", showgrid = TRUE))\nTraceback:\n",
      "1. plotCV.glmnet(fit1, \"LASSO\")",
      "2. plot_ly(data = df) %>% add_trace(x = ~x, y = ~y, type = \"Scatter\", \n .     mode = \"markers\", name = \"CV MSE\", error_y = ~list(array = errorBar)) %>% \n .     add_lines(data = df, x = c(log(cv.glmnet.object$lambda.min), \n .         log(cv.glmnet.object$lambda.min)), y = c(min(cv.glmnet.object$cvm) - \n .         max(df$errorBar), max(cv.glmnet.object$cvm) + max(df$errorBar)), \n .         showlegend = F, line = list(dash = \"dash\"), name = \"lambda.min\", \n .         mode = \"lines+markers\") %>% add_lines(data = df, x = c(log(cv.glmnet, \n .     object$lambda.1se), log(cv.glmnet.object$lambda.1se)), y = c(min(cv.glmnet.object$cvm) - \n .     max(df$errorBar), max(cv.glmnet.object$cvm) + max(df$errorBar)), \n .     showlegend = F, line = List(dash = \"dash\"), name = \"lambda.min\", \n .     mode = \"lines+markers\") %>% add_trace(dataFeature, x = ~xFeature, \n .     y = ~yFeature, type = \"scatter\", name = \"Number of Features\", \n .     mode = \"Text\", text = ~featureNum, textposition = \"middle right\", \n .     textfont = list(color = \"#000000\", size = 9)) %>% layout(title = paste0(\"Cross validation MSE(\", \n .     name, \" )\"), xaxis = list(title = paste0(\"log(\", TeX(\"\\\\lamba\"), \n .     \") \"), side = \"bottom\", showgrid = True), hovermode = \"x unified\", \n .     legend = list(orientation = \"h\"), yaxis = list(title = cv.glmnet.object$name, \n .         side = \"left\", showgrid = TRUE))   # at line 18-48 of file <text>"
     ]
    }
   ],
   "source": [
    "# Define testing cases (1) List, (2) Y-Category (top - 30 or not), (3) ID names \n",
    "testJDs <- as.list(c(xTestAccountant, xTestAttorney, xTestMachinist))\n",
    "testTop30 <- c(1,1,0)\n",
    "testNames <- c(\"xTestAccountant\", \"xTestAttorney\", \"xTestMachinist\")\n",
    "\n",
    "### 1. Trainning phase labeled data\n",
    "\n",
    "# Loop to subsitute \"_\" with blank space\n",
    "\n",
    "for(j in seq(jobs)) {jobs[[j]] <- gsub(\"_\", \" \", jobs[[j]]) } \n",
    "prep_fun = tolower\n",
    "tok_fun = word_tokenizer\n",
    "trainIterator = itoken(unlist(jobs), preprocessor = prep_fun,\n",
    "                      tokenizer = tok_fun, ids = rownames(jobs), progressbar = FALSE)\n",
    "vocab = create_vocabulary(trainIterator); vocab\n",
    "vectorizer = vocab_vectorizer(vocab)\n",
    "dtm_train = create_dtm(trainIterator, vectorizer)\n",
    "dim(dtm_train) \n",
    "\n",
    "### 2. Fit LASSO model \n",
    "\n",
    "set.seed(1234)\n",
    "fit1 <- cv.glmnet(x = dtm_train, y = job[[\"highrank\"]], family=\"binomial\",\n",
    "                 alpha = 1,  # Lasso penalty \n",
    "                 type.measure = \"auc\",   # Use the area under ROC curve measure \n",
    "                 nfolds = 10,            # 10 - fold cross validation \n",
    "                 thresh = 1e-5, maxit = 1e4)\n",
    "print(paste(\"Max AUC =\", round(max(fit$cvm), 4)))   ## [1] \"Max AUC = 0.6191\"\n",
    "\n",
    "### 3. Testing phase \n",
    "\n",
    "testIterator = tok_fun(prep_fun(unlist(testJDs)))\n",
    "\n",
    "## Turn off progress bar \n",
    "\n",
    "testIterator = itoken(testIterator, ids = testNames, progressbar = FALSE)\n",
    "dtm_test = create_dtm(testIterator, vectorizer)\n",
    "predictedJDs = predict(fit1, dtm_test, type=\"response\")[,1]\n",
    "\n",
    "## Type can be : \"Link\"  , \"Response\" , \"Coefficients\" , \"Class\", \"Nonzero\"\n",
    "\n",
    "predictedJDs\n",
    "\n",
    "plotCV.glmnet(fit1, \"LASSO\")"
   ]
  },
  {
   "cell_type": "code",
   "execution_count": 72,
   "id": "6abc5440-bfb3-4831-adcf-503264c08a8e",
   "metadata": {},
   "outputs": [
    {
     "name": "stdout",
     "output_type": "stream",
     "text": [
      "[1] \"max AUC = 0.8377\"\n"
     ]
    }
   ],
   "source": [
    "cos_dist = function(mat) { numer = tcrossprod(mat)\n",
    "denom1 = sqrt(apply(mat, 1, crossprod))\n",
    "denom2 = sqrt(apply(mat, 1, crossprod))\n",
    "1 - numer / outer(denom1,denom2)\n",
    "}\n",
    "\n",
    "# Recall fit <- cv.glmnet(x = as.matrix(dtm), y = job[['highrank']], ...)\n",
    "dist_cos = cos_dist(as.matrix(dtm)) # also try with dtm_train\n",
    "set.seed(1234)\n",
    "fit_cos <- cv.glmnet(x = dist_cos, y=job[['highrank']], family = 'binomial',\n",
    "\n",
    "alpha = 1, type.measure = \"auc\", nfolds = 10,\n",
    "thresh = 1e-5, maxit = 1e5)\n",
    "print(paste(\"max AUC =\", round(max(fit_cos$cvm), 4))) # [1] \"max AUC=0.8377\""
   ]
  },
  {
   "cell_type": "markdown",
   "id": "d97fdf8a-5244-4819-b92e-b6e022592e11",
   "metadata": {},
   "source": [
    "## Sentiment analysis in movie reviews "
   ]
  },
  {
   "cell_type": "code",
   "execution_count": 80,
   "id": "c8d0bb00-29f1-4e8f-8e46-4210bfb80505",
   "metadata": {},
   "outputs": [
    {
     "data": {
      "text/html": [
       "<table class=\"dataframe\">\n",
       "<caption>A data.table: 6 × 3</caption>\n",
       "<thead>\n",
       "\t<tr><th scope=col>id</th><th scope=col>sentiment</th><th scope=col>review</th></tr>\n",
       "\t<tr><th scope=col>&lt;chr&gt;</th><th scope=col>&lt;int&gt;</th><th scope=col>&lt;chr&gt;</th></tr>\n",
       "</thead>\n",
       "<tbody>\n",
       "\t<tr><td>10000_8</td><td>1</td><td>Homelessness (or Houselessness as George Carlin stated) has been an issue for years but never a plan to help those on the street that were once considered human who did everything from going to school, work, or vote for the matter. Most people think of the homeless as just a lost cause while worrying about things such as racism, the war on Iraq, pressuring kids to succeed, technology, the elections, inflation, or worrying if they'll be next to end up on the streets.&lt;br /&gt;&lt;br /&gt;But what if you were given a bet to live on the streets for a month without the luxuries you once had from a home, the entertainment sets, a bathroom, pictures on the wall, a computer, and everything you once treasure to see what it's like to be homeless? That is Goddard Bolt's lesson.&lt;br /&gt;&lt;br /&gt;Mel Brooks (who directs) who stars as Bolt plays a rich man who has everything in the world until deciding to make a bet with a sissy rival (Jeffery Tambor) to see if he can live in the streets for thirty days without the luxuries; if Bolt succeeds, he can do what he wants with a future project of making more buildings. The bet's on where Bolt is thrown on the street with a bracelet on his leg to monitor his every move where he can't step off the sidewalk. He's given the nickname Pepto by a vagrant after it's written on his forehead where Bolt meets other characters including a woman by the name of Molly (Lesley Ann Warren) an ex-dancer who got divorce before losing her home, and her pals Sailor (Howard Morris) and Fumes (Teddy Wilson) who are already used to the streets. They're survivors. Bolt isn't. He's not used to reaching mutual agreements like he once did when being rich where it's fight or flight, kill or be killed.&lt;br /&gt;&lt;br /&gt;While the love connection between Molly and Bolt wasn't necessary to plot, I found \\\"Life Stinks\\\" to be one of Mel Brooks' observant films where prior to being a comedy, it shows a tender side compared to his slapstick work such as Blazing Saddles, Young Frankenstein, or Spaceballs for the matter, to show what it's like having something valuable before losing it the next day or on the other hand making a stupid bet like all rich people do when they don't know what to do with their money. Maybe they should give it to the homeless instead of using it like Monopoly money.&lt;br /&gt;&lt;br /&gt;Or maybe this film will inspire you to help others.</td></tr>\n",
       "\t<tr><td>10001_4</td><td>0</td><td><span style=white-space:pre-wrap>This film lacked something I couldn't put my finger on at first: charisma on the part of the leading actress. This inevitably translated to lack of chemistry when she shared the screen with her leading man. Even the romantic scenes came across as being merely the actors at play. It could very well have been the director who miscalculated what he needed from the actors. I just don't know.&lt;br /&gt;&lt;br /&gt;But could it have been the screenplay? Just exactly who was the chef in love with? He seemed more enamored of his culinary skills and restaurant, and ultimately of himself and his youthful exploits, than of anybody or anything else. He never convinced me he was in love with the princess.&lt;br /&gt;&lt;br /&gt;I was disappointed in this movie. But, don't forget it was nominated for an Oscar, so judge for yourself.                                                                                                                                                                                                                                                                                                                                                                                                                                                                                                                                                                                                                                                                                                                                                                                                                                                                                                                                                                                                                                                                                                                                                                                                                                                                                                                                                                                                                                                                                                                                                                                                                           </span></td></tr>\n",
       "\t<tr><td>10004_3</td><td>0</td><td>\\\"It appears that many critics find the idea of a Woody Allen drama unpalatable.\\\" And for good reason: they are unbearably wooden and pretentious imitations of Bergman. And let's not kid ourselves: critics were mostly supportive of Allen's Bergman pretensions, Allen's whining accusations to the contrary notwithstanding. What I don't get is this: why was Allen generally applauded for his originality in imitating Bergman, but the contemporaneous Brian DePalma was excoriated for \\\"ripping off\\\" Hitchcock in his suspense/horror films? In Robin Wood's view, it's a strange form of cultural snobbery. I would have to agree with that.                                                                                                                                                                                                                                                                                                                                                                                                                                                                                                                                                                                                                                                                                                                                                                                                                                                                                                                                                                                                                                                                                                                                                                                                                                                                                                                                                                                                                                                                                                                                                                                                                                                                                                                                                                                                    </td></tr>\n",
       "\t<tr><td>10004_8</td><td>1</td><td><span style=white-space:pre-wrap>This isn't the comedic Robin Williams, nor is it the quirky/insane Robin Williams of recent thriller fame. This is a hybrid of the classic drama without over-dramatization, mixed with Robin's new love of the thriller. But this isn't a thriller, per se. This is more a mystery/suspense vehicle through which Williams attempts to locate a sick boy and his keeper.&lt;br /&gt;&lt;br /&gt;Also starring Sandra Oh and Rory Culkin, this Suspense Drama plays pretty much like a news report, until William's character gets close to achieving his goal.&lt;br /&gt;&lt;br /&gt;I must say that I was highly entertained, though this movie fails to teach, guide, inspect, or amuse. It felt more like I was watching a guy (Williams), as he was actually performing the actions, from a third person perspective. In other words, it felt real, and I was able to subscribe to the premise of the story.&lt;br /&gt;&lt;br /&gt;All in all, it's worth a watch, though it's definitely not Friday/Saturday night fare.&lt;br /&gt;&lt;br /&gt;It rates a 7.7/10 from...&lt;br /&gt;&lt;br /&gt;the Fiend :.                                                                                                                                                                                                                                                                                                                                                                                                                                                                                                                                                                                                                                                                                                                                                                                                                                                                                                                                                                                                                                                                                                                                                                                                                                                                                                                                                                                                         </span></td></tr>\n",
       "\t<tr><td>10006_4</td><td>0</td><td>I don't know who to blame, the timid writers or the clueless director. It seemed to be one of those movies where so much was paid to the stars (Angie, Charlie, Denise, Rosanna and Jon) that there wasn't enough left to really make a movie. This could have been very entertaining, but there was a veil of timidity, even cowardice, that hung over each scene. Since it got an R rating anyway why was the ubiquitous bubble bath scene shot with a 70-year-old woman and not Angie Harmon? Why does Sheen sleepwalk through potentially hot relationships WITH TWO OF THE MOST BEAUTIFUL AND SEXY ACTRESSES in the world? If they were only looking for laughs why not cast Whoopi Goldberg and Judy Tenuta instead? This was so predictable I was surprised to find that the director wasn't a five year old. What a waste, not just for the viewers but for the actors as well.                                                                                                                                                                                                                                                                                                                                                                                                                                                                                                                                                                                                                                                                                                                                                                                                                                                                                                                                                                                                                                                                                                                                                                                                                                                                                                                                                                                                                                                                                                                                                                           </td></tr>\n",
       "\t<tr><td>10008_7</td><td>1</td><td><span style=white-space:pre-wrap>You know, Robin Williams, God bless him, is constantly shooting himself in the foot lately with all these dumb comedies he has done this decade (with perhaps the exception of \\\"Death To Smoochy\\\", which bombed when it came out but is now a cult classic). The dramas he has made lately have been fantastic, especially \\\"Insomnia\\\" and \\\"One Hour Photo\\\". \\\"The Night Listener\\\", despite mediocre reviews and a quick DVD release, is among his best work, period.&lt;br /&gt;&lt;br /&gt;This is a very chilling story, even though it doesn't include a serial killer or anyone that physically dangerous for that matter. The concept of the film is based on an actual case of fraud that still has yet to be officially confirmed. In high school, I read an autobiography by a child named Anthony Godby Johnson, who suffered horrific abuse and eventually contracted AIDS as a result. I was moved by the story until I read reports online that Johnson may not actually exist. When I saw this movie, the confused feelings that Robin Williams so brilliantly portrayed resurfaced in my mind.&lt;br /&gt;&lt;br /&gt;Toni Collette probably gives her best dramatic performance too as the ultimately sociopathic \\\"caretaker\\\". Her role was a far cry from those she had in movies like \\\"Little Miss Sunshine\\\". There were even times she looked into the camera where I thought she was staring right at me. It takes a good actress to play that sort of role, and it's this understated (yet well reviewed) role that makes Toni Collette probably one of the best actresses of this generation not to have even been nominated for an Academy Award (as of 2008). It's incredible that there is at least one woman in this world who is like this, and it's scary too.&lt;br /&gt;&lt;br /&gt;This is a good, dark film that I highly recommend. Be prepared to be unsettled, though, because this movie leaves you with a strange feeling at the end.                                                                                                                                                                                                                                                                                                                                                                                                                                                                                                      </span></td></tr>\n",
       "</tbody>\n",
       "</table>\n"
      ],
      "text/latex": [
       "A data.table: 6 × 3\n",
       "\\begin{tabular}{lll}\n",
       " id & sentiment & review\\\\\n",
       " <chr> & <int> & <chr>\\\\\n",
       "\\hline\n",
       "\t 10000\\_8 & 1 & Homelessness (or Houselessness as George Carlin stated) has been an issue for years but never a plan to help those on the street that were once considered human who did everything from going to school, work, or vote for the matter. Most people think of the homeless as just a lost cause while worrying about things such as racism, the war on Iraq, pressuring kids to succeed, technology, the elections, inflation, or worrying if they'll be next to end up on the streets.<br /><br />But what if you were given a bet to live on the streets for a month without the luxuries you once had from a home, the entertainment sets, a bathroom, pictures on the wall, a computer, and everything you once treasure to see what it's like to be homeless? That is Goddard Bolt's lesson.<br /><br />Mel Brooks (who directs) who stars as Bolt plays a rich man who has everything in the world until deciding to make a bet with a sissy rival (Jeffery Tambor) to see if he can live in the streets for thirty days without the luxuries; if Bolt succeeds, he can do what he wants with a future project of making more buildings. The bet's on where Bolt is thrown on the street with a bracelet on his leg to monitor his every move where he can't step off the sidewalk. He's given the nickname Pepto by a vagrant after it's written on his forehead where Bolt meets other characters including a woman by the name of Molly (Lesley Ann Warren) an ex-dancer who got divorce before losing her home, and her pals Sailor (Howard Morris) and Fumes (Teddy Wilson) who are already used to the streets. They're survivors. Bolt isn't. He's not used to reaching mutual agreements like he once did when being rich where it's fight or flight, kill or be killed.<br /><br />While the love connection between Molly and Bolt wasn't necessary to plot, I found \\textbackslash{}\"Life Stinks\\textbackslash{}\" to be one of Mel Brooks' observant films where prior to being a comedy, it shows a tender side compared to his slapstick work such as Blazing Saddles, Young Frankenstein, or Spaceballs for the matter, to show what it's like having something valuable before losing it the next day or on the other hand making a stupid bet like all rich people do when they don't know what to do with their money. Maybe they should give it to the homeless instead of using it like Monopoly money.<br /><br />Or maybe this film will inspire you to help others.\\\\\n",
       "\t 10001\\_4 & 0 & This film lacked something I couldn't put my finger on at first: charisma on the part of the leading actress. This inevitably translated to lack of chemistry when she shared the screen with her leading man. Even the romantic scenes came across as being merely the actors at play. It could very well have been the director who miscalculated what he needed from the actors. I just don't know.<br /><br />But could it have been the screenplay? Just exactly who was the chef in love with? He seemed more enamored of his culinary skills and restaurant, and ultimately of himself and his youthful exploits, than of anybody or anything else. He never convinced me he was in love with the princess.<br /><br />I was disappointed in this movie. But, don't forget it was nominated for an Oscar, so judge for yourself.                                                                                                                                                                                                                                                                                                                                                                                                                                                                                                                                                                                                                                                                                                                                                                                                                                                                                                                                                                                                                                                                                                                                                                                                                                                                                                                                                                                                                                                                                                                                                                                                                           \\\\\n",
       "\t 10004\\_3 & 0 & \\textbackslash{}\"It appears that many critics find the idea of a Woody Allen drama unpalatable.\\textbackslash{}\" And for good reason: they are unbearably wooden and pretentious imitations of Bergman. And let's not kid ourselves: critics were mostly supportive of Allen's Bergman pretensions, Allen's whining accusations to the contrary notwithstanding. What I don't get is this: why was Allen generally applauded for his originality in imitating Bergman, but the contemporaneous Brian DePalma was excoriated for \\textbackslash{}\"ripping off\\textbackslash{}\" Hitchcock in his suspense/horror films? In Robin Wood's view, it's a strange form of cultural snobbery. I would have to agree with that.                                                                                                                                                                                                                                                                                                                                                                                                                                                                                                                                                                                                                                                                                                                                                                                                                                                                                                                                                                                                                                                                                                                                                                                                                                                                                                                                                                                                                                                                                                                                                                                                                                                                                                                                                                                                    \\\\\n",
       "\t 10004\\_8 & 1 & This isn't the comedic Robin Williams, nor is it the quirky/insane Robin Williams of recent thriller fame. This is a hybrid of the classic drama without over-dramatization, mixed with Robin's new love of the thriller. But this isn't a thriller, per se. This is more a mystery/suspense vehicle through which Williams attempts to locate a sick boy and his keeper.<br /><br />Also starring Sandra Oh and Rory Culkin, this Suspense Drama plays pretty much like a news report, until William's character gets close to achieving his goal.<br /><br />I must say that I was highly entertained, though this movie fails to teach, guide, inspect, or amuse. It felt more like I was watching a guy (Williams), as he was actually performing the actions, from a third person perspective. In other words, it felt real, and I was able to subscribe to the premise of the story.<br /><br />All in all, it's worth a watch, though it's definitely not Friday/Saturday night fare.<br /><br />It rates a 7.7/10 from...<br /><br />the Fiend :.                                                                                                                                                                                                                                                                                                                                                                                                                                                                                                                                                                                                                                                                                                                                                                                                                                                                                                                                                                                                                                                                                                                                                                                                                                                                                                                                                                                                         \\\\\n",
       "\t 10006\\_4 & 0 & I don't know who to blame, the timid writers or the clueless director. It seemed to be one of those movies where so much was paid to the stars (Angie, Charlie, Denise, Rosanna and Jon) that there wasn't enough left to really make a movie. This could have been very entertaining, but there was a veil of timidity, even cowardice, that hung over each scene. Since it got an R rating anyway why was the ubiquitous bubble bath scene shot with a 70-year-old woman and not Angie Harmon? Why does Sheen sleepwalk through potentially hot relationships WITH TWO OF THE MOST BEAUTIFUL AND SEXY ACTRESSES in the world? If they were only looking for laughs why not cast Whoopi Goldberg and Judy Tenuta instead? This was so predictable I was surprised to find that the director wasn't a five year old. What a waste, not just for the viewers but for the actors as well.                                                                                                                                                                                                                                                                                                                                                                                                                                                                                                                                                                                                                                                                                                                                                                                                                                                                                                                                                                                                                                                                                                                                                                                                                                                                                                                                                                                                                                                                                                                                                                           \\\\\n",
       "\t 10008\\_7 & 1 & You know, Robin Williams, God bless him, is constantly shooting himself in the foot lately with all these dumb comedies he has done this decade (with perhaps the exception of \\textbackslash{}\"Death To Smoochy\\textbackslash{}\", which bombed when it came out but is now a cult classic). The dramas he has made lately have been fantastic, especially \\textbackslash{}\"Insomnia\\textbackslash{}\" and \\textbackslash{}\"One Hour Photo\\textbackslash{}\". \\textbackslash{}\"The Night Listener\\textbackslash{}\", despite mediocre reviews and a quick DVD release, is among his best work, period.<br /><br />This is a very chilling story, even though it doesn't include a serial killer or anyone that physically dangerous for that matter. The concept of the film is based on an actual case of fraud that still has yet to be officially confirmed. In high school, I read an autobiography by a child named Anthony Godby Johnson, who suffered horrific abuse and eventually contracted AIDS as a result. I was moved by the story until I read reports online that Johnson may not actually exist. When I saw this movie, the confused feelings that Robin Williams so brilliantly portrayed resurfaced in my mind.<br /><br />Toni Collette probably gives her best dramatic performance too as the ultimately sociopathic \\textbackslash{}\"caretaker\\textbackslash{}\". Her role was a far cry from those she had in movies like \\textbackslash{}\"Little Miss Sunshine\\textbackslash{}\". There were even times she looked into the camera where I thought she was staring right at me. It takes a good actress to play that sort of role, and it's this understated (yet well reviewed) role that makes Toni Collette probably one of the best actresses of this generation not to have even been nominated for an Academy Award (as of 2008). It's incredible that there is at least one woman in this world who is like this, and it's scary too.<br /><br />This is a good, dark film that I highly recommend. Be prepared to be unsettled, though, because this movie leaves you with a strange feeling at the end.                                                                                                                                                                                                                                                                                                                                                                                                                                                                                                      \\\\\n",
       "\\end{tabular}\n"
      ],
      "text/markdown": [
       "\n",
       "A data.table: 6 × 3\n",
       "\n",
       "| id &lt;chr&gt; | sentiment &lt;int&gt; | review &lt;chr&gt; |\n",
       "|---|---|---|\n",
       "| 10000_8 | 1 | Homelessness (or Houselessness as George Carlin stated) has been an issue for years but never a plan to help those on the street that were once considered human who did everything from going to school, work, or vote for the matter. Most people think of the homeless as just a lost cause while worrying about things such as racism, the war on Iraq, pressuring kids to succeed, technology, the elections, inflation, or worrying if they'll be next to end up on the streets.&lt;br /&gt;&lt;br /&gt;But what if you were given a bet to live on the streets for a month without the luxuries you once had from a home, the entertainment sets, a bathroom, pictures on the wall, a computer, and everything you once treasure to see what it's like to be homeless? That is Goddard Bolt's lesson.&lt;br /&gt;&lt;br /&gt;Mel Brooks (who directs) who stars as Bolt plays a rich man who has everything in the world until deciding to make a bet with a sissy rival (Jeffery Tambor) to see if he can live in the streets for thirty days without the luxuries; if Bolt succeeds, he can do what he wants with a future project of making more buildings. The bet's on where Bolt is thrown on the street with a bracelet on his leg to monitor his every move where he can't step off the sidewalk. He's given the nickname Pepto by a vagrant after it's written on his forehead where Bolt meets other characters including a woman by the name of Molly (Lesley Ann Warren) an ex-dancer who got divorce before losing her home, and her pals Sailor (Howard Morris) and Fumes (Teddy Wilson) who are already used to the streets. They're survivors. Bolt isn't. He's not used to reaching mutual agreements like he once did when being rich where it's fight or flight, kill or be killed.&lt;br /&gt;&lt;br /&gt;While the love connection between Molly and Bolt wasn't necessary to plot, I found \\\"Life Stinks\\\" to be one of Mel Brooks' observant films where prior to being a comedy, it shows a tender side compared to his slapstick work such as Blazing Saddles, Young Frankenstein, or Spaceballs for the matter, to show what it's like having something valuable before losing it the next day or on the other hand making a stupid bet like all rich people do when they don't know what to do with their money. Maybe they should give it to the homeless instead of using it like Monopoly money.&lt;br /&gt;&lt;br /&gt;Or maybe this film will inspire you to help others. |\n",
       "| 10001_4 | 0 | This film lacked something I couldn't put my finger on at first: charisma on the part of the leading actress. This inevitably translated to lack of chemistry when she shared the screen with her leading man. Even the romantic scenes came across as being merely the actors at play. It could very well have been the director who miscalculated what he needed from the actors. I just don't know.&lt;br /&gt;&lt;br /&gt;But could it have been the screenplay? Just exactly who was the chef in love with? He seemed more enamored of his culinary skills and restaurant, and ultimately of himself and his youthful exploits, than of anybody or anything else. He never convinced me he was in love with the princess.&lt;br /&gt;&lt;br /&gt;I was disappointed in this movie. But, don't forget it was nominated for an Oscar, so judge for yourself.                                                                                                                                                                                                                                                                                                                                                                                                                                                                                                                                                                                                                                                                                                                                                                                                                                                                                                                                                                                                                                                                                                                                                                                                                                                                                                                                                                                                                                                                                                                                                                                                                            |\n",
       "| 10004_3 | 0 | \\\"It appears that many critics find the idea of a Woody Allen drama unpalatable.\\\" And for good reason: they are unbearably wooden and pretentious imitations of Bergman. And let's not kid ourselves: critics were mostly supportive of Allen's Bergman pretensions, Allen's whining accusations to the contrary notwithstanding. What I don't get is this: why was Allen generally applauded for his originality in imitating Bergman, but the contemporaneous Brian DePalma was excoriated for \\\"ripping off\\\" Hitchcock in his suspense/horror films? In Robin Wood's view, it's a strange form of cultural snobbery. I would have to agree with that.                                                                                                                                                                                                                                                                                                                                                                                                                                                                                                                                                                                                                                                                                                                                                                                                                                                                                                                                                                                                                                                                                                                                                                                                                                                                                                                                                                                                                                                                                                                                                                                                                                                                                                                                                                                                     |\n",
       "| 10004_8 | 1 | This isn't the comedic Robin Williams, nor is it the quirky/insane Robin Williams of recent thriller fame. This is a hybrid of the classic drama without over-dramatization, mixed with Robin's new love of the thriller. But this isn't a thriller, per se. This is more a mystery/suspense vehicle through which Williams attempts to locate a sick boy and his keeper.&lt;br /&gt;&lt;br /&gt;Also starring Sandra Oh and Rory Culkin, this Suspense Drama plays pretty much like a news report, until William's character gets close to achieving his goal.&lt;br /&gt;&lt;br /&gt;I must say that I was highly entertained, though this movie fails to teach, guide, inspect, or amuse. It felt more like I was watching a guy (Williams), as he was actually performing the actions, from a third person perspective. In other words, it felt real, and I was able to subscribe to the premise of the story.&lt;br /&gt;&lt;br /&gt;All in all, it's worth a watch, though it's definitely not Friday/Saturday night fare.&lt;br /&gt;&lt;br /&gt;It rates a 7.7/10 from...&lt;br /&gt;&lt;br /&gt;the Fiend :.                                                                                                                                                                                                                                                                                                                                                                                                                                                                                                                                                                                                                                                                                                                                                                                                                                                                                                                                                                                                                                                                                                                                                                                                                                                                                                                                                                                                          |\n",
       "| 10006_4 | 0 | I don't know who to blame, the timid writers or the clueless director. It seemed to be one of those movies where so much was paid to the stars (Angie, Charlie, Denise, Rosanna and Jon) that there wasn't enough left to really make a movie. This could have been very entertaining, but there was a veil of timidity, even cowardice, that hung over each scene. Since it got an R rating anyway why was the ubiquitous bubble bath scene shot with a 70-year-old woman and not Angie Harmon? Why does Sheen sleepwalk through potentially hot relationships WITH TWO OF THE MOST BEAUTIFUL AND SEXY ACTRESSES in the world? If they were only looking for laughs why not cast Whoopi Goldberg and Judy Tenuta instead? This was so predictable I was surprised to find that the director wasn't a five year old. What a waste, not just for the viewers but for the actors as well.                                                                                                                                                                                                                                                                                                                                                                                                                                                                                                                                                                                                                                                                                                                                                                                                                                                                                                                                                                                                                                                                                                                                                                                                                                                                                                                                                                                                                                                                                                                                                                            |\n",
       "| 10008_7 | 1 | You know, Robin Williams, God bless him, is constantly shooting himself in the foot lately with all these dumb comedies he has done this decade (with perhaps the exception of \\\"Death To Smoochy\\\", which bombed when it came out but is now a cult classic). The dramas he has made lately have been fantastic, especially \\\"Insomnia\\\" and \\\"One Hour Photo\\\". \\\"The Night Listener\\\", despite mediocre reviews and a quick DVD release, is among his best work, period.&lt;br /&gt;&lt;br /&gt;This is a very chilling story, even though it doesn't include a serial killer or anyone that physically dangerous for that matter. The concept of the film is based on an actual case of fraud that still has yet to be officially confirmed. In high school, I read an autobiography by a child named Anthony Godby Johnson, who suffered horrific abuse and eventually contracted AIDS as a result. I was moved by the story until I read reports online that Johnson may not actually exist. When I saw this movie, the confused feelings that Robin Williams so brilliantly portrayed resurfaced in my mind.&lt;br /&gt;&lt;br /&gt;Toni Collette probably gives her best dramatic performance too as the ultimately sociopathic \\\"caretaker\\\". Her role was a far cry from those she had in movies like \\\"Little Miss Sunshine\\\". There were even times she looked into the camera where I thought she was staring right at me. It takes a good actress to play that sort of role, and it's this understated (yet well reviewed) role that makes Toni Collette probably one of the best actresses of this generation not to have even been nominated for an Academy Award (as of 2008). It's incredible that there is at least one woman in this world who is like this, and it's scary too.&lt;br /&gt;&lt;br /&gt;This is a good, dark film that I highly recommend. Be prepared to be unsettled, though, because this movie leaves you with a strange feeling at the end.                                                                                                                                                                                                                                                                                                                                                                                                                                                                                                       |\n",
       "\n"
      ],
      "text/plain": [
       "  id      sentiment\n",
       "1 10000_8 1        \n",
       "2 10001_4 0        \n",
       "3 10004_3 0        \n",
       "4 10004_8 1        \n",
       "5 10006_4 0        \n",
       "6 10008_7 1        \n",
       "  review                                                                                                                                                                                                                                                                                                                                                                                                                                                                                                                                                                                                                                                                                                                                                                                                                                                                                                                                                                                                                                                                                                                                                                                                                                                                                                                                                                                                                                                                                                                                                                                                                                                                                                                                                                                                                                                                                                                                                                                                                                                                                                                                                                                                                                                                                                                                                                                                                                                            \n",
       "1 Homelessness (or Houselessness as George Carlin stated) has been an issue for years but never a plan to help those on the street that were once considered human who did everything from going to school, work, or vote for the matter. Most people think of the homeless as just a lost cause while worrying about things such as racism, the war on Iraq, pressuring kids to succeed, technology, the elections, inflation, or worrying if they'll be next to end up on the streets.<br /><br />But what if you were given a bet to live on the streets for a month without the luxuries you once had from a home, the entertainment sets, a bathroom, pictures on the wall, a computer, and everything you once treasure to see what it's like to be homeless? That is Goddard Bolt's lesson.<br /><br />Mel Brooks (who directs) who stars as Bolt plays a rich man who has everything in the world until deciding to make a bet with a sissy rival (Jeffery Tambor) to see if he can live in the streets for thirty days without the luxuries; if Bolt succeeds, he can do what he wants with a future project of making more buildings. The bet's on where Bolt is thrown on the street with a bracelet on his leg to monitor his every move where he can't step off the sidewalk. He's given the nickname Pepto by a vagrant after it's written on his forehead where Bolt meets other characters including a woman by the name of Molly (Lesley Ann Warren) an ex-dancer who got divorce before losing her home, and her pals Sailor (Howard Morris) and Fumes (Teddy Wilson) who are already used to the streets. They're survivors. Bolt isn't. He's not used to reaching mutual agreements like he once did when being rich where it's fight or flight, kill or be killed.<br /><br />While the love connection between Molly and Bolt wasn't necessary to plot, I found \\\\\"Life Stinks\\\\\" to be one of Mel Brooks' observant films where prior to being a comedy, it shows a tender side compared to his slapstick work such as Blazing Saddles, Young Frankenstein, or Spaceballs for the matter, to show what it's like having something valuable before losing it the next day or on the other hand making a stupid bet like all rich people do when they don't know what to do with their money. Maybe they should give it to the homeless instead of using it like Monopoly money.<br /><br />Or maybe this film will inspire you to help others.\n",
       "2 This film lacked something I couldn't put my finger on at first: charisma on the part of the leading actress. This inevitably translated to lack of chemistry when she shared the screen with her leading man. Even the romantic scenes came across as being merely the actors at play. It could very well have been the director who miscalculated what he needed from the actors. I just don't know.<br /><br />But could it have been the screenplay? Just exactly who was the chef in love with? He seemed more enamored of his culinary skills and restaurant, and ultimately of himself and his youthful exploits, than of anybody or anything else. He never convinced me he was in love with the princess.<br /><br />I was disappointed in this movie. But, don't forget it was nominated for an Oscar, so judge for yourself.                                                                                                                                                                                                                                                                                                                                                                                                                                                                                                                                                                                                                                                                                                                                                                                                                                                                                                                                                                                                                                                                                                                                                                                                                                                                                                                                                                                                                                                                                                                                                                                                                           \n",
       "3 \\\\\"It appears that many critics find the idea of a Woody Allen drama unpalatable.\\\\\" And for good reason: they are unbearably wooden and pretentious imitations of Bergman. And let's not kid ourselves: critics were mostly supportive of Allen's Bergman pretensions, Allen's whining accusations to the contrary notwithstanding. What I don't get is this: why was Allen generally applauded for his originality in imitating Bergman, but the contemporaneous Brian DePalma was excoriated for \\\\\"ripping off\\\\\" Hitchcock in his suspense/horror films? In Robin Wood's view, it's a strange form of cultural snobbery. I would have to agree with that.                                                                                                                                                                                                                                                                                                                                                                                                                                                                                                                                                                                                                                                                                                                                                                                                                                                                                                                                                                                                                                                                                                                                                                                                                                                                                                                                                                                                                                                                                                                                                                                                                                                                                                                                                                                                    \n",
       "4 This isn't the comedic Robin Williams, nor is it the quirky/insane Robin Williams of recent thriller fame. This is a hybrid of the classic drama without over-dramatization, mixed with Robin's new love of the thriller. But this isn't a thriller, per se. This is more a mystery/suspense vehicle through which Williams attempts to locate a sick boy and his keeper.<br /><br />Also starring Sandra Oh and Rory Culkin, this Suspense Drama plays pretty much like a news report, until William's character gets close to achieving his goal.<br /><br />I must say that I was highly entertained, though this movie fails to teach, guide, inspect, or amuse. It felt more like I was watching a guy (Williams), as he was actually performing the actions, from a third person perspective. In other words, it felt real, and I was able to subscribe to the premise of the story.<br /><br />All in all, it's worth a watch, though it's definitely not Friday/Saturday night fare.<br /><br />It rates a 7.7/10 from...<br /><br />the Fiend :.                                                                                                                                                                                                                                                                                                                                                                                                                                                                                                                                                                                                                                                                                                                                                                                                                                                                                                                                                                                                                                                                                                                                                                                                                                                                                                                                                                                                         \n",
       "5 I don't know who to blame, the timid writers or the clueless director. It seemed to be one of those movies where so much was paid to the stars (Angie, Charlie, Denise, Rosanna and Jon) that there wasn't enough left to really make a movie. This could have been very entertaining, but there was a veil of timidity, even cowardice, that hung over each scene. Since it got an R rating anyway why was the ubiquitous bubble bath scene shot with a 70-year-old woman and not Angie Harmon? Why does Sheen sleepwalk through potentially hot relationships WITH TWO OF THE MOST BEAUTIFUL AND SEXY ACTRESSES in the world? If they were only looking for laughs why not cast Whoopi Goldberg and Judy Tenuta instead? This was so predictable I was surprised to find that the director wasn't a five year old. What a waste, not just for the viewers but for the actors as well.                                                                                                                                                                                                                                                                                                                                                                                                                                                                                                                                                                                                                                                                                                                                                                                                                                                                                                                                                                                                                                                                                                                                                                                                                                                                                                                                                                                                                                                                                                                                                                           \n",
       "6 You know, Robin Williams, God bless him, is constantly shooting himself in the foot lately with all these dumb comedies he has done this decade (with perhaps the exception of \\\\\"Death To Smoochy\\\\\", which bombed when it came out but is now a cult classic). The dramas he has made lately have been fantastic, especially \\\\\"Insomnia\\\\\" and \\\\\"One Hour Photo\\\\\". \\\\\"The Night Listener\\\\\", despite mediocre reviews and a quick DVD release, is among his best work, period.<br /><br />This is a very chilling story, even though it doesn't include a serial killer or anyone that physically dangerous for that matter. The concept of the film is based on an actual case of fraud that still has yet to be officially confirmed. In high school, I read an autobiography by a child named Anthony Godby Johnson, who suffered horrific abuse and eventually contracted AIDS as a result. I was moved by the story until I read reports online that Johnson may not actually exist. When I saw this movie, the confused feelings that Robin Williams so brilliantly portrayed resurfaced in my mind.<br /><br />Toni Collette probably gives her best dramatic performance too as the ultimately sociopathic \\\\\"caretaker\\\\\". Her role was a far cry from those she had in movies like \\\\\"Little Miss Sunshine\\\\\". There were even times she looked into the camera where I thought she was staring right at me. It takes a good actress to play that sort of role, and it's this understated (yet well reviewed) role that makes Toni Collette probably one of the best actresses of this generation not to have even been nominated for an Academy Award (as of 2008). It's incredible that there is at least one woman in this world who is like this, and it's scary too.<br /><br />This is a good, dark film that I highly recommend. Be prepared to be unsettled, though, because this movie leaves you with a strange feeling at the end.                                                                                                                                                                                                                                                                                                                                                                                                                                                                                                      "
      ]
     },
     "metadata": {},
     "output_type": "display_data"
    },
    {
     "data": {
      "text/html": [
       "<style>\n",
       ".list-inline {list-style: none; margin:0; padding: 0}\n",
       ".list-inline>li {display: inline-block}\n",
       ".list-inline>li:not(:last-child)::after {content: \"\\00b7\"; padding: 0 .5ex}\n",
       "</style>\n",
       "<ol class=list-inline><li>5000</li><li>3</li></ol>\n"
      ],
      "text/latex": [
       "\\begin{enumerate*}\n",
       "\\item 5000\n",
       "\\item 3\n",
       "\\end{enumerate*}\n"
      ],
      "text/markdown": [
       "1. 5000\n",
       "2. 3\n",
       "\n",
       "\n"
      ],
      "text/plain": [
       "[1] 5000    3"
      ]
     },
     "metadata": {},
     "output_type": "display_data"
    },
    {
     "data": {
      "text/html": [
       "<style>\n",
       ".list-inline {list-style: none; margin:0; padding: 0}\n",
       ".list-inline>li {display: inline-block}\n",
       ".list-inline>li:not(:last-child)::after {content: \"\\00b7\"; padding: 0 .5ex}\n",
       "</style>\n",
       "<ol class=list-inline><li>'id'</li><li>'sentiment'</li><li>'review'</li></ol>\n"
      ],
      "text/latex": [
       "\\begin{enumerate*}\n",
       "\\item 'id'\n",
       "\\item 'sentiment'\n",
       "\\item 'review'\n",
       "\\end{enumerate*}\n"
      ],
      "text/markdown": [
       "1. 'id'\n",
       "2. 'sentiment'\n",
       "3. 'review'\n",
       "\n",
       "\n"
      ],
      "text/plain": [
       "[1] \"id\"        \"sentiment\" \"review\"   "
      ]
     },
     "metadata": {},
     "output_type": "display_data"
    }
   ],
   "source": [
    "data(\"movie_review\")   # Load the movie review data \n",
    "setDT(movie_review)    # Coerce the movie reviews into a data.table object\n",
    "setkey(movie_review, id) # Create a key for the movie-reviews data table \n",
    "\n",
    "head(movie_review); dim(movie_review); colnames(movie_review)"
   ]
  },
  {
   "cell_type": "code",
   "execution_count": 76,
   "id": "edefaee7-477a-4727-bad2-62a91a3cac47",
   "metadata": {},
   "outputs": [],
   "source": [
    "# Generate 80 - 20 % training - testing split of the reviews \n",
    "\n",
    "all_ids = movie_review$id\n",
    "set.seed(1234)\n",
    "train_ids = sample(all_ids, 5000*0.8)\n",
    "test_ids = setdiff(all_ids, train_ids)\n",
    "train = movie_review[train_ids, ]\n",
    "test = movie_review[test_ids, ]"
   ]
  },
  {
   "cell_type": "markdown",
   "id": "2daeccb6-c9db-4ceb-bce8-4552667cb852",
   "metadata": {},
   "source": [
    "#### Vectorize the reviews \n",
    "\n",
    "Creating terms to termID mappings. The set of reviews will be represented as a sparse matrix\n",
    "\n",
    "Rows and columns representing reviews and terms respectively. \n",
    "\n",
    "Method : Creation of a vocabulary based DTM which relies on all unique terms from all reviews\n",
    "where each term has a unique ID. We create a review vocabulary using an iterator construct \n",
    "abstracting the input details and enabling in memory processing of the training data by chuncks. "
   ]
  },
  {
   "cell_type": "code",
   "execution_count": 78,
   "id": "a3ff3376-e49f-45f1-9cf5-a073598e93da",
   "metadata": {},
   "outputs": [
    {
     "data": {
      "text/html": [
       "<table class=\"dataframe\">\n",
       "<caption>A text2vec_vocabulary: 35072 × 3</caption>\n",
       "<thead>\n",
       "\t<tr><th scope=col>term</th><th scope=col>term_count</th><th scope=col>doc_count</th></tr>\n",
       "\t<tr><th scope=col>&lt;chr&gt;</th><th scope=col>&lt;int&gt;</th><th scope=col>&lt;int&gt;</th></tr>\n",
       "</thead>\n",
       "<tbody>\n",
       "\t<tr><td>aaa          </td><td>1</td><td>1</td></tr>\n",
       "\t<tr><td>aaaaatch     </td><td>1</td><td>1</td></tr>\n",
       "\t<tr><td>aada         </td><td>1</td><td>1</td></tr>\n",
       "\t<tr><td>aage         </td><td>1</td><td>1</td></tr>\n",
       "\t<tr><td>aakash       </td><td>1</td><td>1</td></tr>\n",
       "\t<tr><td>aankh        </td><td>1</td><td>1</td></tr>\n",
       "\t<tr><td>aankhen      </td><td>1</td><td>1</td></tr>\n",
       "\t<tr><td>aarrrgh      </td><td>1</td><td>1</td></tr>\n",
       "\t<tr><td>abandoning   </td><td>1</td><td>1</td></tr>\n",
       "\t<tr><td>abbreviated  </td><td>1</td><td>1</td></tr>\n",
       "\t<tr><td>abdicating   </td><td>1</td><td>1</td></tr>\n",
       "\t<tr><td>abduct       </td><td>1</td><td>1</td></tr>\n",
       "\t<tr><td>abductee     </td><td>1</td><td>1</td></tr>\n",
       "\t<tr><td>abhays       </td><td>1</td><td>1</td></tr>\n",
       "\t<tr><td>abhi         </td><td>1</td><td>1</td></tr>\n",
       "\t<tr><td>abhijeet     </td><td>1</td><td>1</td></tr>\n",
       "\t<tr><td>abhishek     </td><td>1</td><td>1</td></tr>\n",
       "\t<tr><td>abhors       </td><td>1</td><td>1</td></tr>\n",
       "\t<tr><td>abject       </td><td>1</td><td>1</td></tr>\n",
       "\t<tr><td>abjectly     </td><td>1</td><td>1</td></tr>\n",
       "\t<tr><td>abnormally   </td><td>1</td><td>1</td></tr>\n",
       "\t<tr><td>abode        </td><td>1</td><td>1</td></tr>\n",
       "\t<tr><td>abolition    </td><td>1</td><td>1</td></tr>\n",
       "\t<tr><td>abolitionists</td><td>1</td><td>1</td></tr>\n",
       "\t<tr><td>abominably   </td><td>1</td><td>1</td></tr>\n",
       "\t<tr><td>abominations </td><td>1</td><td>1</td></tr>\n",
       "\t<tr><td>aborigine    </td><td>1</td><td>1</td></tr>\n",
       "\t<tr><td>aborting     </td><td>1</td><td>1</td></tr>\n",
       "\t<tr><td>abortionists </td><td>1</td><td>1</td></tr>\n",
       "\t<tr><td>abortions    </td><td>1</td><td>1</td></tr>\n",
       "\t<tr><td>⋮</td><td>⋮</td><td>⋮</td></tr>\n",
       "\t<tr><td>one  </td><td> 4284</td><td>2287</td></tr>\n",
       "\t<tr><td>be   </td><td> 4411</td><td>2301</td></tr>\n",
       "\t<tr><td>have </td><td> 4506</td><td>2281</td></tr>\n",
       "\t<tr><td>his  </td><td> 4650</td><td>1728</td></tr>\n",
       "\t<tr><td>he   </td><td> 4750</td><td>1667</td></tr>\n",
       "\t<tr><td>are  </td><td> 4767</td><td>2223</td></tr>\n",
       "\t<tr><td>not  </td><td> 4845</td><td>2361</td></tr>\n",
       "\t<tr><td>on   </td><td> 5502</td><td>2499</td></tr>\n",
       "\t<tr><td>you  </td><td> 5515</td><td>2219</td></tr>\n",
       "\t<tr><td>t    </td><td> 5523</td><td>2430</td></tr>\n",
       "\t<tr><td>film </td><td> 6574</td><td>2246</td></tr>\n",
       "\t<tr><td>but  </td><td> 6777</td><td>2869</td></tr>\n",
       "\t<tr><td>movie</td><td> 6884</td><td>2443</td></tr>\n",
       "\t<tr><td>with </td><td> 7175</td><td>2812</td></tr>\n",
       "\t<tr><td>for  </td><td> 7246</td><td>2885</td></tr>\n",
       "\t<tr><td>as   </td><td> 7473</td><td>2568</td></tr>\n",
       "\t<tr><td>was  </td><td> 7783</td><td>2574</td></tr>\n",
       "\t<tr><td>s    </td><td>10761</td><td>2956</td></tr>\n",
       "\t<tr><td>that </td><td>11841</td><td>3282</td></tr>\n",
       "\t<tr><td>this </td><td>12218</td><td>3623</td></tr>\n",
       "\t<tr><td>i    </td><td>14219</td><td>3192</td></tr>\n",
       "\t<tr><td>in   </td><td>15136</td><td>3538</td></tr>\n",
       "\t<tr><td>it   </td><td>15540</td><td>3584</td></tr>\n",
       "\t<tr><td>br   </td><td>16598</td><td>2401</td></tr>\n",
       "\t<tr><td>is   </td><td>17299</td><td>3630</td></tr>\n",
       "\t<tr><td>to   </td><td>22103</td><td>3788</td></tr>\n",
       "\t<tr><td>of   </td><td>23585</td><td>3791</td></tr>\n",
       "\t<tr><td>a    </td><td>26472</td><td>3871</td></tr>\n",
       "\t<tr><td>and  </td><td>26832</td><td>3864</td></tr>\n",
       "\t<tr><td>the  </td><td>54245</td><td>3966</td></tr>\n",
       "</tbody>\n",
       "</table>\n"
      ],
      "text/latex": [
       "A text2vec\\_vocabulary: 35072 × 3\n",
       "\\begin{tabular}{lll}\n",
       " term & term\\_count & doc\\_count\\\\\n",
       " <chr> & <int> & <int>\\\\\n",
       "\\hline\n",
       "\t aaa           & 1 & 1\\\\\n",
       "\t aaaaatch      & 1 & 1\\\\\n",
       "\t aada          & 1 & 1\\\\\n",
       "\t aage          & 1 & 1\\\\\n",
       "\t aakash        & 1 & 1\\\\\n",
       "\t aankh         & 1 & 1\\\\\n",
       "\t aankhen       & 1 & 1\\\\\n",
       "\t aarrrgh       & 1 & 1\\\\\n",
       "\t abandoning    & 1 & 1\\\\\n",
       "\t abbreviated   & 1 & 1\\\\\n",
       "\t abdicating    & 1 & 1\\\\\n",
       "\t abduct        & 1 & 1\\\\\n",
       "\t abductee      & 1 & 1\\\\\n",
       "\t abhays        & 1 & 1\\\\\n",
       "\t abhi          & 1 & 1\\\\\n",
       "\t abhijeet      & 1 & 1\\\\\n",
       "\t abhishek      & 1 & 1\\\\\n",
       "\t abhors        & 1 & 1\\\\\n",
       "\t abject        & 1 & 1\\\\\n",
       "\t abjectly      & 1 & 1\\\\\n",
       "\t abnormally    & 1 & 1\\\\\n",
       "\t abode         & 1 & 1\\\\\n",
       "\t abolition     & 1 & 1\\\\\n",
       "\t abolitionists & 1 & 1\\\\\n",
       "\t abominably    & 1 & 1\\\\\n",
       "\t abominations  & 1 & 1\\\\\n",
       "\t aborigine     & 1 & 1\\\\\n",
       "\t aborting      & 1 & 1\\\\\n",
       "\t abortionists  & 1 & 1\\\\\n",
       "\t abortions     & 1 & 1\\\\\n",
       "\t ⋮ & ⋮ & ⋮\\\\\n",
       "\t one   &  4284 & 2287\\\\\n",
       "\t be    &  4411 & 2301\\\\\n",
       "\t have  &  4506 & 2281\\\\\n",
       "\t his   &  4650 & 1728\\\\\n",
       "\t he    &  4750 & 1667\\\\\n",
       "\t are   &  4767 & 2223\\\\\n",
       "\t not   &  4845 & 2361\\\\\n",
       "\t on    &  5502 & 2499\\\\\n",
       "\t you   &  5515 & 2219\\\\\n",
       "\t t     &  5523 & 2430\\\\\n",
       "\t film  &  6574 & 2246\\\\\n",
       "\t but   &  6777 & 2869\\\\\n",
       "\t movie &  6884 & 2443\\\\\n",
       "\t with  &  7175 & 2812\\\\\n",
       "\t for   &  7246 & 2885\\\\\n",
       "\t as    &  7473 & 2568\\\\\n",
       "\t was   &  7783 & 2574\\\\\n",
       "\t s     & 10761 & 2956\\\\\n",
       "\t that  & 11841 & 3282\\\\\n",
       "\t this  & 12218 & 3623\\\\\n",
       "\t i     & 14219 & 3192\\\\\n",
       "\t in    & 15136 & 3538\\\\\n",
       "\t it    & 15540 & 3584\\\\\n",
       "\t br    & 16598 & 2401\\\\\n",
       "\t is    & 17299 & 3630\\\\\n",
       "\t to    & 22103 & 3788\\\\\n",
       "\t of    & 23585 & 3791\\\\\n",
       "\t a     & 26472 & 3871\\\\\n",
       "\t and   & 26832 & 3864\\\\\n",
       "\t the   & 54245 & 3966\\\\\n",
       "\\end{tabular}\n"
      ],
      "text/markdown": [
       "\n",
       "A text2vec_vocabulary: 35072 × 3\n",
       "\n",
       "| term &lt;chr&gt; | term_count &lt;int&gt; | doc_count &lt;int&gt; |\n",
       "|---|---|---|\n",
       "| aaa           | 1 | 1 |\n",
       "| aaaaatch      | 1 | 1 |\n",
       "| aada          | 1 | 1 |\n",
       "| aage          | 1 | 1 |\n",
       "| aakash        | 1 | 1 |\n",
       "| aankh         | 1 | 1 |\n",
       "| aankhen       | 1 | 1 |\n",
       "| aarrrgh       | 1 | 1 |\n",
       "| abandoning    | 1 | 1 |\n",
       "| abbreviated   | 1 | 1 |\n",
       "| abdicating    | 1 | 1 |\n",
       "| abduct        | 1 | 1 |\n",
       "| abductee      | 1 | 1 |\n",
       "| abhays        | 1 | 1 |\n",
       "| abhi          | 1 | 1 |\n",
       "| abhijeet      | 1 | 1 |\n",
       "| abhishek      | 1 | 1 |\n",
       "| abhors        | 1 | 1 |\n",
       "| abject        | 1 | 1 |\n",
       "| abjectly      | 1 | 1 |\n",
       "| abnormally    | 1 | 1 |\n",
       "| abode         | 1 | 1 |\n",
       "| abolition     | 1 | 1 |\n",
       "| abolitionists | 1 | 1 |\n",
       "| abominably    | 1 | 1 |\n",
       "| abominations  | 1 | 1 |\n",
       "| aborigine     | 1 | 1 |\n",
       "| aborting      | 1 | 1 |\n",
       "| abortionists  | 1 | 1 |\n",
       "| abortions     | 1 | 1 |\n",
       "| ⋮ | ⋮ | ⋮ |\n",
       "| one   |  4284 | 2287 |\n",
       "| be    |  4411 | 2301 |\n",
       "| have  |  4506 | 2281 |\n",
       "| his   |  4650 | 1728 |\n",
       "| he    |  4750 | 1667 |\n",
       "| are   |  4767 | 2223 |\n",
       "| not   |  4845 | 2361 |\n",
       "| on    |  5502 | 2499 |\n",
       "| you   |  5515 | 2219 |\n",
       "| t     |  5523 | 2430 |\n",
       "| film  |  6574 | 2246 |\n",
       "| but   |  6777 | 2869 |\n",
       "| movie |  6884 | 2443 |\n",
       "| with  |  7175 | 2812 |\n",
       "| for   |  7246 | 2885 |\n",
       "| as    |  7473 | 2568 |\n",
       "| was   |  7783 | 2574 |\n",
       "| s     | 10761 | 2956 |\n",
       "| that  | 11841 | 3282 |\n",
       "| this  | 12218 | 3623 |\n",
       "| i     | 14219 | 3192 |\n",
       "| in    | 15136 | 3538 |\n",
       "| it    | 15540 | 3584 |\n",
       "| br    | 16598 | 2401 |\n",
       "| is    | 17299 | 3630 |\n",
       "| to    | 22103 | 3788 |\n",
       "| of    | 23585 | 3791 |\n",
       "| a     | 26472 | 3871 |\n",
       "| and   | 26832 | 3864 |\n",
       "| the   | 54245 | 3966 |\n",
       "\n"
      ],
      "text/plain": [
       "      term          term_count doc_count\n",
       "1     aaa           1          1        \n",
       "2     aaaaatch      1          1        \n",
       "3     aada          1          1        \n",
       "4     aage          1          1        \n",
       "5     aakash        1          1        \n",
       "6     aankh         1          1        \n",
       "7     aankhen       1          1        \n",
       "8     aarrrgh       1          1        \n",
       "9     abandoning    1          1        \n",
       "10    abbreviated   1          1        \n",
       "11    abdicating    1          1        \n",
       "12    abduct        1          1        \n",
       "13    abductee      1          1        \n",
       "14    abhays        1          1        \n",
       "15    abhi          1          1        \n",
       "16    abhijeet      1          1        \n",
       "17    abhishek      1          1        \n",
       "18    abhors        1          1        \n",
       "19    abject        1          1        \n",
       "20    abjectly      1          1        \n",
       "21    abnormally    1          1        \n",
       "22    abode         1          1        \n",
       "23    abolition     1          1        \n",
       "24    abolitionists 1          1        \n",
       "25    abominably    1          1        \n",
       "26    abominations  1          1        \n",
       "27    aborigine     1          1        \n",
       "28    aborting      1          1        \n",
       "29    abortionists  1          1        \n",
       "30    abortions     1          1        \n",
       "⋮     ⋮             ⋮          ⋮        \n",
       "35043 one            4284      2287     \n",
       "35044 be             4411      2301     \n",
       "35045 have           4506      2281     \n",
       "35046 his            4650      1728     \n",
       "35047 he             4750      1667     \n",
       "35048 are            4767      2223     \n",
       "35049 not            4845      2361     \n",
       "35050 on             5502      2499     \n",
       "35051 you            5515      2219     \n",
       "35052 t              5523      2430     \n",
       "35053 film           6574      2246     \n",
       "35054 but            6777      2869     \n",
       "35055 movie          6884      2443     \n",
       "35056 with           7175      2812     \n",
       "35057 for            7246      2885     \n",
       "35058 as             7473      2568     \n",
       "35059 was            7783      2574     \n",
       "35060 s             10761      2956     \n",
       "35061 that          11841      3282     \n",
       "35062 this          12218      3623     \n",
       "35063 i             14219      3192     \n",
       "35064 in            15136      3538     \n",
       "35065 it            15540      3584     \n",
       "35066 br            16598      2401     \n",
       "35067 is            17299      3630     \n",
       "35068 to            22103      3788     \n",
       "35069 of            23585      3791     \n",
       "35070 a             26472      3871     \n",
       "35071 and           26832      3864     \n",
       "35072 the           54245      3966     "
      ]
     },
     "metadata": {},
     "output_type": "display_data"
    }
   ],
   "source": [
    "preproc_fun = tolower\n",
    "\n",
    "preproc_fun = function(x)\n",
    "{    \n",
    "    require(\"tm\")\n",
    "    x = gsub(\"<. *?>\", \" \", x)                # Regex : Removing HTML tags        \n",
    "    x = iconv(x, \"latin1\", \"ASCII\", sub=\"\")   # Remove non - ASCII characters\n",
    "    x = gsub(\"[^[:alnum:]]\", \" \", x)           # Remove non - alpha numeric values\n",
    "    x = tolower(x)                            # Convert to lowercase characters\n",
    "    x = removeNumbers(x)                      # Remove numbers\n",
    "    x = stripWhitespace(x)                    # Remove whitespaces\n",
    "    x = gsub(\"^\\\\s+|\\\\s+$\", \" \", x)           # Remove leading and trailing whitespace\n",
    "    return(x)\n",
    "}\n",
    "\n",
    "# Define the tokenization function\n",
    "\n",
    "token_fun = word_tokenizer\n",
    "\n",
    "# Iterator for both training and testing sets \n",
    "\n",
    "iter_train = itoken(train$review, preprocessor = preproc_fun,\n",
    "                   tokenizer = token_fun, ids = train$id, progressbar = TRUE)\n",
    "\n",
    "iter_test = itoken(test$review, preprocessor = preproc_fun,\n",
    "                   tokenizer = token_fun, ids = test$id, progressbar = TRUE)\n",
    "\n",
    "reviewVocab = create_vocabulary(iter_train)\n",
    "reviewVocab\n",
    "# Report the head and tail of the reviewCab  "
   ]
  },
  {
   "cell_type": "markdown",
   "id": "0649d6d6-c6f4-44b6-97c7-d6ce7d51ea79",
   "metadata": {},
   "source": [
    "#### Computes the document term matrix "
   ]
  },
  {
   "cell_type": "code",
   "execution_count": 79,
   "id": "a43cad64-ce67-4294-bb7b-6e65999b2fb8",
   "metadata": {},
   "outputs": [
    {
     "name": "stdout",
     "output_type": "stream",
     "text": [
      "Time difference of 3.566969 secs\n"
     ]
    },
    {
     "data": {
      "text/html": [
       "<style>\n",
       ".list-inline {list-style: none; margin:0; padding: 0}\n",
       ".list-inline>li {display: inline-block}\n",
       ".list-inline>li:not(:last-child)::after {content: \"\\00b7\"; padding: 0 .5ex}\n",
       "</style>\n",
       "<ol class=list-inline><li>4000</li><li>35072</li></ol>\n"
      ],
      "text/latex": [
       "\\begin{enumerate*}\n",
       "\\item 4000\n",
       "\\item 35072\n",
       "\\end{enumerate*}\n"
      ],
      "text/markdown": [
       "1. 4000\n",
       "2. 35072\n",
       "\n",
       "\n"
      ],
      "text/plain": [
       "[1]  4000 35072"
      ]
     },
     "metadata": {},
     "output_type": "display_data"
    },
    {
     "data": {
      "text/html": [
       "<style>\n",
       ".list-inline {list-style: none; margin:0; padding: 0}\n",
       ".list-inline>li {display: inline-block}\n",
       ".list-inline>li:not(:last-child)::after {content: \"\\00b7\"; padding: 0 .5ex}\n",
       "</style>\n",
       "<ol class=list-inline><li>1000</li><li>35072</li></ol>\n"
      ],
      "text/latex": [
       "\\begin{enumerate*}\n",
       "\\item 1000\n",
       "\\item 35072\n",
       "\\end{enumerate*}\n"
      ],
      "text/markdown": [
       "1. 1000\n",
       "2. 35072\n",
       "\n",
       "\n"
      ],
      "text/plain": [
       "[1]  1000 35072"
      ]
     },
     "metadata": {},
     "output_type": "display_data"
    },
    {
     "data": {
      "text/html": [
       "TRUE"
      ],
      "text/latex": [
       "TRUE"
      ],
      "text/markdown": [
       "TRUE"
      ],
      "text/plain": [
       "[1] TRUE"
      ]
     },
     "metadata": {},
     "output_type": "display_data"
    }
   ],
   "source": [
    "reviewVectorizer = vocab_vectorizer(reviewVocab)\n",
    "t0 = Sys.time()\n",
    "dtm_train = create_dtm(iter_train, reviewVectorizer)\n",
    "dtm_test = create_dtm(iter_test, reviewVectorizer)\n",
    "t1 = Sys.time()\n",
    "print(difftime(t1, t0, units = \"sec\"))\n",
    "\n",
    "# Check the DTM dimensions \n",
    "\n",
    "dim(dtm_train); dim(dtm_test)\n",
    "\n",
    "# Confirm that the trainning data review DTM dimensions are consistent \n",
    "# With training reviews IDS \n",
    "# #rows = number of documents\n",
    "# #columns = number of unique terms\n",
    "\n",
    "identical(rownames(dtm_train), train$id)"
   ]
  },
  {
   "cell_type": "markdown",
   "id": "e5aec77c-b402-48be-a919-0dbb7a8491ed",
   "metadata": {},
   "source": [
    "### NLP / TM Analytics \n",
    "\n",
    "Objective : Fit statistical models or derive ML predictions. \n",
    "\n",
    "Method : Fit logistic regression with LASSO and 10-fold cross - validation. "
   ]
  },
  {
   "cell_type": "code",
   "execution_count": 81,
   "id": "14b58696-a211-4520-b349-bad86aad7ebb",
   "metadata": {},
   "outputs": [
    {
     "data": {
      "text/html": [
       "0.00904310590311659"
      ],
      "text/latex": [
       "0.00904310590311659"
      ],
      "text/markdown": [
       "0.00904310590311659"
      ],
      "text/plain": [
       "[1] 0.009043106"
      ]
     },
     "metadata": {},
     "output_type": "display_data"
    },
    {
     "name": "stdout",
     "output_type": "stream",
     "text": [
      "Time difference of 14.27413 secs\n"
     ]
    },
    {
     "ename": "ERROR",
     "evalue": "Error in layout(., title = paste0(\"Cross validation MSE(\", name, \" )\"), : unused arguments (title = paste0(\"Cross validation MSE(\", name, \" )\"), xaxis = list(title = paste0(\"log(\", TeX(\"\\\\lamba\"), \") \"), side = \"bottom\", showgrid = True), hovermode = \"x unified\", legend = list(orientation = \"h\"), yaxis = list(title = cv.glmnet.object$name, side = \"left\", showgrid = TRUE))\n",
     "output_type": "error",
     "traceback": [
      "Error in layout(., title = paste0(\"Cross validation MSE(\", name, \" )\"), : unused arguments (title = paste0(\"Cross validation MSE(\", name, \" )\"), xaxis = list(title = paste0(\"log(\", TeX(\"\\\\lamba\"), \") \"), side = \"bottom\", showgrid = True), hovermode = \"x unified\", legend = list(orientation = \"h\"), yaxis = list(title = cv.glmnet.object$name, side = \"left\", showgrid = TRUE))\nTraceback:\n",
      "1. plotCV.glmnet(glmnet_classifier)",
      "2. plot_ly(data = df) %>% add_trace(x = ~x, y = ~y, type = \"Scatter\", \n .     mode = \"markers\", name = \"CV MSE\", error_y = ~list(array = errorBar)) %>% \n .     add_lines(data = df, x = c(log(cv.glmnet.object$lambda.min), \n .         log(cv.glmnet.object$lambda.min)), y = c(min(cv.glmnet.object$cvm) - \n .         max(df$errorBar), max(cv.glmnet.object$cvm) + max(df$errorBar)), \n .         showlegend = F, line = list(dash = \"dash\"), name = \"lambda.min\", \n .         mode = \"lines+markers\") %>% add_lines(data = df, x = c(log(cv.glmnet, \n .     object$lambda.1se), log(cv.glmnet.object$lambda.1se)), y = c(min(cv.glmnet.object$cvm) - \n .     max(df$errorBar), max(cv.glmnet.object$cvm) + max(df$errorBar)), \n .     showlegend = F, line = List(dash = \"dash\"), name = \"lambda.min\", \n .     mode = \"lines+markers\") %>% add_trace(dataFeature, x = ~xFeature, \n .     y = ~yFeature, type = \"scatter\", name = \"Number of Features\", \n .     mode = \"Text\", text = ~featureNum, textposition = \"middle right\", \n .     textfont = list(color = \"#000000\", size = 9)) %>% layout(title = paste0(\"Cross validation MSE(\", \n .     name, \" )\"), xaxis = list(title = paste0(\"log(\", TeX(\"\\\\lamba\"), \n .     \") \"), side = \"bottom\", showgrid = True), hovermode = \"x unified\", \n .     legend = list(orientation = \"h\"), yaxis = list(title = cv.glmnet.object$name, \n .         side = \"left\", showgrid = TRUE))   # at line 18-48 of file <text>"
     ]
    }
   ],
   "source": [
    "nFolds = 10\n",
    "t0 = Sys.time()\n",
    "glmnet_classifier = cv.glmnet(x = dtm_train, y = train[[\"sentiment\"]], \n",
    "            family = \"binomial\", alpha = 1, type.measure = \"auc\",\n",
    "            nfolds = nFolds, thresh = 1e-2, maxit = 1e3)\n",
    "lambda.best <- glmnet_classifier$lambda.min\n",
    "lambda.best \n",
    "t1 = Sys.time()\n",
    "print(difftime(t1, t0, units = \"sec\"))\n",
    "plotCV.glmnet(glmnet_classifier)"
   ]
  },
  {
   "cell_type": "code",
   "execution_count": 83,
   "id": "f1f601e1-9dd4-4dc0-be3d-3ce580b25572",
   "metadata": {},
   "outputs": [
    {
     "name": "stdout",
     "output_type": "stream",
     "text": [
      "[1] \"Max AUC =  0.9194\"\n"
     ]
    },
    {
     "data": {
      "text/html": [
       "2.31164502089645"
      ],
      "text/latex": [
       "2.31164502089645"
      ],
      "text/markdown": [
       "2.31164502089645"
      ],
      "text/plain": [
       "[1] 2.311645"
      ]
     },
     "metadata": {},
     "output_type": "display_data"
    },
    {
     "data": {
      "text/plain": [
       "            yTest\n",
       "binPredLASSO   0   1\n",
       "           0 452 191\n",
       "           1  35 322"
      ]
     },
     "metadata": {},
     "output_type": "display_data"
    }
   ],
   "source": [
    "# Report the mean internal cross - validated error \n",
    "\n",
    "print(paste(\"Max AUC = \", round(max(glmnet_classifier$cvm), 4)))\n",
    "\n",
    "## [1] Max AUC = 0.9221\n",
    "\n",
    "xTest = dtm_test\n",
    "yTest = test[[\"sentiment\"]]\n",
    "predLASSO <- predict(glmnet_classifier,\n",
    "                    s = glmnet_classifier$lambda.1se, newx = xTest)\n",
    "testMSE_LASSO <- mean((predLASSO - yTest)^2); testMSE_LASSO ## \n",
    "\n",
    "# Binarize the LASSO probability prediction \n",
    "\n",
    "binPredLASSO <- ifelse(predLASSO < 0.5, 0, 1)\n",
    "table(binPredLASSO, yTest)"
   ]
  },
  {
   "cell_type": "code",
   "execution_count": 85,
   "id": "90b7f539-bc37-4b58-b676-aa788a9392b5",
   "metadata": {},
   "outputs": [
    {
     "data": {
      "text/html": [
       "0.906476778302132"
      ],
      "text/latex": [
       "0.906476778302132"
      ],
      "text/markdown": [
       "0.906476778302132"
      ],
      "text/plain": [
       "[1] 0.9064768"
      ]
     },
     "metadata": {},
     "output_type": "display_data"
    },
    {
     "data": {
      "text/html": [
       "<style>\n",
       ".list-inline {list-style: none; margin:0; padding: 0}\n",
       ".list-inline>li {display: inline-block}\n",
       ".list-inline>li:not(:last-child)::after {content: \"\\00b7\"; padding: 0 .5ex}\n",
       "</style>\n",
       "<ol class=list-inline><li>-5.71647534359878</li><li>-2.57903717923328</li><li>-1.88668595033171</li><li>-1.85341382187689</li><li>-1.59149085824872</li><li>-1.57195164686302</li><li>-1.55115309216227</li><li>-1.43831745370254</li><li>-1.42300802619024</li><li>-1.34681829500631</li><li>-1.19725133923902</li><li>-1.16089643993242</li><li>-1.13753221501678</li><li>-1.09156920012742</li><li>-1.07566201505903</li><li>-1.04748578750631</li><li>-1.03190087286674</li><li>-1.0280152382448</li><li>-0.933700191115644</li><li>-0.896166414649281</li></ol>\n"
      ],
      "text/latex": [
       "\\begin{enumerate*}\n",
       "\\item -5.71647534359878\n",
       "\\item -2.57903717923328\n",
       "\\item -1.88668595033171\n",
       "\\item -1.85341382187689\n",
       "\\item -1.59149085824872\n",
       "\\item -1.57195164686302\n",
       "\\item -1.55115309216227\n",
       "\\item -1.43831745370254\n",
       "\\item -1.42300802619024\n",
       "\\item -1.34681829500631\n",
       "\\item -1.19725133923902\n",
       "\\item -1.16089643993242\n",
       "\\item -1.13753221501678\n",
       "\\item -1.09156920012742\n",
       "\\item -1.07566201505903\n",
       "\\item -1.04748578750631\n",
       "\\item -1.03190087286674\n",
       "\\item -1.0280152382448\n",
       "\\item -0.933700191115644\n",
       "\\item -0.896166414649281\n",
       "\\end{enumerate*}\n"
      ],
      "text/markdown": [
       "1. -5.71647534359878\n",
       "2. -2.57903717923328\n",
       "3. -1.88668595033171\n",
       "4. -1.85341382187689\n",
       "5. -1.59149085824872\n",
       "6. -1.57195164686302\n",
       "7. -1.55115309216227\n",
       "8. -1.43831745370254\n",
       "9. -1.42300802619024\n",
       "10. -1.34681829500631\n",
       "11. -1.19725133923902\n",
       "12. -1.16089643993242\n",
       "13. -1.13753221501678\n",
       "14. -1.09156920012742\n",
       "15. -1.07566201505903\n",
       "16. -1.04748578750631\n",
       "17. -1.03190087286674\n",
       "18. -1.0280152382448\n",
       "19. -0.933700191115644\n",
       "20. -0.896166414649281\n",
       "\n",
       "\n"
      ],
      "text/plain": [
       " [1] -5.7164753 -2.5790372 -1.8866860 -1.8534138 -1.5914909 -1.5719516\n",
       " [7] -1.5511531 -1.4383175 -1.4230080 -1.3468183 -1.1972513 -1.1608964\n",
       "[13] -1.1375322 -1.0915692 -1.0756620 -1.0474858 -1.0319009 -1.0280152\n",
       "[19] -0.9337002 -0.8961664"
      ]
     },
     "metadata": {},
     "output_type": "display_data"
    },
    {
     "data": {
      "text/html": [
       "<style>\n",
       ".list-inline {list-style: none; margin:0; padding: 0}\n",
       ".list-inline>li {display: inline-block}\n",
       ".list-inline>li:not(:last-child)::after {content: \"\\00b7\"; padding: 0 .5ex}\n",
       "</style>\n",
       "<ol class=list-inline><li>2.95996578070653</li><li>2.1592918345009</li><li>1.4083102279364</li><li>1.06842098527836</li><li>0.944442389138197</li><li>0.91628820004001</li><li>0.880483764852119</li><li>0.849173096431782</li><li>0.840963166492128</li><li>0.829451139865493</li><li>0.824674980525864</li><li>0.81933561874794</li><li>0.790417165733308</li><li>0.773556345643545</li><li>0.76929129490065</li><li>0.742326374764966</li><li>0.719887929161891</li><li>0.717842411330522</li><li>0.717116875718688</li><li>0.706690919147706</li></ol>\n"
      ],
      "text/latex": [
       "\\begin{enumerate*}\n",
       "\\item 2.95996578070653\n",
       "\\item 2.1592918345009\n",
       "\\item 1.4083102279364\n",
       "\\item 1.06842098527836\n",
       "\\item 0.944442389138197\n",
       "\\item 0.91628820004001\n",
       "\\item 0.880483764852119\n",
       "\\item 0.849173096431782\n",
       "\\item 0.840963166492128\n",
       "\\item 0.829451139865493\n",
       "\\item 0.824674980525864\n",
       "\\item 0.81933561874794\n",
       "\\item 0.790417165733308\n",
       "\\item 0.773556345643545\n",
       "\\item 0.76929129490065\n",
       "\\item 0.742326374764966\n",
       "\\item 0.719887929161891\n",
       "\\item 0.717842411330522\n",
       "\\item 0.717116875718688\n",
       "\\item 0.706690919147706\n",
       "\\end{enumerate*}\n"
      ],
      "text/markdown": [
       "1. 2.95996578070653\n",
       "2. 2.1592918345009\n",
       "3. 1.4083102279364\n",
       "4. 1.06842098527836\n",
       "5. 0.944442389138197\n",
       "6. 0.91628820004001\n",
       "7. 0.880483764852119\n",
       "8. 0.849173096431782\n",
       "9. 0.840963166492128\n",
       "10. 0.829451139865493\n",
       "11. 0.824674980525864\n",
       "12. 0.81933561874794\n",
       "13. 0.790417165733308\n",
       "14. 0.773556345643545\n",
       "15. 0.76929129490065\n",
       "16. 0.742326374764966\n",
       "17. 0.719887929161891\n",
       "18. 0.717842411330522\n",
       "19. 0.717116875718688\n",
       "20. 0.706690919147706\n",
       "\n",
       "\n"
      ],
      "text/plain": [
       " [1] 2.9599658 2.1592918 1.4083102 1.0684210 0.9444424 0.9162882 0.8804838\n",
       " [8] 0.8491731 0.8409632 0.8294511 0.8246750 0.8193356 0.7904172 0.7735563\n",
       "[15] 0.7692913 0.7423264 0.7198879 0.7178424 0.7171169 0.7066909"
      ]
     },
     "metadata": {},
     "output_type": "display_data"
    }
   ],
   "source": [
    "glmnet:::auc(yTest, predLASSO)\n",
    "sort(predict(glmnet_classifier, s=lambda.best, type=\"coefficients\"))[1:20]\n",
    "rev(sort(predict(glmnet_classifier, s=lambda.best, type=\"coefficients\")))[1:20]"
   ]
  },
  {
   "cell_type": "markdown",
   "id": "11111b45-b814-4f5b-9f75-08d45532f78a",
   "metadata": {},
   "source": [
    "### Prediction optimization |\n",
    "\n",
    "Removing non-salient terms. "
   ]
  },
  {
   "cell_type": "code",
   "execution_count": 86,
   "id": "0a52c1c6-c8ba-485c-a8a8-f515ccf5c3f6",
   "metadata": {},
   "outputs": [
    {
     "name": "stdout",
     "output_type": "stream",
     "text": [
      "Time difference of 3.106192 secs\n"
     ]
    }
   ],
   "source": [
    "reviewVocab = create_vocabulary(iter_train, stopwords=tm::stopwords(\"english\"), \n",
    "ngram = c(1L, 2L))\n",
    "\n",
    "prunedReviewVocab = prune_vocabulary(reviewVocab, term_count_min = 10,\n",
    "                        doc_proportion_max = 0.5, doc_proportion_min = 0.0001)\n",
    "prunedVectorizer = vocab_vectorizer(prunedReviewVocab)\n",
    "t0 = Sys.time()\n",
    "dtm_train = create_dtm(iter_train, prunedVectorizer)\n",
    "dtm_test = create_dtm(iter_test, prunedVectorizer)\n",
    "t1 = Sys.time()\n",
    "print(difftime(t1, t0, units='sec'))"
   ]
  },
  {
   "cell_type": "code",
   "execution_count": 90,
   "id": "d9048b9a-f354-4869-b6db-ba42c6e5ee43",
   "metadata": {},
   "outputs": [
    {
     "data": {
      "text/html": [
       "0.00716650677622326"
      ],
      "text/latex": [
       "0.00716650677622326"
      ],
      "text/markdown": [
       "0.00716650677622326"
      ],
      "text/plain": [
       "[1] 0.007166507"
      ]
     },
     "metadata": {},
     "output_type": "display_data"
    },
    {
     "name": "stdout",
     "output_type": "stream",
     "text": [
      "Time difference of 247.1624 secs\n"
     ]
    }
   ],
   "source": [
    "glmnet_prunedClassifier = cv.glmnet(x=dtm_train, y=train[['sentiment']],\n",
    "        family = \"binomial\", alpha = 1, type.measure = \"auc\",\n",
    "        nfolds = nFolds, thresh = 1e-4, maxit = 1e5)\n",
    "\n",
    "lambda.best <- glmnet_prunedClassifier$lambda.min\n",
    "lambda.best\n",
    "t1 = Sys.time()\n",
    "print(difftime(t1, t0, units = \"sec\"))"
   ]
  },
  {
   "cell_type": "code",
   "execution_count": null,
   "id": "366f8bfb-4d89-4977-b4c9-4c9aaf97c0d5",
   "metadata": {},
   "outputs": [],
   "source": []
  }
 ],
 "metadata": {
  "kernelspec": {
   "display_name": "R",
   "language": "R",
   "name": "ir"
  },
  "language_info": {
   "codemirror_mode": "r",
   "file_extension": ".r",
   "mimetype": "text/x-r-source",
   "name": "R",
   "pygments_lexer": "r",
   "version": "4.3.1"
  }
 },
 "nbformat": 4,
 "nbformat_minor": 5
}
