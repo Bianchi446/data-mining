{
 "cells": [
  {
   "cell_type": "markdown",
   "id": "19024ba2-61f6-4abc-90c8-d80a1a898dfb",
   "metadata": {},
   "source": [
    "### Defining the documents "
   ]
  },
  {
   "cell_type": "code",
   "execution_count": 34,
   "id": "04b41eca-51cc-44c4-ace5-3a24d7d74485",
   "metadata": {},
   "outputs": [
    {
     "name": "stderr",
     "output_type": "stream",
     "text": [
      "Updating HTML index of packages in '.Library'\n",
      "\n",
      "Making 'packages.html' ...\n",
      " done\n",
      "\n"
     ]
    }
   ],
   "source": [
    "install.packages(\"rvest\")"
   ]
  },
  {
   "cell_type": "code",
   "execution_count": 35,
   "id": "9885e64f-80d5-464d-b1c1-c8a868ddb8cc",
   "metadata": {},
   "outputs": [
    {
     "name": "stderr",
     "output_type": "stream",
     "text": [
      "Updating HTML index of packages in '.Library'\n",
      "\n",
      "Making 'packages.html' ...\n",
      " done\n",
      "\n"
     ]
    }
   ],
   "source": [
    "install.packages(\"tm\")"
   ]
  },
  {
   "cell_type": "code",
   "execution_count": 36,
   "id": "1c49d1e3-14d9-4b21-afa3-4535b2b58403",
   "metadata": {},
   "outputs": [
    {
     "name": "stderr",
     "output_type": "stream",
     "text": [
      "Updating HTML index of packages in '.Library'\n",
      "\n",
      "Making 'packages.html' ...\n",
      " done\n",
      "\n"
     ]
    }
   ],
   "source": [
    "install.packages(\"SnowballC\")"
   ]
  },
  {
   "cell_type": "code",
   "execution_count": 37,
   "id": "cc7fae76-7373-461e-824b-52db50d20cf0",
   "metadata": {},
   "outputs": [],
   "source": [
    "doc1 <- \"HS650: The Data Science and Predictive Analytics (DSPA) course (offered\n",
    "as a massive open online course, MOOC, as well as a traditional University of\n",
    "Michigan class) aims to build computational abilities, inferential thinking, and\n",
    "practical skills for tackling core data scientific challenges. It explores\n",
    "foundational concepts in data management, processing, statistical computing, and\n",
    "dynamic visualization using modern programming tools and agile web-services.\n",
    "Concepts, ideas, and protocols are illustrated through examples of real\n",
    "observational, simulated and research-derived datasets. Some prior quantitative\n",
    "experience in programming, calculus, statistics, mathematical models, or linear\n",
    "algebra will be necessary. This open graduate course will provide a general\n",
    "overview of the principles, concepts, techniques, tools and services for\n",
    "managing, harmonizing, aggregating, preprocessing, modeling, analyzing and\n",
    "interpreting large, multi-source, incomplete, incongruent, and heterogeneous data\n",
    "(big data). The focus will be to expose students to common challenges related to\n",
    "handling big data and present the enormous opportunities and power associated\n",
    "with our ability to interrogate such complex datasets, extract useful\n",
    "information, derive knowledge, and provide actionable forecasting. Biomedical,\n",
    "healthcare, and social datasets will provide context for addressing specific\n",
    "driving challenges. Students will learn about modern data analytic techniques and\n",
    "develop skills for importing and exporting, cleaning and fusing, modeling and\n",
    "visualizing, analyzing and synthesizing complex datasets. The collaborative\n",
    "design, implementation, sharing and community validation of high-throughput\n",
    "analytic workflows will be emphasized thorought the course.\"\n",
    "\n",
    "doc2 <- \" Bioinformatics 501: The Mathematical Foundations for Bioinformatics\n",
    "course covers some of the fundamental mathematical techniques commonly used in\n",
    "bioinformatics and biomedical research. These include: 1) principles of multi-\n",
    "variable calculus, and complex numbers/functions, 2) foundations of linear\n",
    "algebra, such as linear spaces, eigen-values and vectors, singular value\n",
    "decomposition, spectral graph theory and Markov chains, 3) differential equations\n",
    "and their usage in biomedical system, which includes topic such as existence and\n",
    "uniqueness of solutions, two dimensional linear systems, bifurcations in one and\n",
    "two dimensional systems and cellular dynamics, and 4) optimization methods, such\n",
    "as free and constrained optimization, Lagrange multipliers, data denoising using\n",
    "optimization and heuristic methods. Demonstrations using MATLAB, R, and Python\n",
    "are included throughout the course.\"\n",
    "\n",
    "doc3 <- \"HS 853: This course covers a number of modern analytical methods for\n",
    "advanced healthcare research. Specific focus will be on reviewing and using\n",
    "innovative modeling, computational, analytic and visualization techniques to\n",
    "address concrete driving biomedical and healthcare applications. The course will\n",
    "cover the 5 dimensions of big data (volume, complexity, multiple scales, multiple\n",
    "sources, and incompleteness). HS853 is a 4 credit hour course (3 lectures + 1\n",
    "lab/discussion). Students will learn how to conduct research, employ and report\n",
    "on recent advanced health sciences analytical methods; read, comprehend and\n",
    "present recent reports of innovative scientific methods; apply a broad range of\n",
    "health problems; and experiment with real big data. Topics Covered include:\n",
    "Foundations of R, Scientific Visualization, Review of Multivariate and Mixed\n",
    "Linear Models, Causality/Causal Inference and Structural Equation Models,\n",
    "Generalized Estimating Equations, PCOR/CER methods Heterogeneity of Treatment\n",
    "Effects, big data, Big-Science, Internal statistical cross-validation, Missing\n",
    "data, Genotype-Environment-Phenotype, associations, Variable selection\n",
    "(regularized regression and controlled/knockoff filtering), medical imaging,\n",
    "Databases/registries, Meta-analyses, classification methods, Longitudinal data\n",
    "and time-series analysis, Geographic Information Systems (GIS), Psychometrics and\n",
    "Rasch measurement model analysis, MCMC sampling for Bayesian inference, and\n",
    "Network Analysis\"\n",
    "\n",
    "doc4 <- \"HS 851: This course introduces students to applied inference methods in\n",
    "studies involving multiple variables. Specific methods that will be discussed\n",
    "include linear regression, analysis of variance, and different regression models.\n",
    "This course will emphasize the scientific formulation, analytical modeling,\n",
    "computational tools and applied statistical inference in diverse health-sciences\n",
    "problems. Data interrogation, modeling approaches, rigorous interpretation and\n",
    "inference will be emphasized throughout. HS851 is a 4 credit hour course (3\n",
    "lectures + 1 lab/discussion). Students will learn how to: Understand the\n",
    "commonly used statistical methods of published scientific papers , Conduct\n",
    "statistical calculations/analyses on available data , Use software tools to\n",
    "analyze specific case-studies data , Communicate advanced statistical\n",
    "concepts/techniques , Determine, explain and interpret assumptions and\n",
    "limitations. Topics Covered include Epidemiology , Correlation/SLR , and slope\n",
    "inference, 1-2 samples , ROC Curve , ANOVA , Non-parametric inference ,\n",
    "Cronbach's $\\alpha$, Measurement Reliability/Validity , Survival Analysis ,\n",
    "Decision theory , CLT/LLNs - limiting results and misconceptions , Association\n",
    "Tests , Bayesian Inference , PCA/ICA/Factor Analysis , Point/Interval Estimation\n",
    "(CI) - MoM, MLE , Instrument performance Evaluation , Study/Research Critiques ,\n",
    "Common mistakes and misconceptions in using probability and statistics,\n",
    "identifying potential assumption violations, and avoiding them.\"\n",
    "\n",
    "doc5 <- \"HS550: This course provides students with an introduction to probability\n",
    "reasoning and statistical inference. Students will learn theoretical concepts and\n",
    "apply analytic skills for collecting, managing, modeling, processing,\n",
    "interpreting and visualizing (mostly univariate) data. Students will learn the\n",
    "basic probability modeling and statistical analysis methods and acquire knowledge\n",
    "to read recently published health research publications. HS550 is a 4 credit hour\n",
    "course (3 lectures + 1 lab/discussion). Students will learn how to: Apply data\n",
    "management strategies to sample data files , Carry out statistical tests to answer common healthcare research questions using appropriate methods and\n",
    "software tools , Understand the core analytical data modeling techniques and\n",
    "their appropriate use Examples of Topics Covered , EDA/Charts , Ubiquitous\n",
    "variation , Parametric inference , Probability Theory , Odds Ratio/Relative Risk\n",
    ", Distributions , Exploratory data analysis , Resampling/Simulation , Design of\n",
    "Experiments , Intro to Epidemiology , Estimation , Hypothesis testing ,\n",
    "Experiments vs. Observational studies , Data management (tables, streams, cloud,\n",
    "warehouses, DBs, arrays, binary, ASCII, handling, mechanics) , Power, sample-\n",
    "size, effect-size, sensitivity, specificity , Bias/Precision , Association vs.\n",
    "Causality , Rate-of-change , Clinical vs. Stat significance , Statistical\n",
    "Independence Bayesian Rule.\""
   ]
  },
  {
   "cell_type": "markdown",
   "id": "08685d68-1fb3-4938-832b-77205b0347f5",
   "metadata": {},
   "source": [
    "### Creating a new Vcorpus Object "
   ]
  },
  {
   "cell_type": "code",
   "execution_count": 38,
   "id": "2f9ee1f0-72ec-46ea-bcc7-89e6241576f7",
   "metadata": {},
   "outputs": [
    {
     "data": {
      "text/html": [
       "'character'"
      ],
      "text/latex": [
       "'character'"
      ],
      "text/markdown": [
       "'character'"
      ],
      "text/plain": [
       "[1] \"character\""
      ]
     },
     "metadata": {},
     "output_type": "display_data"
    }
   ],
   "source": [
    "docs <- c(doc1, doc2, doc3, doc4, doc5)\n",
    "class(docs) ## [1] \"character\""
   ]
  },
  {
   "cell_type": "code",
   "execution_count": 39,
   "id": "874c5cd6-c717-4260-be17-97f7b37fad16",
   "metadata": {},
   "outputs": [
    {
     "data": {
      "text/plain": [
       "<<VCorpus>>\n",
       "Metadata:  corpus specific: 0, document level (indexed): 0\n",
       "Content:  documents: 5"
      ]
     },
     "metadata": {},
     "output_type": "display_data"
    },
    {
     "data": {
      "text/html": [
       "'HS650: The Data Science and Predictive Analytics (DSPA) course (offered\\nas a massive open online course, MOOC, as well as a traditional University of\\nMichigan class) aims to build computational abilities, inferential thinking, and\\npractical skills for tackling core data scientific challenges. It explores\\nfoundational concepts in data management, processing, statistical computing, and\\ndynamic visualization using modern programming tools and agile web-services.\\nConcepts, ideas, and protocols are illustrated through examples of real\\nobservational, simulated and research-derived datasets. Some prior quantitative\\nexperience in programming, calculus, statistics, mathematical models, or linear\\nalgebra will be necessary. This open graduate course will provide a general\\noverview of the principles, concepts, techniques, tools and services for\\nmanaging, harmonizing, aggregating, preprocessing, modeling, analyzing and\\ninterpreting large, multi-source, incomplete, incongruent, and heterogeneous data\\n(big data). The focus will be to expose students to common challenges related to\\nhandling big data and present the enormous opportunities and power associated\\nwith our ability to interrogate such complex datasets, extract useful\\ninformation, derive knowledge, and provide actionable forecasting. Biomedical,\\nhealthcare, and social datasets will provide context for addressing specific\\ndriving challenges. Students will learn about modern data analytic techniques and\\ndevelop skills for importing and exporting, cleaning and fusing, modeling and\\nvisualizing, analyzing and synthesizing complex datasets. The collaborative\\ndesign, implementation, sharing and community validation of high-throughput\\nanalytic workflows will be emphasized thorought the course.'"
      ],
      "text/latex": [
       "'HS650: The Data Science and Predictive Analytics (DSPA) course (offered\\textbackslash{}nas a massive open online course, MOOC, as well as a traditional University of\\textbackslash{}nMichigan class) aims to build computational abilities, inferential thinking, and\\textbackslash{}npractical skills for tackling core data scientific challenges. It explores\\textbackslash{}nfoundational concepts in data management, processing, statistical computing, and\\textbackslash{}ndynamic visualization using modern programming tools and agile web-services.\\textbackslash{}nConcepts, ideas, and protocols are illustrated through examples of real\\textbackslash{}nobservational, simulated and research-derived datasets. Some prior quantitative\\textbackslash{}nexperience in programming, calculus, statistics, mathematical models, or linear\\textbackslash{}nalgebra will be necessary. This open graduate course will provide a general\\textbackslash{}noverview of the principles, concepts, techniques, tools and services for\\textbackslash{}nmanaging, harmonizing, aggregating, preprocessing, modeling, analyzing and\\textbackslash{}ninterpreting large, multi-source, incomplete, incongruent, and heterogeneous data\\textbackslash{}n(big data). The focus will be to expose students to common challenges related to\\textbackslash{}nhandling big data and present the enormous opportunities and power associated\\textbackslash{}nwith our ability to interrogate such complex datasets, extract useful\\textbackslash{}ninformation, derive knowledge, and provide actionable forecasting. Biomedical,\\textbackslash{}nhealthcare, and social datasets will provide context for addressing specific\\textbackslash{}ndriving challenges. Students will learn about modern data analytic techniques and\\textbackslash{}ndevelop skills for importing and exporting, cleaning and fusing, modeling and\\textbackslash{}nvisualizing, analyzing and synthesizing complex datasets. The collaborative\\textbackslash{}ndesign, implementation, sharing and community validation of high-throughput\\textbackslash{}nanalytic workflows will be emphasized thorought the course.'"
      ],
      "text/markdown": [
       "'HS650: The Data Science and Predictive Analytics (DSPA) course (offered\\nas a massive open online course, MOOC, as well as a traditional University of\\nMichigan class) aims to build computational abilities, inferential thinking, and\\npractical skills for tackling core data scientific challenges. It explores\\nfoundational concepts in data management, processing, statistical computing, and\\ndynamic visualization using modern programming tools and agile web-services.\\nConcepts, ideas, and protocols are illustrated through examples of real\\nobservational, simulated and research-derived datasets. Some prior quantitative\\nexperience in programming, calculus, statistics, mathematical models, or linear\\nalgebra will be necessary. This open graduate course will provide a general\\noverview of the principles, concepts, techniques, tools and services for\\nmanaging, harmonizing, aggregating, preprocessing, modeling, analyzing and\\ninterpreting large, multi-source, incomplete, incongruent, and heterogeneous data\\n(big data). The focus will be to expose students to common challenges related to\\nhandling big data and present the enormous opportunities and power associated\\nwith our ability to interrogate such complex datasets, extract useful\\ninformation, derive knowledge, and provide actionable forecasting. Biomedical,\\nhealthcare, and social datasets will provide context for addressing specific\\ndriving challenges. Students will learn about modern data analytic techniques and\\ndevelop skills for importing and exporting, cleaning and fusing, modeling and\\nvisualizing, analyzing and synthesizing complex datasets. The collaborative\\ndesign, implementation, sharing and community validation of high-throughput\\nanalytic workflows will be emphasized thorought the course.'"
      ],
      "text/plain": [
       "[1] \"HS650: The Data Science and Predictive Analytics (DSPA) course (offered\\nas a massive open online course, MOOC, as well as a traditional University of\\nMichigan class) aims to build computational abilities, inferential thinking, and\\npractical skills for tackling core data scientific challenges. It explores\\nfoundational concepts in data management, processing, statistical computing, and\\ndynamic visualization using modern programming tools and agile web-services.\\nConcepts, ideas, and protocols are illustrated through examples of real\\nobservational, simulated and research-derived datasets. Some prior quantitative\\nexperience in programming, calculus, statistics, mathematical models, or linear\\nalgebra will be necessary. This open graduate course will provide a general\\noverview of the principles, concepts, techniques, tools and services for\\nmanaging, harmonizing, aggregating, preprocessing, modeling, analyzing and\\ninterpreting large, multi-source, incomplete, incongruent, and heterogeneous data\\n(big data). The focus will be to expose students to common challenges related to\\nhandling big data and present the enormous opportunities and power associated\\nwith our ability to interrogate such complex datasets, extract useful\\ninformation, derive knowledge, and provide actionable forecasting. Biomedical,\\nhealthcare, and social datasets will provide context for addressing specific\\ndriving challenges. Students will learn about modern data analytic techniques and\\ndevelop skills for importing and exporting, cleaning and fusing, modeling and\\nvisualizing, analyzing and synthesizing complex datasets. The collaborative\\ndesign, implementation, sharing and community validation of high-throughput\\nanalytic workflows will be emphasized thorought the course.\""
      ]
     },
     "metadata": {},
     "output_type": "display_data"
    }
   ],
   "source": [
    "library(tm) \n",
    "doc_corpus <- VCorpus(VectorSource(docs))\n",
    "doc_corpus ## Content : documents : 5\n",
    "doc_corpus[[1]]$content "
   ]
  },
  {
   "cell_type": "markdown",
   "id": "44b0a1c4-e34b-4198-9335-b64be1e83266",
   "metadata": {},
   "source": [
    "### Transform Text to LowerCase"
   ]
  },
  {
   "cell_type": "code",
   "execution_count": 40,
   "id": "9f6ff1f3-21f6-43ae-af22-cf72fbc2bb35",
   "metadata": {},
   "outputs": [
    {
     "data": {
      "text/html": [
       "'hs650: the data science and predictive analytics (dspa) course (offered\\nas a massive open online course, mooc, as well as a traditional university of\\nmichigan class) aims to build computational abilities, inferential thinking, and\\npractical skills for tackling core data scientific challenges. it explores\\nfoundational concepts in data management, processing, statistical computing, and\\ndynamic visualization using modern programming tools and agile web-services.\\nconcepts, ideas, and protocols are illustrated through examples of real\\nobservational, simulated and research-derived datasets. some prior quantitative\\nexperience in programming, calculus, statistics, mathematical models, or linear\\nalgebra will be necessary. this open graduate course will provide a general\\noverview of the principles, concepts, techniques, tools and services for\\nmanaging, harmonizing, aggregating, preprocessing, modeling, analyzing and\\ninterpreting large, multi-source, incomplete, incongruent, and heterogeneous data\\n(big data). the focus will be to expose students to common challenges related to\\nhandling big data and present the enormous opportunities and power associated\\nwith our ability to interrogate such complex datasets, extract useful\\ninformation, derive knowledge, and provide actionable forecasting. biomedical,\\nhealthcare, and social datasets will provide context for addressing specific\\ndriving challenges. students will learn about modern data analytic techniques and\\ndevelop skills for importing and exporting, cleaning and fusing, modeling and\\nvisualizing, analyzing and synthesizing complex datasets. the collaborative\\ndesign, implementation, sharing and community validation of high-throughput\\nanalytic workflows will be emphasized thorought the course.'"
      ],
      "text/latex": [
       "'hs650: the data science and predictive analytics (dspa) course (offered\\textbackslash{}nas a massive open online course, mooc, as well as a traditional university of\\textbackslash{}nmichigan class) aims to build computational abilities, inferential thinking, and\\textbackslash{}npractical skills for tackling core data scientific challenges. it explores\\textbackslash{}nfoundational concepts in data management, processing, statistical computing, and\\textbackslash{}ndynamic visualization using modern programming tools and agile web-services.\\textbackslash{}nconcepts, ideas, and protocols are illustrated through examples of real\\textbackslash{}nobservational, simulated and research-derived datasets. some prior quantitative\\textbackslash{}nexperience in programming, calculus, statistics, mathematical models, or linear\\textbackslash{}nalgebra will be necessary. this open graduate course will provide a general\\textbackslash{}noverview of the principles, concepts, techniques, tools and services for\\textbackslash{}nmanaging, harmonizing, aggregating, preprocessing, modeling, analyzing and\\textbackslash{}ninterpreting large, multi-source, incomplete, incongruent, and heterogeneous data\\textbackslash{}n(big data). the focus will be to expose students to common challenges related to\\textbackslash{}nhandling big data and present the enormous opportunities and power associated\\textbackslash{}nwith our ability to interrogate such complex datasets, extract useful\\textbackslash{}ninformation, derive knowledge, and provide actionable forecasting. biomedical,\\textbackslash{}nhealthcare, and social datasets will provide context for addressing specific\\textbackslash{}ndriving challenges. students will learn about modern data analytic techniques and\\textbackslash{}ndevelop skills for importing and exporting, cleaning and fusing, modeling and\\textbackslash{}nvisualizing, analyzing and synthesizing complex datasets. the collaborative\\textbackslash{}ndesign, implementation, sharing and community validation of high-throughput\\textbackslash{}nanalytic workflows will be emphasized thorought the course.'"
      ],
      "text/markdown": [
       "'hs650: the data science and predictive analytics (dspa) course (offered\\nas a massive open online course, mooc, as well as a traditional university of\\nmichigan class) aims to build computational abilities, inferential thinking, and\\npractical skills for tackling core data scientific challenges. it explores\\nfoundational concepts in data management, processing, statistical computing, and\\ndynamic visualization using modern programming tools and agile web-services.\\nconcepts, ideas, and protocols are illustrated through examples of real\\nobservational, simulated and research-derived datasets. some prior quantitative\\nexperience in programming, calculus, statistics, mathematical models, or linear\\nalgebra will be necessary. this open graduate course will provide a general\\noverview of the principles, concepts, techniques, tools and services for\\nmanaging, harmonizing, aggregating, preprocessing, modeling, analyzing and\\ninterpreting large, multi-source, incomplete, incongruent, and heterogeneous data\\n(big data). the focus will be to expose students to common challenges related to\\nhandling big data and present the enormous opportunities and power associated\\nwith our ability to interrogate such complex datasets, extract useful\\ninformation, derive knowledge, and provide actionable forecasting. biomedical,\\nhealthcare, and social datasets will provide context for addressing specific\\ndriving challenges. students will learn about modern data analytic techniques and\\ndevelop skills for importing and exporting, cleaning and fusing, modeling and\\nvisualizing, analyzing and synthesizing complex datasets. the collaborative\\ndesign, implementation, sharing and community validation of high-throughput\\nanalytic workflows will be emphasized thorought the course.'"
      ],
      "text/plain": [
       "[1] \"hs650: the data science and predictive analytics (dspa) course (offered\\nas a massive open online course, mooc, as well as a traditional university of\\nmichigan class) aims to build computational abilities, inferential thinking, and\\npractical skills for tackling core data scientific challenges. it explores\\nfoundational concepts in data management, processing, statistical computing, and\\ndynamic visualization using modern programming tools and agile web-services.\\nconcepts, ideas, and protocols are illustrated through examples of real\\nobservational, simulated and research-derived datasets. some prior quantitative\\nexperience in programming, calculus, statistics, mathematical models, or linear\\nalgebra will be necessary. this open graduate course will provide a general\\noverview of the principles, concepts, techniques, tools and services for\\nmanaging, harmonizing, aggregating, preprocessing, modeling, analyzing and\\ninterpreting large, multi-source, incomplete, incongruent, and heterogeneous data\\n(big data). the focus will be to expose students to common challenges related to\\nhandling big data and present the enormous opportunities and power associated\\nwith our ability to interrogate such complex datasets, extract useful\\ninformation, derive knowledge, and provide actionable forecasting. biomedical,\\nhealthcare, and social datasets will provide context for addressing specific\\ndriving challenges. students will learn about modern data analytic techniques and\\ndevelop skills for importing and exporting, cleaning and fusing, modeling and\\nvisualizing, analyzing and synthesizing complex datasets. the collaborative\\ndesign, implementation, sharing and community validation of high-throughput\\nanalytic workflows will be emphasized thorought the course.\""
      ]
     },
     "metadata": {},
     "output_type": "display_data"
    }
   ],
   "source": [
    "doc_corpus <- tm_map(doc_corpus, tolower)\n",
    "doc_corpus[[1]]"
   ]
  },
  {
   "cell_type": "markdown",
   "id": "9eee9078-4bd7-4c86-a2e0-a388bb09409a",
   "metadata": {},
   "source": [
    "### Text preprocessing "
   ]
  },
  {
   "cell_type": "code",
   "execution_count": 41,
   "id": "dbe6af68-4e7d-4ac1-86bb-dda493f15001",
   "metadata": {},
   "outputs": [
    {
     "data": {
      "text/html": [
       "<style>\n",
       ".list-inline {list-style: none; margin:0; padding: 0}\n",
       ".list-inline>li {display: inline-block}\n",
       ".list-inline>li:not(:last-child)::after {content: \"\\00b7\"; padding: 0 .5ex}\n",
       "</style>\n",
       "<ol class=list-inline><li>'i'</li><li>'me'</li><li>'my'</li><li>'myself'</li><li>'we'</li><li>'our'</li><li>'ours'</li><li>'ourselves'</li><li>'you'</li><li>'your'</li><li>'yours'</li><li>'yourself'</li><li>'yourselves'</li><li>'he'</li><li>'him'</li><li>'his'</li><li>'himself'</li><li>'she'</li><li>'her'</li><li>'hers'</li><li>'herself'</li><li>'it'</li><li>'its'</li><li>'itself'</li><li>'they'</li><li>'them'</li><li>'their'</li><li>'theirs'</li><li>'themselves'</li><li>'what'</li><li>'which'</li><li>'who'</li><li>'whom'</li><li>'this'</li><li>'that'</li><li>'these'</li><li>'those'</li><li>'am'</li><li>'is'</li><li>'are'</li><li>'was'</li><li>'were'</li><li>'be'</li><li>'been'</li><li>'being'</li><li>'have'</li><li>'has'</li><li>'had'</li><li>'having'</li><li>'do'</li><li>'does'</li><li>'did'</li><li>'doing'</li><li>'would'</li><li>'should'</li><li>'could'</li><li>'ought'</li><li>'i\\'m'</li><li>'you\\'re'</li><li>'he\\'s'</li><li>'she\\'s'</li><li>'it\\'s'</li><li>'we\\'re'</li><li>'they\\'re'</li><li>'i\\'ve'</li><li>'you\\'ve'</li><li>'we\\'ve'</li><li>'they\\'ve'</li><li>'i\\'d'</li><li>'you\\'d'</li><li>'he\\'d'</li><li>'she\\'d'</li><li>'we\\'d'</li><li>'they\\'d'</li><li>'i\\'ll'</li><li>'you\\'ll'</li><li>'he\\'ll'</li><li>'she\\'ll'</li><li>'we\\'ll'</li><li>'they\\'ll'</li><li>'isn\\'t'</li><li>'aren\\'t'</li><li>'wasn\\'t'</li><li>'weren\\'t'</li><li>'hasn\\'t'</li><li>'haven\\'t'</li><li>'hadn\\'t'</li><li>'doesn\\'t'</li><li>'don\\'t'</li><li>'didn\\'t'</li><li>'won\\'t'</li><li>'wouldn\\'t'</li><li>'shan\\'t'</li><li>'shouldn\\'t'</li><li>'can\\'t'</li><li>'cannot'</li><li>'couldn\\'t'</li><li>'mustn\\'t'</li><li>'let\\'s'</li><li>'that\\'s'</li><li>'who\\'s'</li><li>'what\\'s'</li><li>'here\\'s'</li><li>'there\\'s'</li><li>'when\\'s'</li><li>'where\\'s'</li><li>'why\\'s'</li><li>'how\\'s'</li><li>'a'</li><li>'an'</li><li>'the'</li><li>'and'</li><li>'but'</li><li>'if'</li><li>'or'</li><li>'because'</li><li>'as'</li><li>'until'</li><li>'while'</li><li>'of'</li><li>'at'</li><li>'by'</li><li>'for'</li><li>'with'</li><li>'about'</li><li>'against'</li><li>'between'</li><li>'into'</li><li>'through'</li><li>'during'</li><li>'before'</li><li>'after'</li><li>'above'</li><li>'below'</li><li>'to'</li><li>'from'</li><li>'up'</li><li>'down'</li><li>'in'</li><li>'out'</li><li>'on'</li><li>'off'</li><li>'over'</li><li>'under'</li><li>'again'</li><li>'further'</li><li>'then'</li><li>'once'</li><li>'here'</li><li>'there'</li><li>'when'</li><li>'where'</li><li>'why'</li><li>'how'</li><li>'all'</li><li>'any'</li><li>'both'</li><li>'each'</li><li>'few'</li><li>'more'</li><li>'most'</li><li>'other'</li><li>'some'</li><li>'such'</li><li>'no'</li><li>'nor'</li><li>'not'</li><li>'only'</li><li>'own'</li><li>'same'</li><li>'so'</li><li>'than'</li><li>'too'</li><li>'very'</li></ol>\n"
      ],
      "text/latex": [
       "\\begin{enumerate*}\n",
       "\\item 'i'\n",
       "\\item 'me'\n",
       "\\item 'my'\n",
       "\\item 'myself'\n",
       "\\item 'we'\n",
       "\\item 'our'\n",
       "\\item 'ours'\n",
       "\\item 'ourselves'\n",
       "\\item 'you'\n",
       "\\item 'your'\n",
       "\\item 'yours'\n",
       "\\item 'yourself'\n",
       "\\item 'yourselves'\n",
       "\\item 'he'\n",
       "\\item 'him'\n",
       "\\item 'his'\n",
       "\\item 'himself'\n",
       "\\item 'she'\n",
       "\\item 'her'\n",
       "\\item 'hers'\n",
       "\\item 'herself'\n",
       "\\item 'it'\n",
       "\\item 'its'\n",
       "\\item 'itself'\n",
       "\\item 'they'\n",
       "\\item 'them'\n",
       "\\item 'their'\n",
       "\\item 'theirs'\n",
       "\\item 'themselves'\n",
       "\\item 'what'\n",
       "\\item 'which'\n",
       "\\item 'who'\n",
       "\\item 'whom'\n",
       "\\item 'this'\n",
       "\\item 'that'\n",
       "\\item 'these'\n",
       "\\item 'those'\n",
       "\\item 'am'\n",
       "\\item 'is'\n",
       "\\item 'are'\n",
       "\\item 'was'\n",
       "\\item 'were'\n",
       "\\item 'be'\n",
       "\\item 'been'\n",
       "\\item 'being'\n",
       "\\item 'have'\n",
       "\\item 'has'\n",
       "\\item 'had'\n",
       "\\item 'having'\n",
       "\\item 'do'\n",
       "\\item 'does'\n",
       "\\item 'did'\n",
       "\\item 'doing'\n",
       "\\item 'would'\n",
       "\\item 'should'\n",
       "\\item 'could'\n",
       "\\item 'ought'\n",
       "\\item 'i\\textbackslash{}'m'\n",
       "\\item 'you\\textbackslash{}'re'\n",
       "\\item 'he\\textbackslash{}'s'\n",
       "\\item 'she\\textbackslash{}'s'\n",
       "\\item 'it\\textbackslash{}'s'\n",
       "\\item 'we\\textbackslash{}'re'\n",
       "\\item 'they\\textbackslash{}'re'\n",
       "\\item 'i\\textbackslash{}'ve'\n",
       "\\item 'you\\textbackslash{}'ve'\n",
       "\\item 'we\\textbackslash{}'ve'\n",
       "\\item 'they\\textbackslash{}'ve'\n",
       "\\item 'i\\textbackslash{}'d'\n",
       "\\item 'you\\textbackslash{}'d'\n",
       "\\item 'he\\textbackslash{}'d'\n",
       "\\item 'she\\textbackslash{}'d'\n",
       "\\item 'we\\textbackslash{}'d'\n",
       "\\item 'they\\textbackslash{}'d'\n",
       "\\item 'i\\textbackslash{}'ll'\n",
       "\\item 'you\\textbackslash{}'ll'\n",
       "\\item 'he\\textbackslash{}'ll'\n",
       "\\item 'she\\textbackslash{}'ll'\n",
       "\\item 'we\\textbackslash{}'ll'\n",
       "\\item 'they\\textbackslash{}'ll'\n",
       "\\item 'isn\\textbackslash{}'t'\n",
       "\\item 'aren\\textbackslash{}'t'\n",
       "\\item 'wasn\\textbackslash{}'t'\n",
       "\\item 'weren\\textbackslash{}'t'\n",
       "\\item 'hasn\\textbackslash{}'t'\n",
       "\\item 'haven\\textbackslash{}'t'\n",
       "\\item 'hadn\\textbackslash{}'t'\n",
       "\\item 'doesn\\textbackslash{}'t'\n",
       "\\item 'don\\textbackslash{}'t'\n",
       "\\item 'didn\\textbackslash{}'t'\n",
       "\\item 'won\\textbackslash{}'t'\n",
       "\\item 'wouldn\\textbackslash{}'t'\n",
       "\\item 'shan\\textbackslash{}'t'\n",
       "\\item 'shouldn\\textbackslash{}'t'\n",
       "\\item 'can\\textbackslash{}'t'\n",
       "\\item 'cannot'\n",
       "\\item 'couldn\\textbackslash{}'t'\n",
       "\\item 'mustn\\textbackslash{}'t'\n",
       "\\item 'let\\textbackslash{}'s'\n",
       "\\item 'that\\textbackslash{}'s'\n",
       "\\item 'who\\textbackslash{}'s'\n",
       "\\item 'what\\textbackslash{}'s'\n",
       "\\item 'here\\textbackslash{}'s'\n",
       "\\item 'there\\textbackslash{}'s'\n",
       "\\item 'when\\textbackslash{}'s'\n",
       "\\item 'where\\textbackslash{}'s'\n",
       "\\item 'why\\textbackslash{}'s'\n",
       "\\item 'how\\textbackslash{}'s'\n",
       "\\item 'a'\n",
       "\\item 'an'\n",
       "\\item 'the'\n",
       "\\item 'and'\n",
       "\\item 'but'\n",
       "\\item 'if'\n",
       "\\item 'or'\n",
       "\\item 'because'\n",
       "\\item 'as'\n",
       "\\item 'until'\n",
       "\\item 'while'\n",
       "\\item 'of'\n",
       "\\item 'at'\n",
       "\\item 'by'\n",
       "\\item 'for'\n",
       "\\item 'with'\n",
       "\\item 'about'\n",
       "\\item 'against'\n",
       "\\item 'between'\n",
       "\\item 'into'\n",
       "\\item 'through'\n",
       "\\item 'during'\n",
       "\\item 'before'\n",
       "\\item 'after'\n",
       "\\item 'above'\n",
       "\\item 'below'\n",
       "\\item 'to'\n",
       "\\item 'from'\n",
       "\\item 'up'\n",
       "\\item 'down'\n",
       "\\item 'in'\n",
       "\\item 'out'\n",
       "\\item 'on'\n",
       "\\item 'off'\n",
       "\\item 'over'\n",
       "\\item 'under'\n",
       "\\item 'again'\n",
       "\\item 'further'\n",
       "\\item 'then'\n",
       "\\item 'once'\n",
       "\\item 'here'\n",
       "\\item 'there'\n",
       "\\item 'when'\n",
       "\\item 'where'\n",
       "\\item 'why'\n",
       "\\item 'how'\n",
       "\\item 'all'\n",
       "\\item 'any'\n",
       "\\item 'both'\n",
       "\\item 'each'\n",
       "\\item 'few'\n",
       "\\item 'more'\n",
       "\\item 'most'\n",
       "\\item 'other'\n",
       "\\item 'some'\n",
       "\\item 'such'\n",
       "\\item 'no'\n",
       "\\item 'nor'\n",
       "\\item 'not'\n",
       "\\item 'only'\n",
       "\\item 'own'\n",
       "\\item 'same'\n",
       "\\item 'so'\n",
       "\\item 'than'\n",
       "\\item 'too'\n",
       "\\item 'very'\n",
       "\\end{enumerate*}\n"
      ],
      "text/markdown": [
       "1. 'i'\n",
       "2. 'me'\n",
       "3. 'my'\n",
       "4. 'myself'\n",
       "5. 'we'\n",
       "6. 'our'\n",
       "7. 'ours'\n",
       "8. 'ourselves'\n",
       "9. 'you'\n",
       "10. 'your'\n",
       "11. 'yours'\n",
       "12. 'yourself'\n",
       "13. 'yourselves'\n",
       "14. 'he'\n",
       "15. 'him'\n",
       "16. 'his'\n",
       "17. 'himself'\n",
       "18. 'she'\n",
       "19. 'her'\n",
       "20. 'hers'\n",
       "21. 'herself'\n",
       "22. 'it'\n",
       "23. 'its'\n",
       "24. 'itself'\n",
       "25. 'they'\n",
       "26. 'them'\n",
       "27. 'their'\n",
       "28. 'theirs'\n",
       "29. 'themselves'\n",
       "30. 'what'\n",
       "31. 'which'\n",
       "32. 'who'\n",
       "33. 'whom'\n",
       "34. 'this'\n",
       "35. 'that'\n",
       "36. 'these'\n",
       "37. 'those'\n",
       "38. 'am'\n",
       "39. 'is'\n",
       "40. 'are'\n",
       "41. 'was'\n",
       "42. 'were'\n",
       "43. 'be'\n",
       "44. 'been'\n",
       "45. 'being'\n",
       "46. 'have'\n",
       "47. 'has'\n",
       "48. 'had'\n",
       "49. 'having'\n",
       "50. 'do'\n",
       "51. 'does'\n",
       "52. 'did'\n",
       "53. 'doing'\n",
       "54. 'would'\n",
       "55. 'should'\n",
       "56. 'could'\n",
       "57. 'ought'\n",
       "58. 'i\\'m'\n",
       "59. 'you\\'re'\n",
       "60. 'he\\'s'\n",
       "61. 'she\\'s'\n",
       "62. 'it\\'s'\n",
       "63. 'we\\'re'\n",
       "64. 'they\\'re'\n",
       "65. 'i\\'ve'\n",
       "66. 'you\\'ve'\n",
       "67. 'we\\'ve'\n",
       "68. 'they\\'ve'\n",
       "69. 'i\\'d'\n",
       "70. 'you\\'d'\n",
       "71. 'he\\'d'\n",
       "72. 'she\\'d'\n",
       "73. 'we\\'d'\n",
       "74. 'they\\'d'\n",
       "75. 'i\\'ll'\n",
       "76. 'you\\'ll'\n",
       "77. 'he\\'ll'\n",
       "78. 'she\\'ll'\n",
       "79. 'we\\'ll'\n",
       "80. 'they\\'ll'\n",
       "81. 'isn\\'t'\n",
       "82. 'aren\\'t'\n",
       "83. 'wasn\\'t'\n",
       "84. 'weren\\'t'\n",
       "85. 'hasn\\'t'\n",
       "86. 'haven\\'t'\n",
       "87. 'hadn\\'t'\n",
       "88. 'doesn\\'t'\n",
       "89. 'don\\'t'\n",
       "90. 'didn\\'t'\n",
       "91. 'won\\'t'\n",
       "92. 'wouldn\\'t'\n",
       "93. 'shan\\'t'\n",
       "94. 'shouldn\\'t'\n",
       "95. 'can\\'t'\n",
       "96. 'cannot'\n",
       "97. 'couldn\\'t'\n",
       "98. 'mustn\\'t'\n",
       "99. 'let\\'s'\n",
       "100. 'that\\'s'\n",
       "101. 'who\\'s'\n",
       "102. 'what\\'s'\n",
       "103. 'here\\'s'\n",
       "104. 'there\\'s'\n",
       "105. 'when\\'s'\n",
       "106. 'where\\'s'\n",
       "107. 'why\\'s'\n",
       "108. 'how\\'s'\n",
       "109. 'a'\n",
       "110. 'an'\n",
       "111. 'the'\n",
       "112. 'and'\n",
       "113. 'but'\n",
       "114. 'if'\n",
       "115. 'or'\n",
       "116. 'because'\n",
       "117. 'as'\n",
       "118. 'until'\n",
       "119. 'while'\n",
       "120. 'of'\n",
       "121. 'at'\n",
       "122. 'by'\n",
       "123. 'for'\n",
       "124. 'with'\n",
       "125. 'about'\n",
       "126. 'against'\n",
       "127. 'between'\n",
       "128. 'into'\n",
       "129. 'through'\n",
       "130. 'during'\n",
       "131. 'before'\n",
       "132. 'after'\n",
       "133. 'above'\n",
       "134. 'below'\n",
       "135. 'to'\n",
       "136. 'from'\n",
       "137. 'up'\n",
       "138. 'down'\n",
       "139. 'in'\n",
       "140. 'out'\n",
       "141. 'on'\n",
       "142. 'off'\n",
       "143. 'over'\n",
       "144. 'under'\n",
       "145. 'again'\n",
       "146. 'further'\n",
       "147. 'then'\n",
       "148. 'once'\n",
       "149. 'here'\n",
       "150. 'there'\n",
       "151. 'when'\n",
       "152. 'where'\n",
       "153. 'why'\n",
       "154. 'how'\n",
       "155. 'all'\n",
       "156. 'any'\n",
       "157. 'both'\n",
       "158. 'each'\n",
       "159. 'few'\n",
       "160. 'more'\n",
       "161. 'most'\n",
       "162. 'other'\n",
       "163. 'some'\n",
       "164. 'such'\n",
       "165. 'no'\n",
       "166. 'nor'\n",
       "167. 'not'\n",
       "168. 'only'\n",
       "169. 'own'\n",
       "170. 'same'\n",
       "171. 'so'\n",
       "172. 'than'\n",
       "173. 'too'\n",
       "174. 'very'\n",
       "\n",
       "\n"
      ],
      "text/plain": [
       "  [1] \"i\"          \"me\"         \"my\"         \"myself\"     \"we\"        \n",
       "  [6] \"our\"        \"ours\"       \"ourselves\"  \"you\"        \"your\"      \n",
       " [11] \"yours\"      \"yourself\"   \"yourselves\" \"he\"         \"him\"       \n",
       " [16] \"his\"        \"himself\"    \"she\"        \"her\"        \"hers\"      \n",
       " [21] \"herself\"    \"it\"         \"its\"        \"itself\"     \"they\"      \n",
       " [26] \"them\"       \"their\"      \"theirs\"     \"themselves\" \"what\"      \n",
       " [31] \"which\"      \"who\"        \"whom\"       \"this\"       \"that\"      \n",
       " [36] \"these\"      \"those\"      \"am\"         \"is\"         \"are\"       \n",
       " [41] \"was\"        \"were\"       \"be\"         \"been\"       \"being\"     \n",
       " [46] \"have\"       \"has\"        \"had\"        \"having\"     \"do\"        \n",
       " [51] \"does\"       \"did\"        \"doing\"      \"would\"      \"should\"    \n",
       " [56] \"could\"      \"ought\"      \"i'm\"        \"you're\"     \"he's\"      \n",
       " [61] \"she's\"      \"it's\"       \"we're\"      \"they're\"    \"i've\"      \n",
       " [66] \"you've\"     \"we've\"      \"they've\"    \"i'd\"        \"you'd\"     \n",
       " [71] \"he'd\"       \"she'd\"      \"we'd\"       \"they'd\"     \"i'll\"      \n",
       " [76] \"you'll\"     \"he'll\"      \"she'll\"     \"we'll\"      \"they'll\"   \n",
       " [81] \"isn't\"      \"aren't\"     \"wasn't\"     \"weren't\"    \"hasn't\"    \n",
       " [86] \"haven't\"    \"hadn't\"     \"doesn't\"    \"don't\"      \"didn't\"    \n",
       " [91] \"won't\"      \"wouldn't\"   \"shan't\"     \"shouldn't\"  \"can't\"     \n",
       " [96] \"cannot\"     \"couldn't\"   \"mustn't\"    \"let's\"      \"that's\"    \n",
       "[101] \"who's\"      \"what's\"     \"here's\"     \"there's\"    \"when's\"    \n",
       "[106] \"where's\"    \"why's\"      \"how's\"      \"a\"          \"an\"        \n",
       "[111] \"the\"        \"and\"        \"but\"        \"if\"         \"or\"        \n",
       "[116] \"because\"    \"as\"         \"until\"      \"while\"      \"of\"        \n",
       "[121] \"at\"         \"by\"         \"for\"        \"with\"       \"about\"     \n",
       "[126] \"against\"    \"between\"    \"into\"       \"through\"    \"during\"    \n",
       "[131] \"before\"     \"after\"      \"above\"      \"below\"      \"to\"        \n",
       "[136] \"from\"       \"up\"         \"down\"       \"in\"         \"out\"       \n",
       "[141] \"on\"         \"off\"        \"over\"       \"under\"      \"again\"     \n",
       "[146] \"further\"    \"then\"       \"once\"       \"here\"       \"there\"     \n",
       "[151] \"when\"       \"where\"      \"why\"        \"how\"        \"all\"       \n",
       "[156] \"any\"        \"both\"       \"each\"       \"few\"        \"more\"      \n",
       "[161] \"most\"       \"other\"      \"some\"       \"such\"       \"no\"        \n",
       "[166] \"nor\"        \"not\"        \"only\"       \"own\"        \"same\"      \n",
       "[171] \"so\"         \"than\"       \"too\"        \"very\"      "
      ]
     },
     "metadata": {},
     "output_type": "display_data"
    }
   ],
   "source": [
    "stopwords(\"english\")"
   ]
  },
  {
   "cell_type": "code",
   "execution_count": 42,
   "id": "c566b28c-9a26-43c4-b1ab-e4ed9fd676f9",
   "metadata": {},
   "outputs": [
    {
     "data": {
      "text/html": [
       "'hs650: the data science and predictive analytics (dspa) course (offered as a massive open online course, mooc, as well as a traditional university of michigan class) aims to build computational abilities, inferential thinking, and practical skills for tackling core data scientific challenges. it explores foundational concepts in data management, processing, statistical computing, and dynamic visualization using modern programming tools and agile web-services. concepts, ideas, and protocols are illustrated through examples of real observational, simulated and research-derived datasets. some prior quantitative experience in programming, calculus, statistics, mathematical models, or linear algebra will be necessary. this open graduate course will provide a general overview of the principles, concepts, techniques, tools and services for managing, harmonizing, aggregating, preprocessing, modeling, analyzing and interpreting large, multi-source, incomplete, incongruent, and heterogeneous data (big data). the focus will be to expose students to common challenges related to handling big data and present the enormous opportunities and power associated with our ability to interrogate such complex datasets, extract useful information, derive knowledge, and provide actionable forecasting. biomedical, healthcare, and social datasets will provide context for addressing specific driving challenges. students will learn about modern data analytic techniques and develop skills for importing and exporting, cleaning and fusing, modeling and visualizing, analyzing and synthesizing complex datasets. the collaborative design, implementation, sharing and community validation of high-throughput analytic workflows will be emphasized thorought the course.'"
      ],
      "text/latex": [
       "'hs650: the data science and predictive analytics (dspa) course (offered as a massive open online course, mooc, as well as a traditional university of michigan class) aims to build computational abilities, inferential thinking, and practical skills for tackling core data scientific challenges. it explores foundational concepts in data management, processing, statistical computing, and dynamic visualization using modern programming tools and agile web-services. concepts, ideas, and protocols are illustrated through examples of real observational, simulated and research-derived datasets. some prior quantitative experience in programming, calculus, statistics, mathematical models, or linear algebra will be necessary. this open graduate course will provide a general overview of the principles, concepts, techniques, tools and services for managing, harmonizing, aggregating, preprocessing, modeling, analyzing and interpreting large, multi-source, incomplete, incongruent, and heterogeneous data (big data). the focus will be to expose students to common challenges related to handling big data and present the enormous opportunities and power associated with our ability to interrogate such complex datasets, extract useful information, derive knowledge, and provide actionable forecasting. biomedical, healthcare, and social datasets will provide context for addressing specific driving challenges. students will learn about modern data analytic techniques and develop skills for importing and exporting, cleaning and fusing, modeling and visualizing, analyzing and synthesizing complex datasets. the collaborative design, implementation, sharing and community validation of high-throughput analytic workflows will be emphasized thorought the course.'"
      ],
      "text/markdown": [
       "'hs650: the data science and predictive analytics (dspa) course (offered as a massive open online course, mooc, as well as a traditional university of michigan class) aims to build computational abilities, inferential thinking, and practical skills for tackling core data scientific challenges. it explores foundational concepts in data management, processing, statistical computing, and dynamic visualization using modern programming tools and agile web-services. concepts, ideas, and protocols are illustrated through examples of real observational, simulated and research-derived datasets. some prior quantitative experience in programming, calculus, statistics, mathematical models, or linear algebra will be necessary. this open graduate course will provide a general overview of the principles, concepts, techniques, tools and services for managing, harmonizing, aggregating, preprocessing, modeling, analyzing and interpreting large, multi-source, incomplete, incongruent, and heterogeneous data (big data). the focus will be to expose students to common challenges related to handling big data and present the enormous opportunities and power associated with our ability to interrogate such complex datasets, extract useful information, derive knowledge, and provide actionable forecasting. biomedical, healthcare, and social datasets will provide context for addressing specific driving challenges. students will learn about modern data analytic techniques and develop skills for importing and exporting, cleaning and fusing, modeling and visualizing, analyzing and synthesizing complex datasets. the collaborative design, implementation, sharing and community validation of high-throughput analytic workflows will be emphasized thorought the course.'"
      ],
      "text/plain": [
       "[1] \"hs650: the data science and predictive analytics (dspa) course (offered as a massive open online course, mooc, as well as a traditional university of michigan class) aims to build computational abilities, inferential thinking, and practical skills for tackling core data scientific challenges. it explores foundational concepts in data management, processing, statistical computing, and dynamic visualization using modern programming tools and agile web-services. concepts, ideas, and protocols are illustrated through examples of real observational, simulated and research-derived datasets. some prior quantitative experience in programming, calculus, statistics, mathematical models, or linear algebra will be necessary. this open graduate course will provide a general overview of the principles, concepts, techniques, tools and services for managing, harmonizing, aggregating, preprocessing, modeling, analyzing and interpreting large, multi-source, incomplete, incongruent, and heterogeneous data (big data). the focus will be to expose students to common challenges related to handling big data and present the enormous opportunities and power associated with our ability to interrogate such complex datasets, extract useful information, derive knowledge, and provide actionable forecasting. biomedical, healthcare, and social datasets will provide context for addressing specific driving challenges. students will learn about modern data analytic techniques and develop skills for importing and exporting, cleaning and fusing, modeling and visualizing, analyzing and synthesizing complex datasets. the collaborative design, implementation, sharing and community validation of high-throughput analytic workflows will be emphasized thorought the course.\""
      ]
     },
     "metadata": {},
     "output_type": "display_data"
    }
   ],
   "source": [
    "doc_corpus <- tm_map(doc_corpus, stripWhitespace)\n",
    "doc_corpus[[1]]"
   ]
  },
  {
   "cell_type": "code",
   "execution_count": 43,
   "id": "d6810035-6513-4bd4-9bdc-7df86cf5e7b7",
   "metadata": {},
   "outputs": [
    {
     "data": {
      "text/html": [
       "' bioinformatics 501 the mathematical foundations for bioinformatics course covers some of the fundamental mathematical techniques commonly used in bioinformatics and biomedical research these include 1 principles of multi variable calculus and complex numbersfunctions 2 foundations of linear algebra such as linear spaces eigenvalues and vectors singular value decomposition spectral graph theory and markov chains 3 differential equations and their usage in biomedical system which includes topic such as existence and uniqueness of solutions two dimensional linear systems bifurcations in one and two dimensional systems and cellular dynamics and 4 optimization methods such as free and constrained optimization lagrange multipliers data denoising using optimization and heuristic methods demonstrations using matlab r and python are included throughout the course'"
      ],
      "text/latex": [
       "' bioinformatics 501 the mathematical foundations for bioinformatics course covers some of the fundamental mathematical techniques commonly used in bioinformatics and biomedical research these include 1 principles of multi variable calculus and complex numbersfunctions 2 foundations of linear algebra such as linear spaces eigenvalues and vectors singular value decomposition spectral graph theory and markov chains 3 differential equations and their usage in biomedical system which includes topic such as existence and uniqueness of solutions two dimensional linear systems bifurcations in one and two dimensional systems and cellular dynamics and 4 optimization methods such as free and constrained optimization lagrange multipliers data denoising using optimization and heuristic methods demonstrations using matlab r and python are included throughout the course'"
      ],
      "text/markdown": [
       "' bioinformatics 501 the mathematical foundations for bioinformatics course covers some of the fundamental mathematical techniques commonly used in bioinformatics and biomedical research these include 1 principles of multi variable calculus and complex numbersfunctions 2 foundations of linear algebra such as linear spaces eigenvalues and vectors singular value decomposition spectral graph theory and markov chains 3 differential equations and their usage in biomedical system which includes topic such as existence and uniqueness of solutions two dimensional linear systems bifurcations in one and two dimensional systems and cellular dynamics and 4 optimization methods such as free and constrained optimization lagrange multipliers data denoising using optimization and heuristic methods demonstrations using matlab r and python are included throughout the course'"
      ],
      "text/plain": [
       "[1] \" bioinformatics 501 the mathematical foundations for bioinformatics course covers some of the fundamental mathematical techniques commonly used in bioinformatics and biomedical research these include 1 principles of multi variable calculus and complex numbersfunctions 2 foundations of linear algebra such as linear spaces eigenvalues and vectors singular value decomposition spectral graph theory and markov chains 3 differential equations and their usage in biomedical system which includes topic such as existence and uniqueness of solutions two dimensional linear systems bifurcations in one and two dimensional systems and cellular dynamics and 4 optimization methods such as free and constrained optimization lagrange multipliers data denoising using optimization and heuristic methods demonstrations using matlab r and python are included throughout the course\""
      ]
     },
     "metadata": {},
     "output_type": "display_data"
    }
   ],
   "source": [
    "doc_corpus <- tm_map(doc_corpus, removePunctuation)\n",
    "doc_corpus[[2]]"
   ]
  },
  {
   "cell_type": "code",
   "execution_count": 44,
   "id": "87924d5f-1c60-406d-a74e-e371fcf9a54d",
   "metadata": {},
   "outputs": [
    {
     "data": {
      "text/html": [
       "'hs650 the data science and predictive analytics dspa course offered as a massive open online course mooc as well as a traditional university of michigan class aims to build computational abilities inferential thinking and practical skills for tackling core data scientific challenges it explores foundational concepts in data management processing statistical computing and dynamic visualization using modern programming tools and agile webservices concepts ideas and protocols are illustrated through examples of real observational simulated and researchderived datasets some prior quantitative experience in programming calculus statistics mathematical models or linear algebra will be necessary this open graduate course will provide a general overview of the principles concepts techniques tools and services for managing harmonizing aggregating preprocessing modeling analyzing and interpreting large multisource incomplete incongruent and heterogeneous data big data the focus will be to expose students to common challenges related to handling big data and present the enormous opportunities and power associated with our ability to interrogate such complex datasets extract useful information derive knowledge and provide actionable forecasting biomedical healthcare and social datasets will provide context for addressing specific driving challenges students will learn about modern data analytic techniques and develop skills for importing and exporting cleaning and fusing modeling and visualizing analyzing and synthesizing complex datasets the collaborative design implementation sharing and community validation of highthroughput analytic workflows will be emphasized thorought the course'"
      ],
      "text/latex": [
       "'hs650 the data science and predictive analytics dspa course offered as a massive open online course mooc as well as a traditional university of michigan class aims to build computational abilities inferential thinking and practical skills for tackling core data scientific challenges it explores foundational concepts in data management processing statistical computing and dynamic visualization using modern programming tools and agile webservices concepts ideas and protocols are illustrated through examples of real observational simulated and researchderived datasets some prior quantitative experience in programming calculus statistics mathematical models or linear algebra will be necessary this open graduate course will provide a general overview of the principles concepts techniques tools and services for managing harmonizing aggregating preprocessing modeling analyzing and interpreting large multisource incomplete incongruent and heterogeneous data big data the focus will be to expose students to common challenges related to handling big data and present the enormous opportunities and power associated with our ability to interrogate such complex datasets extract useful information derive knowledge and provide actionable forecasting biomedical healthcare and social datasets will provide context for addressing specific driving challenges students will learn about modern data analytic techniques and develop skills for importing and exporting cleaning and fusing modeling and visualizing analyzing and synthesizing complex datasets the collaborative design implementation sharing and community validation of highthroughput analytic workflows will be emphasized thorought the course'"
      ],
      "text/markdown": [
       "'hs650 the data science and predictive analytics dspa course offered as a massive open online course mooc as well as a traditional university of michigan class aims to build computational abilities inferential thinking and practical skills for tackling core data scientific challenges it explores foundational concepts in data management processing statistical computing and dynamic visualization using modern programming tools and agile webservices concepts ideas and protocols are illustrated through examples of real observational simulated and researchderived datasets some prior quantitative experience in programming calculus statistics mathematical models or linear algebra will be necessary this open graduate course will provide a general overview of the principles concepts techniques tools and services for managing harmonizing aggregating preprocessing modeling analyzing and interpreting large multisource incomplete incongruent and heterogeneous data big data the focus will be to expose students to common challenges related to handling big data and present the enormous opportunities and power associated with our ability to interrogate such complex datasets extract useful information derive knowledge and provide actionable forecasting biomedical healthcare and social datasets will provide context for addressing specific driving challenges students will learn about modern data analytic techniques and develop skills for importing and exporting cleaning and fusing modeling and visualizing analyzing and synthesizing complex datasets the collaborative design implementation sharing and community validation of highthroughput analytic workflows will be emphasized thorought the course'"
      ],
      "text/plain": [
       "[1] \"hs650 the data science and predictive analytics dspa course offered as a massive open online course mooc as well as a traditional university of michigan class aims to build computational abilities inferential thinking and practical skills for tackling core data scientific challenges it explores foundational concepts in data management processing statistical computing and dynamic visualization using modern programming tools and agile webservices concepts ideas and protocols are illustrated through examples of real observational simulated and researchderived datasets some prior quantitative experience in programming calculus statistics mathematical models or linear algebra will be necessary this open graduate course will provide a general overview of the principles concepts techniques tools and services for managing harmonizing aggregating preprocessing modeling analyzing and interpreting large multisource incomplete incongruent and heterogeneous data big data the focus will be to expose students to common challenges related to handling big data and present the enormous opportunities and power associated with our ability to interrogate such complex datasets extract useful information derive knowledge and provide actionable forecasting biomedical healthcare and social datasets will provide context for addressing specific driving challenges students will learn about modern data analytic techniques and develop skills for importing and exporting cleaning and fusing modeling and visualizing analyzing and synthesizing complex datasets the collaborative design implementation sharing and community validation of highthroughput analytic workflows will be emphasized thorought the course\""
      ]
     },
     "metadata": {},
     "output_type": "display_data"
    }
   ],
   "source": [
    "doc_corpus <- tm_map(doc_corpus, PlainTextDocument)\n",
    "doc_corpus[[1]]$content"
   ]
  },
  {
   "cell_type": "code",
   "execution_count": 45,
   "id": "0a57ef4c-39e3-4b9c-a895-876e490abbda",
   "metadata": {},
   "outputs": [
    {
     "data": {
      "text/html": [
       "'hs650 the data scienc and predict analyt dspa cours offer as a massiv open onlin cours mooc as well as a tradit univers of michigan class aim to build comput abil inferenti think and practic skill for tackl core data scientif challeng it explor foundat concept in data manag process statist comput and dynam visual use modern program tool and agil webservic concept idea and protocol are illustr through exampl of real observ simul and researchderiv dataset some prior quantit experi in program calculus statist mathemat model or linear algebra will be necessari this open graduat cours will provid a general overview of the principl concept techniqu tool and servic for manag harmon aggreg preprocess model analyz and interpret larg multisourc incomplet incongru and heterogen data big data the focus will be to expos student to common challeng relat to handl big data and present the enorm opportun and power associ with our abil to interrog such complex dataset extract use inform deriv knowledg and provid action forecast biomed healthcar and social dataset will provid context for address specif drive challeng student will learn about modern data analyt techniqu and develop skill for import and export clean and fuse model and visual analyz and synthes complex dataset the collabor design implement share and communiti valid of highthroughput analyt workflow will be emphas thorought the cours'"
      ],
      "text/latex": [
       "'hs650 the data scienc and predict analyt dspa cours offer as a massiv open onlin cours mooc as well as a tradit univers of michigan class aim to build comput abil inferenti think and practic skill for tackl core data scientif challeng it explor foundat concept in data manag process statist comput and dynam visual use modern program tool and agil webservic concept idea and protocol are illustr through exampl of real observ simul and researchderiv dataset some prior quantit experi in program calculus statist mathemat model or linear algebra will be necessari this open graduat cours will provid a general overview of the principl concept techniqu tool and servic for manag harmon aggreg preprocess model analyz and interpret larg multisourc incomplet incongru and heterogen data big data the focus will be to expos student to common challeng relat to handl big data and present the enorm opportun and power associ with our abil to interrog such complex dataset extract use inform deriv knowledg and provid action forecast biomed healthcar and social dataset will provid context for address specif drive challeng student will learn about modern data analyt techniqu and develop skill for import and export clean and fuse model and visual analyz and synthes complex dataset the collabor design implement share and communiti valid of highthroughput analyt workflow will be emphas thorought the cours'"
      ],
      "text/markdown": [
       "'hs650 the data scienc and predict analyt dspa cours offer as a massiv open onlin cours mooc as well as a tradit univers of michigan class aim to build comput abil inferenti think and practic skill for tackl core data scientif challeng it explor foundat concept in data manag process statist comput and dynam visual use modern program tool and agil webservic concept idea and protocol are illustr through exampl of real observ simul and researchderiv dataset some prior quantit experi in program calculus statist mathemat model or linear algebra will be necessari this open graduat cours will provid a general overview of the principl concept techniqu tool and servic for manag harmon aggreg preprocess model analyz and interpret larg multisourc incomplet incongru and heterogen data big data the focus will be to expos student to common challeng relat to handl big data and present the enorm opportun and power associ with our abil to interrog such complex dataset extract use inform deriv knowledg and provid action forecast biomed healthcar and social dataset will provid context for address specif drive challeng student will learn about modern data analyt techniqu and develop skill for import and export clean and fuse model and visual analyz and synthes complex dataset the collabor design implement share and communiti valid of highthroughput analyt workflow will be emphas thorought the cours'"
      ],
      "text/plain": [
       "[1] \"hs650 the data scienc and predict analyt dspa cours offer as a massiv open onlin cours mooc as well as a tradit univers of michigan class aim to build comput abil inferenti think and practic skill for tackl core data scientif challeng it explor foundat concept in data manag process statist comput and dynam visual use modern program tool and agil webservic concept idea and protocol are illustr through exampl of real observ simul and researchderiv dataset some prior quantit experi in program calculus statist mathemat model or linear algebra will be necessari this open graduat cours will provid a general overview of the principl concept techniqu tool and servic for manag harmon aggreg preprocess model analyz and interpret larg multisourc incomplet incongru and heterogen data big data the focus will be to expos student to common challeng relat to handl big data and present the enorm opportun and power associ with our abil to interrog such complex dataset extract use inform deriv knowledg and provid action forecast biomed healthcar and social dataset will provid context for address specif drive challeng student will learn about modern data analyt techniqu and develop skill for import and export clean and fuse model and visual analyz and synthes complex dataset the collabor design implement share and communiti valid of highthroughput analyt workflow will be emphas thorought the cours\""
      ]
     },
     "metadata": {},
     "output_type": "display_data"
    }
   ],
   "source": [
    "library(SnowballC)\n",
    "doc_corpus <- tm_map(doc_corpus, stemDocument)\n",
    "doc_corpus[[1]]$content"
   ]
  },
  {
   "cell_type": "code",
   "execution_count": 46,
   "id": "eaaba7ff-9d15-480a-9fb5-e2fed7029db4",
   "metadata": {},
   "outputs": [
    {
     "data": {
      "text/plain": [
       "<<TermDocumentMatrix (terms: 355, documents: 5)>>\n",
       "Non-/sparse entries: 530/1245\n",
       "Sparsity           : 70%\n",
       "Maximal term length: 27\n",
       "Weighting          : term frequency (tf)"
      ]
     },
     "metadata": {},
     "output_type": "display_data"
    }
   ],
   "source": [
    "doc_dtm <- TermDocumentMatrix(doc_corpus)\n",
    "doc_dtm"
   ]
  },
  {
   "cell_type": "code",
   "execution_count": 47,
   "id": "b76933c3-be48-4018-931c-8d212ca891ed",
   "metadata": {},
   "outputs": [
    {
     "name": "stdout",
     "output_type": "stream",
     "text": [
      "<<TermDocumentMatrix (terms: 355, documents: 5)>>\n",
      "Non-/sparse entries: 530/1245\n",
      "Sparsity           : 70%\n",
      "Maximal term length: 27\n",
      "Weighting          : term frequency (tf)\n",
      "Sample             :\n",
      "         Docs\n",
      "Terms      1  2  3  4 5\n",
      "  and     19 12 13 10 7\n",
      "  cours    4  2  3  3 2\n",
      "  data     7  1  5  3 6\n",
      "  infer    0  0  2  6 2\n",
      "  method   0  2  5  3 2\n",
      "  model    3  0  4  3 3\n",
      "  statist  2  0  1  5 4\n",
      "  the      6  3  2  2 2\n",
      "  use      2  3  1  3 2\n",
      "  will     6  0  3  4 3\n"
     ]
    }
   ],
   "source": [
    "doc_dtm$dimnames$Docs<-as.character(1:5)\n",
    "inspect(doc_dtm)"
   ]
  },
  {
   "cell_type": "code",
   "execution_count": 48,
   "id": "1346a721-c3a8-4b8e-9cf7-79b2e138190b",
   "metadata": {},
   "outputs": [
    {
     "data": {
      "text/html": [
       "<style>\n",
       ".list-inline {list-style: none; margin:0; padding: 0}\n",
       ".list-inline>li {display: inline-block}\n",
       ".list-inline>li:not(:last-child)::after {content: \"\\00b7\"; padding: 0 .5ex}\n",
       "</style>\n",
       "<ol class=list-inline><li>'abil'</li><li>'address'</li><li>'advanc'</li><li>'algebra'</li><li>'analysi'</li><li>'analyt'</li><li>'analyz'</li><li>'and'</li><li>'appli'</li><li>'appropri'</li><li>'are'</li><li>'associ'</li><li>'assumpt'</li><li>'bayesian'</li><li>'big'</li><li>'bioinformat'</li><li>'biomed'</li><li>'calculus'</li><li>'challeng'</li><li>'common'</li><li>'complex'</li><li>'comput'</li><li>'concept'</li><li>'conduct'</li><li>'core'</li><li>'cours'</li><li>'cover'</li><li>'credit'</li><li>'data'</li><li>'dataset'</li><li>'design'</li><li>'dimension'</li><li>'drive'</li><li>'dynam'</li><li>'emphas'</li><li>'epidemiolog'</li><li>'equat'</li><li>'estim'</li><li>'exampl'</li><li>'experi'</li><li>'focus'</li><li>'for'</li><li>'foundat'</li><li>'general'</li><li>'handl'</li><li>'health'</li><li>'healthcar'</li><li>'heterogen'</li><li>'hour'</li><li>'how'</li><li>'hs550'</li><li>'includ'</li><li>'incomplet'</li><li>'infer'</li><li>'inform'</li><li>'innov'</li><li>'interpret'</li><li>'interrog'</li><li>'knowledg'</li><li>'labdiscuss'</li><li>'learn'</li><li>'lectur'</li><li>'limit'</li><li>'linear'</li><li>'manag'</li><li>'mathemat'</li><li>'measur'</li><li>'method'</li><li>'misconcept'</li><li>'model'</li><li>'modern'</li><li>'multipl'</li><li>'observ'</li><li>'open'</li><li>'optim'</li><li>'power'</li><li>'present'</li><li>'principl'</li><li>'probabl'</li><li>'problem'</li><li>'process'</li><li>'program'</li><li>'provid'</li><li>'publish'</li><li>'read'</li><li>'real'</li><li>'recent'</li><li>'regress'</li><li>'report'</li><li>'research'</li><li>'review'</li><li>'sampl'</li><li>'scienc'</li><li>'scientif'</li><li>'skill'</li><li>'softwar'</li><li>'some'</li><li>'specif'</li><li>'statist'</li><li>'student'</li><li>'studi'</li><li>'such'</li><li>'system'</li><li>'techniqu'</li><li>'test'</li><li>'the'</li><li>'their'</li><li>'theori'</li><li>'this'</li><li>'throughout'</li><li>'tool'</li><li>'topic'</li><li>'two'</li><li>'understand'</li><li>'use'</li><li>'variabl'</li><li>'visual'</li><li>'will'</li><li>'with'</li></ol>\n"
      ],
      "text/latex": [
       "\\begin{enumerate*}\n",
       "\\item 'abil'\n",
       "\\item 'address'\n",
       "\\item 'advanc'\n",
       "\\item 'algebra'\n",
       "\\item 'analysi'\n",
       "\\item 'analyt'\n",
       "\\item 'analyz'\n",
       "\\item 'and'\n",
       "\\item 'appli'\n",
       "\\item 'appropri'\n",
       "\\item 'are'\n",
       "\\item 'associ'\n",
       "\\item 'assumpt'\n",
       "\\item 'bayesian'\n",
       "\\item 'big'\n",
       "\\item 'bioinformat'\n",
       "\\item 'biomed'\n",
       "\\item 'calculus'\n",
       "\\item 'challeng'\n",
       "\\item 'common'\n",
       "\\item 'complex'\n",
       "\\item 'comput'\n",
       "\\item 'concept'\n",
       "\\item 'conduct'\n",
       "\\item 'core'\n",
       "\\item 'cours'\n",
       "\\item 'cover'\n",
       "\\item 'credit'\n",
       "\\item 'data'\n",
       "\\item 'dataset'\n",
       "\\item 'design'\n",
       "\\item 'dimension'\n",
       "\\item 'drive'\n",
       "\\item 'dynam'\n",
       "\\item 'emphas'\n",
       "\\item 'epidemiolog'\n",
       "\\item 'equat'\n",
       "\\item 'estim'\n",
       "\\item 'exampl'\n",
       "\\item 'experi'\n",
       "\\item 'focus'\n",
       "\\item 'for'\n",
       "\\item 'foundat'\n",
       "\\item 'general'\n",
       "\\item 'handl'\n",
       "\\item 'health'\n",
       "\\item 'healthcar'\n",
       "\\item 'heterogen'\n",
       "\\item 'hour'\n",
       "\\item 'how'\n",
       "\\item 'hs550'\n",
       "\\item 'includ'\n",
       "\\item 'incomplet'\n",
       "\\item 'infer'\n",
       "\\item 'inform'\n",
       "\\item 'innov'\n",
       "\\item 'interpret'\n",
       "\\item 'interrog'\n",
       "\\item 'knowledg'\n",
       "\\item 'labdiscuss'\n",
       "\\item 'learn'\n",
       "\\item 'lectur'\n",
       "\\item 'limit'\n",
       "\\item 'linear'\n",
       "\\item 'manag'\n",
       "\\item 'mathemat'\n",
       "\\item 'measur'\n",
       "\\item 'method'\n",
       "\\item 'misconcept'\n",
       "\\item 'model'\n",
       "\\item 'modern'\n",
       "\\item 'multipl'\n",
       "\\item 'observ'\n",
       "\\item 'open'\n",
       "\\item 'optim'\n",
       "\\item 'power'\n",
       "\\item 'present'\n",
       "\\item 'principl'\n",
       "\\item 'probabl'\n",
       "\\item 'problem'\n",
       "\\item 'process'\n",
       "\\item 'program'\n",
       "\\item 'provid'\n",
       "\\item 'publish'\n",
       "\\item 'read'\n",
       "\\item 'real'\n",
       "\\item 'recent'\n",
       "\\item 'regress'\n",
       "\\item 'report'\n",
       "\\item 'research'\n",
       "\\item 'review'\n",
       "\\item 'sampl'\n",
       "\\item 'scienc'\n",
       "\\item 'scientif'\n",
       "\\item 'skill'\n",
       "\\item 'softwar'\n",
       "\\item 'some'\n",
       "\\item 'specif'\n",
       "\\item 'statist'\n",
       "\\item 'student'\n",
       "\\item 'studi'\n",
       "\\item 'such'\n",
       "\\item 'system'\n",
       "\\item 'techniqu'\n",
       "\\item 'test'\n",
       "\\item 'the'\n",
       "\\item 'their'\n",
       "\\item 'theori'\n",
       "\\item 'this'\n",
       "\\item 'throughout'\n",
       "\\item 'tool'\n",
       "\\item 'topic'\n",
       "\\item 'two'\n",
       "\\item 'understand'\n",
       "\\item 'use'\n",
       "\\item 'variabl'\n",
       "\\item 'visual'\n",
       "\\item 'will'\n",
       "\\item 'with'\n",
       "\\end{enumerate*}\n"
      ],
      "text/markdown": [
       "1. 'abil'\n",
       "2. 'address'\n",
       "3. 'advanc'\n",
       "4. 'algebra'\n",
       "5. 'analysi'\n",
       "6. 'analyt'\n",
       "7. 'analyz'\n",
       "8. 'and'\n",
       "9. 'appli'\n",
       "10. 'appropri'\n",
       "11. 'are'\n",
       "12. 'associ'\n",
       "13. 'assumpt'\n",
       "14. 'bayesian'\n",
       "15. 'big'\n",
       "16. 'bioinformat'\n",
       "17. 'biomed'\n",
       "18. 'calculus'\n",
       "19. 'challeng'\n",
       "20. 'common'\n",
       "21. 'complex'\n",
       "22. 'comput'\n",
       "23. 'concept'\n",
       "24. 'conduct'\n",
       "25. 'core'\n",
       "26. 'cours'\n",
       "27. 'cover'\n",
       "28. 'credit'\n",
       "29. 'data'\n",
       "30. 'dataset'\n",
       "31. 'design'\n",
       "32. 'dimension'\n",
       "33. 'drive'\n",
       "34. 'dynam'\n",
       "35. 'emphas'\n",
       "36. 'epidemiolog'\n",
       "37. 'equat'\n",
       "38. 'estim'\n",
       "39. 'exampl'\n",
       "40. 'experi'\n",
       "41. 'focus'\n",
       "42. 'for'\n",
       "43. 'foundat'\n",
       "44. 'general'\n",
       "45. 'handl'\n",
       "46. 'health'\n",
       "47. 'healthcar'\n",
       "48. 'heterogen'\n",
       "49. 'hour'\n",
       "50. 'how'\n",
       "51. 'hs550'\n",
       "52. 'includ'\n",
       "53. 'incomplet'\n",
       "54. 'infer'\n",
       "55. 'inform'\n",
       "56. 'innov'\n",
       "57. 'interpret'\n",
       "58. 'interrog'\n",
       "59. 'knowledg'\n",
       "60. 'labdiscuss'\n",
       "61. 'learn'\n",
       "62. 'lectur'\n",
       "63. 'limit'\n",
       "64. 'linear'\n",
       "65. 'manag'\n",
       "66. 'mathemat'\n",
       "67. 'measur'\n",
       "68. 'method'\n",
       "69. 'misconcept'\n",
       "70. 'model'\n",
       "71. 'modern'\n",
       "72. 'multipl'\n",
       "73. 'observ'\n",
       "74. 'open'\n",
       "75. 'optim'\n",
       "76. 'power'\n",
       "77. 'present'\n",
       "78. 'principl'\n",
       "79. 'probabl'\n",
       "80. 'problem'\n",
       "81. 'process'\n",
       "82. 'program'\n",
       "83. 'provid'\n",
       "84. 'publish'\n",
       "85. 'read'\n",
       "86. 'real'\n",
       "87. 'recent'\n",
       "88. 'regress'\n",
       "89. 'report'\n",
       "90. 'research'\n",
       "91. 'review'\n",
       "92. 'sampl'\n",
       "93. 'scienc'\n",
       "94. 'scientif'\n",
       "95. 'skill'\n",
       "96. 'softwar'\n",
       "97. 'some'\n",
       "98. 'specif'\n",
       "99. 'statist'\n",
       "100. 'student'\n",
       "101. 'studi'\n",
       "102. 'such'\n",
       "103. 'system'\n",
       "104. 'techniqu'\n",
       "105. 'test'\n",
       "106. 'the'\n",
       "107. 'their'\n",
       "108. 'theori'\n",
       "109. 'this'\n",
       "110. 'throughout'\n",
       "111. 'tool'\n",
       "112. 'topic'\n",
       "113. 'two'\n",
       "114. 'understand'\n",
       "115. 'use'\n",
       "116. 'variabl'\n",
       "117. 'visual'\n",
       "118. 'will'\n",
       "119. 'with'\n",
       "\n",
       "\n"
      ],
      "text/plain": [
       "  [1] \"abil\"        \"address\"     \"advanc\"      \"algebra\"     \"analysi\"    \n",
       "  [6] \"analyt\"      \"analyz\"      \"and\"         \"appli\"       \"appropri\"   \n",
       " [11] \"are\"         \"associ\"      \"assumpt\"     \"bayesian\"    \"big\"        \n",
       " [16] \"bioinformat\" \"biomed\"      \"calculus\"    \"challeng\"    \"common\"     \n",
       " [21] \"complex\"     \"comput\"      \"concept\"     \"conduct\"     \"core\"       \n",
       " [26] \"cours\"       \"cover\"       \"credit\"      \"data\"        \"dataset\"    \n",
       " [31] \"design\"      \"dimension\"   \"drive\"       \"dynam\"       \"emphas\"     \n",
       " [36] \"epidemiolog\" \"equat\"       \"estim\"       \"exampl\"      \"experi\"     \n",
       " [41] \"focus\"       \"for\"         \"foundat\"     \"general\"     \"handl\"      \n",
       " [46] \"health\"      \"healthcar\"   \"heterogen\"   \"hour\"        \"how\"        \n",
       " [51] \"hs550\"       \"includ\"      \"incomplet\"   \"infer\"       \"inform\"     \n",
       " [56] \"innov\"       \"interpret\"   \"interrog\"    \"knowledg\"    \"labdiscuss\" \n",
       " [61] \"learn\"       \"lectur\"      \"limit\"       \"linear\"      \"manag\"      \n",
       " [66] \"mathemat\"    \"measur\"      \"method\"      \"misconcept\"  \"model\"      \n",
       " [71] \"modern\"      \"multipl\"     \"observ\"      \"open\"        \"optim\"      \n",
       " [76] \"power\"       \"present\"     \"principl\"    \"probabl\"     \"problem\"    \n",
       " [81] \"process\"     \"program\"     \"provid\"      \"publish\"     \"read\"       \n",
       " [86] \"real\"        \"recent\"      \"regress\"     \"report\"      \"research\"   \n",
       " [91] \"review\"      \"sampl\"       \"scienc\"      \"scientif\"    \"skill\"      \n",
       " [96] \"softwar\"     \"some\"        \"specif\"      \"statist\"     \"student\"    \n",
       "[101] \"studi\"       \"such\"        \"system\"      \"techniqu\"    \"test\"       \n",
       "[106] \"the\"         \"their\"       \"theori\"      \"this\"        \"throughout\" \n",
       "[111] \"tool\"        \"topic\"       \"two\"         \"understand\"  \"use\"        \n",
       "[116] \"variabl\"     \"visual\"      \"will\"        \"with\"       "
      ]
     },
     "metadata": {},
     "output_type": "display_data"
    }
   ],
   "source": [
    "findFreqTerms(doc_dtm, lowfreq=2)"
   ]
  },
  {
   "cell_type": "code",
   "execution_count": 49,
   "id": "89504fd5-46f8-48b9-9438-182edd1da72d",
   "metadata": {},
   "outputs": [
    {
     "data": {
      "text/html": [
       "<strong>$statist</strong> = <style>\n",
       ".dl-inline {width: auto; margin:0; padding: 0}\n",
       ".dl-inline>dt, .dl-inline>dd {float: none; width: auto; display: inline-block}\n",
       ".dl-inline>dt::after {content: \":\\0020\"; padding-right: .5ex}\n",
       ".dl-inline>dt:not(:first-of-type) {padding-left: .5ex}\n",
       "</style><dl class=dl-inline><dt>epidemiolog</dt><dd>0.92</dd><dt>interpret</dt><dd>0.92</dd><dt>publish</dt><dd>0.92</dd><dt>softwar</dt><dd>0.92</dd><dt>studi</dt><dd>0.92</dd><dt>understand</dt><dd>0.92</dd><dt>specif</dt><dd>0.85</dd><dt>this</dt><dd>0.85</dd><dt>appli</dt><dd>0.84</dd></dl>\n"
      ],
      "text/latex": [
       "\\textbf{\\$statist} = \\begin{description*}\n",
       "\\item[epidemiolog] 0.92\n",
       "\\item[interpret] 0.92\n",
       "\\item[publish] 0.92\n",
       "\\item[softwar] 0.92\n",
       "\\item[studi] 0.92\n",
       "\\item[understand] 0.92\n",
       "\\item[specif] 0.85\n",
       "\\item[this] 0.85\n",
       "\\item[appli] 0.84\n",
       "\\end{description*}\n"
      ],
      "text/markdown": [
       "**$statist** = epidemiolog\n",
       ":   0.92interpret\n",
       ":   0.92publish\n",
       ":   0.92softwar\n",
       ":   0.92studi\n",
       ":   0.92understand\n",
       ":   0.92specif\n",
       ":   0.85this\n",
       ":   0.85appli\n",
       ":   0.84\n",
       "\n"
      ],
      "text/plain": [
       "$statist\n",
       "epidemiolog   interpret     publish     softwar       studi  understand \n",
       "       0.92        0.92        0.92        0.92        0.92        0.92 \n",
       "     specif        this       appli \n",
       "       0.85        0.85        0.84 \n"
      ]
     },
     "metadata": {},
     "output_type": "display_data"
    }
   ],
   "source": [
    "findAssocs(doc_dtm, \"statist\", corlimit=0.8)"
   ]
  },
  {
   "cell_type": "markdown",
   "id": "e4072bc7-835b-4961-a277-c673489fe6a0",
   "metadata": {},
   "source": [
    "### Job Ranking "
   ]
  },
  {
   "cell_type": "code",
   "execution_count": 53,
   "id": "55a0e58b-498c-4c9c-9980-71f30658b65a",
   "metadata": {},
   "outputs": [
    {
     "data": {
      "text/html": [
       "<table class=\"dataframe\">\n",
       "<caption>A data.frame: 6 × 10</caption>\n",
       "<thead>\n",
       "\t<tr><th></th><th scope=col>Index</th><th scope=col>Job_Title</th><th scope=col>Overall_Score</th><th scope=col>Average_Income.USD.</th><th scope=col>Work_Environment</th><th scope=col>Stress_Level</th><th scope=col>Stress_Category</th><th scope=col>Physical_Demand</th><th scope=col>Hiring_Potential</th><th scope=col>Description</th></tr>\n",
       "\t<tr><th></th><th scope=col>&lt;int&gt;</th><th scope=col>&lt;chr&gt;</th><th scope=col>&lt;int&gt;</th><th scope=col>&lt;int&gt;</th><th scope=col>&lt;dbl&gt;</th><th scope=col>&lt;dbl&gt;</th><th scope=col>&lt;int&gt;</th><th scope=col>&lt;dbl&gt;</th><th scope=col>&lt;dbl&gt;</th><th scope=col>&lt;chr&gt;</th></tr>\n",
       "</thead>\n",
       "<tbody>\n",
       "\t<tr><th scope=row>1</th><td>1</td><td>Software_Engineer       </td><td> 60</td><td>87140</td><td>150.00</td><td>10.40</td><td>1</td><td>5.00</td><td>27.40</td><td>Researches_designs_develops_and_maintains_software_systems_along_with_hardware_development_for_medical_scientific_and_industrial_purposes</td></tr>\n",
       "\t<tr><th scope=row>2</th><td>2</td><td>Mathematician           </td><td> 73</td><td>94178</td><td> 89.72</td><td>12.78</td><td>1</td><td>3.97</td><td>19.78</td><td>Applies_mathematical_theories_and_formulas_to_teach_or_solve_problems_in_a_business_educational_or_industrial_climate                    </td></tr>\n",
       "\t<tr><th scope=row>3</th><td>3</td><td>Actuary                 </td><td>123</td><td>87204</td><td>179.44</td><td>16.04</td><td>1</td><td>3.97</td><td>17.04</td><td>Interprets_statistics_to_determine_probabilities_of_accidents_sickness_and_death_and_loss_of_property_from_theft_and_natural_disasters   </td></tr>\n",
       "\t<tr><th scope=row>4</th><td>4</td><td>Statistician            </td><td>129</td><td>73208</td><td> 89.52</td><td>14.08</td><td>1</td><td>3.95</td><td>11.08</td><td>Tabulates_analyzes_and_interprets_the_numeric_results_of_experiments_and_surveys                                                         </td></tr>\n",
       "\t<tr><th scope=row>5</th><td>5</td><td>Computer_Systems_Analyst</td><td>147</td><td>77153</td><td> 90.78</td><td>16.53</td><td>1</td><td>5.08</td><td>15.53</td><td>Plans_and_develops_computer_systems_for_businesses_and_scientific_institutions                                                           </td></tr>\n",
       "\t<tr><th scope=row>6</th><td>6</td><td>Meteorologist           </td><td>175</td><td>85210</td><td>179.64</td><td>15.10</td><td>1</td><td>6.98</td><td>12.10</td><td>Studies_the_physical_characteristics_motions_and_processes_of_the_earth's_atmosphere                                                     </td></tr>\n",
       "</tbody>\n",
       "</table>\n"
      ],
      "text/latex": [
       "A data.frame: 6 × 10\n",
       "\\begin{tabular}{r|llllllllll}\n",
       "  & Index & Job\\_Title & Overall\\_Score & Average\\_Income.USD. & Work\\_Environment & Stress\\_Level & Stress\\_Category & Physical\\_Demand & Hiring\\_Potential & Description\\\\\n",
       "  & <int> & <chr> & <int> & <int> & <dbl> & <dbl> & <int> & <dbl> & <dbl> & <chr>\\\\\n",
       "\\hline\n",
       "\t1 & 1 & Software\\_Engineer        &  60 & 87140 & 150.00 & 10.40 & 1 & 5.00 & 27.40 & Researches\\_designs\\_develops\\_and\\_maintains\\_software\\_systems\\_along\\_with\\_hardware\\_development\\_for\\_medical\\_scientific\\_and\\_industrial\\_purposes\\\\\n",
       "\t2 & 2 & Mathematician            &  73 & 94178 &  89.72 & 12.78 & 1 & 3.97 & 19.78 & Applies\\_mathematical\\_theories\\_and\\_formulas\\_to\\_teach\\_or\\_solve\\_problems\\_in\\_a\\_business\\_educational\\_or\\_industrial\\_climate                    \\\\\n",
       "\t3 & 3 & Actuary                  & 123 & 87204 & 179.44 & 16.04 & 1 & 3.97 & 17.04 & Interprets\\_statistics\\_to\\_determine\\_probabilities\\_of\\_accidents\\_sickness\\_and\\_death\\_and\\_loss\\_of\\_property\\_from\\_theft\\_and\\_natural\\_disasters   \\\\\n",
       "\t4 & 4 & Statistician             & 129 & 73208 &  89.52 & 14.08 & 1 & 3.95 & 11.08 & Tabulates\\_analyzes\\_and\\_interprets\\_the\\_numeric\\_results\\_of\\_experiments\\_and\\_surveys                                                         \\\\\n",
       "\t5 & 5 & Computer\\_Systems\\_Analyst & 147 & 77153 &  90.78 & 16.53 & 1 & 5.08 & 15.53 & Plans\\_and\\_develops\\_computer\\_systems\\_for\\_businesses\\_and\\_scientific\\_institutions                                                           \\\\\n",
       "\t6 & 6 & Meteorologist            & 175 & 85210 & 179.64 & 15.10 & 1 & 6.98 & 12.10 & Studies\\_the\\_physical\\_characteristics\\_motions\\_and\\_processes\\_of\\_the\\_earth's\\_atmosphere                                                     \\\\\n",
       "\\end{tabular}\n"
      ],
      "text/markdown": [
       "\n",
       "A data.frame: 6 × 10\n",
       "\n",
       "| <!--/--> | Index &lt;int&gt; | Job_Title &lt;chr&gt; | Overall_Score &lt;int&gt; | Average_Income.USD. &lt;int&gt; | Work_Environment &lt;dbl&gt; | Stress_Level &lt;dbl&gt; | Stress_Category &lt;int&gt; | Physical_Demand &lt;dbl&gt; | Hiring_Potential &lt;dbl&gt; | Description &lt;chr&gt; |\n",
       "|---|---|---|---|---|---|---|---|---|---|---|\n",
       "| 1 | 1 | Software_Engineer        |  60 | 87140 | 150.00 | 10.40 | 1 | 5.00 | 27.40 | Researches_designs_develops_and_maintains_software_systems_along_with_hardware_development_for_medical_scientific_and_industrial_purposes |\n",
       "| 2 | 2 | Mathematician            |  73 | 94178 |  89.72 | 12.78 | 1 | 3.97 | 19.78 | Applies_mathematical_theories_and_formulas_to_teach_or_solve_problems_in_a_business_educational_or_industrial_climate                     |\n",
       "| 3 | 3 | Actuary                  | 123 | 87204 | 179.44 | 16.04 | 1 | 3.97 | 17.04 | Interprets_statistics_to_determine_probabilities_of_accidents_sickness_and_death_and_loss_of_property_from_theft_and_natural_disasters    |\n",
       "| 4 | 4 | Statistician             | 129 | 73208 |  89.52 | 14.08 | 1 | 3.95 | 11.08 | Tabulates_analyzes_and_interprets_the_numeric_results_of_experiments_and_surveys                                                          |\n",
       "| 5 | 5 | Computer_Systems_Analyst | 147 | 77153 |  90.78 | 16.53 | 1 | 5.08 | 15.53 | Plans_and_develops_computer_systems_for_businesses_and_scientific_institutions                                                            |\n",
       "| 6 | 6 | Meteorologist            | 175 | 85210 | 179.64 | 15.10 | 1 | 6.98 | 12.10 | Studies_the_physical_characteristics_motions_and_processes_of_the_earth's_atmosphere                                                      |\n",
       "\n"
      ],
      "text/plain": [
       "  Index Job_Title                Overall_Score Average_Income.USD.\n",
       "1 1     Software_Engineer         60           87140              \n",
       "2 2     Mathematician             73           94178              \n",
       "3 3     Actuary                  123           87204              \n",
       "4 4     Statistician             129           73208              \n",
       "5 5     Computer_Systems_Analyst 147           77153              \n",
       "6 6     Meteorologist            175           85210              \n",
       "  Work_Environment Stress_Level Stress_Category Physical_Demand\n",
       "1 150.00           10.40        1               5.00           \n",
       "2  89.72           12.78        1               3.97           \n",
       "3 179.44           16.04        1               3.97           \n",
       "4  89.52           14.08        1               3.95           \n",
       "5  90.78           16.53        1               5.08           \n",
       "6 179.64           15.10        1               6.98           \n",
       "  Hiring_Potential\n",
       "1 27.40           \n",
       "2 19.78           \n",
       "3 17.04           \n",
       "4 11.08           \n",
       "5 15.53           \n",
       "6 12.10           \n",
       "  Description                                                                                                                              \n",
       "1 Researches_designs_develops_and_maintains_software_systems_along_with_hardware_development_for_medical_scientific_and_industrial_purposes\n",
       "2 Applies_mathematical_theories_and_formulas_to_teach_or_solve_problems_in_a_business_educational_or_industrial_climate                    \n",
       "3 Interprets_statistics_to_determine_probabilities_of_accidents_sickness_and_death_and_loss_of_property_from_theft_and_natural_disasters   \n",
       "4 Tabulates_analyzes_and_interprets_the_numeric_results_of_experiments_and_surveys                                                         \n",
       "5 Plans_and_develops_computer_systems_for_businesses_and_scientific_institutions                                                           \n",
       "6 Studies_the_physical_characteristics_motions_and_processes_of_the_earth's_atmosphere                                                     "
      ]
     },
     "metadata": {},
     "output_type": "display_data"
    }
   ],
   "source": [
    "library(rvest)\n",
    "job <-\n",
    "read.csv(\"/home/jose/Downloads/datasets/DSPA/list-of-200-US-jobs.csv\")\n",
    "head(job)"
   ]
  },
  {
   "cell_type": "markdown",
   "id": "0530218d-0756-4928-acb0-7ba6623b2575",
   "metadata": {},
   "source": [
    "### Step 1 : Make a VCorpus Object "
   ]
  },
  {
   "cell_type": "code",
   "execution_count": 54,
   "id": "256e1198-204f-480c-9ba6-ad6e6e25effa",
   "metadata": {},
   "outputs": [],
   "source": [
    "jobs <- as.list(job$Description)\n",
    "jobCorpus <- VCorpus(VectorSource(jobs))"
   ]
  },
  {
   "cell_type": "markdown",
   "id": "94fa6eb3-f5eb-432e-bf6a-86a49c67461a",
   "metadata": {},
   "source": [
    "### Step 2 : Clean the VCorpus object"
   ]
  },
  {
   "cell_type": "code",
   "execution_count": 55,
   "id": "0c93c48f-741e-407d-904e-999a84636cef",
   "metadata": {},
   "outputs": [],
   "source": [
    "jobCorpus <- tm_map(jobCorpus, tolower)\n",
    "for(j in seq(jobCorpus)) { jobCorpus[[j]] <- gsub(\"_\", \"\", jobCorpus[[j]]) }"
   ]
  },
  {
   "cell_type": "code",
   "execution_count": 56,
   "id": "b4cd6117-fc82-4569-a82f-16762d3cdb6e",
   "metadata": {},
   "outputs": [],
   "source": [
    "jobCorpus <- tm_map(jobCorpus, removeWords, stopwords(\"english\"))\n",
    "jobCorpus <- tm_map(jobCorpus, removePunctuation)\n",
    "jobCorpus <- tm_map(jobCorpus, stripWhitespace)\n",
    "jobCorpus <- tm_map(jobCorpus, PlainTextDocument)\n",
    "jobCorpus <- tm_map(jobCorpus, stemDocument)"
   ]
  },
  {
   "cell_type": "markdown",
   "id": "259f4ab4-3e60-4a51-a706-ea17fe2dda1f",
   "metadata": {},
   "source": [
    "### Step 3 : Build document - term matrix"
   ]
  },
  {
   "cell_type": "code",
   "execution_count": null,
   "id": "8df8a82f-943e-46cb-b501-d0b3f7c79990",
   "metadata": {},
   "outputs": [],
   "source": []
  }
 ],
 "metadata": {
  "kernelspec": {
   "display_name": "R",
   "language": "R",
   "name": "ir"
  },
  "language_info": {
   "codemirror_mode": "r",
   "file_extension": ".r",
   "mimetype": "text/x-r-source",
   "name": "R",
   "pygments_lexer": "r",
   "version": "4.3.1"
  }
 },
 "nbformat": 4,
 "nbformat_minor": 5
}
